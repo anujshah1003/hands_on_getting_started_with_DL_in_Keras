{
 "cells": [
  {
   "cell_type": "markdown",
   "metadata": {},
   "source": [
    "# NN in keras Example-1"
   ]
  },
  {
   "cell_type": "markdown",
   "metadata": {},
   "source": [
    "### Generate dummy data"
   ]
  },
  {
   "cell_type": "code",
   "execution_count": 19,
   "metadata": {},
   "outputs": [],
   "source": [
    "import numpy as np\n",
    "from keras import optimizers\n",
    "from keras.models import Sequential\n",
    "from keras.layers import Dense\n",
    "import matplotlib.pyplot as plt\n",
    "%matplotlib inline"
   ]
  },
  {
   "cell_type": "code",
   "execution_count": 7,
   "metadata": {
    "collapsed": true
   },
   "outputs": [],
   "source": [
    "# Generate dummy data\n",
    "data = np.random.random((1000, 100))\n",
    "labels = np.random.randint(2, size=(1000, 1))\n"
   ]
  },
  {
   "cell_type": "code",
   "execution_count": 8,
   "metadata": {},
   "outputs": [
    {
     "data": {
      "text/plain": [
       "array([ 0.41722085,  0.02063201,  0.14513812,  0.99382839,  0.92855192,\n",
       "        0.49734311,  0.50381546,  0.43429303,  0.36889249,  0.16320767,\n",
       "        0.94477878,  0.40128766,  0.53000855,  0.73492404,  0.00758032,\n",
       "        0.56276791,  0.74114979,  0.42791491,  0.69472086,  0.17558324,\n",
       "        0.91080723,  0.20465188,  0.47307865,  0.63922728,  0.134503  ,\n",
       "        0.38835937,  0.36032511,  0.8390777 ,  0.18065845,  0.98943505,\n",
       "        0.82249123,  0.2419539 ,  0.45378342,  0.53233353,  0.6458175 ,\n",
       "        0.67414426,  0.35857571,  0.07195544,  0.71075924,  0.42690255,\n",
       "        0.85693215,  0.26647419,  0.571227  ,  0.28941144,  0.36907423,\n",
       "        0.81504244,  0.84184035,  0.03914499,  0.63887827,  0.26161883,\n",
       "        0.40644866,  0.04434655,  0.20475306,  0.16261524,  0.70897122,\n",
       "        0.6372168 ,  0.09394967,  0.5589588 ,  0.83904635,  0.9062831 ,\n",
       "        0.44217488,  0.55928749,  0.30213025,  0.96869199,  0.71232742,\n",
       "        0.21206504,  0.62988977,  0.25460788,  0.21771298,  0.9361331 ,\n",
       "        0.8181058 ,  0.21552304,  0.07113188,  0.87312271,  0.53655388,\n",
       "        0.06282868,  0.40143702,  0.47464913,  0.02339757,  0.73295816,\n",
       "        0.43324735,  0.08755079,  0.53264283,  0.08947913,  0.68987037,\n",
       "        0.14583036,  0.82146252,  0.48946452,  0.64166569,  0.11793665,\n",
       "        0.38400799,  0.05677409,  0.85513121,  0.96375524,  0.26531314,\n",
       "        0.03677866,  0.26994695,  0.24893281,  0.45624591,  0.78279407])"
      ]
     },
     "execution_count": 8,
     "metadata": {},
     "output_type": "execute_result"
    }
   ],
   "source": [
    "data[0]"
   ]
  },
  {
   "cell_type": "code",
   "execution_count": 9,
   "metadata": {},
   "outputs": [
    {
     "data": {
      "text/plain": [
       "array([[1],\n",
       "       [0],\n",
       "       [1],\n",
       "       [1],\n",
       "       [0],\n",
       "       [1],\n",
       "       [1],\n",
       "       [0],\n",
       "       [1],\n",
       "       [0]])"
      ]
     },
     "execution_count": 9,
     "metadata": {},
     "output_type": "execute_result"
    }
   ],
   "source": [
    "labels[0:10]"
   ]
  },
  {
   "cell_type": "code",
   "execution_count": 10,
   "metadata": {},
   "outputs": [
    {
     "name": "stdout",
     "output_type": "stream",
     "text": [
      "data_shape:  (1000, 100)\n",
      "num_samples:  1000\n",
      "feature_length of each sample:  100\n",
      "labels_shape:  (1000, 1)\n"
     ]
    }
   ],
   "source": [
    "print ('data_shape: ',data.shape)\n",
    "print ('num_samples: ',data.shape[0])\n",
    "print ('feature_length of each sample: ',data.shape[1])\n",
    "print ('labels_shape: ', labels.shape)"
   ]
  },
  {
   "cell_type": "code",
   "execution_count": 24,
   "metadata": {
    "collapsed": true
   },
   "outputs": [],
   "source": [
    "num_epoch = 100\n",
    "batch_size = 32"
   ]
  },
  {
   "cell_type": "code",
   "execution_count": 32,
   "metadata": {},
   "outputs": [
    {
     "name": "stdout",
     "output_type": "stream",
     "text": [
      "Epoch 1/100\n",
      "1000/1000 [==============================] - 0s 452us/step - loss: 0.7383 - acc: 0.5050\n",
      "Epoch 2/100\n",
      "1000/1000 [==============================] - 0s 140us/step - loss: 0.7115 - acc: 0.4770\n",
      "Epoch 3/100\n",
      "1000/1000 [==============================] - 0s 125us/step - loss: 0.7091 - acc: 0.4650\n",
      "Epoch 4/100\n",
      "1000/1000 [==============================] - 0s 172us/step - loss: 0.7074 - acc: 0.4720\n",
      "Epoch 5/100\n",
      "1000/1000 [==============================] - 0s 99us/step - loss: 0.7064 - acc: 0.4720\n",
      "Epoch 6/100\n",
      "1000/1000 [==============================] - 0s 109us/step - loss: 0.7050 - acc: 0.4770\n",
      "Epoch 7/100\n",
      "1000/1000 [==============================] - 0s 109us/step - loss: 0.7038 - acc: 0.4770\n",
      "Epoch 8/100\n",
      "1000/1000 [==============================] - 0s 109us/step - loss: 0.7030 - acc: 0.4800\n",
      "Epoch 9/100\n",
      "1000/1000 [==============================] - 0s 94us/step - loss: 0.7019 - acc: 0.4840\n",
      "Epoch 10/100\n",
      "1000/1000 [==============================] - 0s 109us/step - loss: 0.7008 - acc: 0.4880\n",
      "Epoch 11/100\n",
      "1000/1000 [==============================] - 0s 109us/step - loss: 0.7003 - acc: 0.4790\n",
      "Epoch 12/100\n",
      "1000/1000 [==============================] - 0s 114us/step - loss: 0.6992 - acc: 0.4820\n",
      "Epoch 13/100\n",
      "1000/1000 [==============================] - 0s 109us/step - loss: 0.6982 - acc: 0.4790\n",
      "Epoch 14/100\n",
      "1000/1000 [==============================] - 0s 94us/step - loss: 0.6976 - acc: 0.4910\n",
      "Epoch 15/100\n",
      "1000/1000 [==============================] - 0s 96us/step - loss: 0.6980 - acc: 0.4860\n",
      "Epoch 16/100\n",
      "1000/1000 [==============================] - 0s 94us/step - loss: 0.6961 - acc: 0.4980\n",
      "Epoch 17/100\n",
      "1000/1000 [==============================] - 0s 94us/step - loss: 0.6957 - acc: 0.5000\n",
      "Epoch 18/100\n",
      "1000/1000 [==============================] - 0s 94us/step - loss: 0.6946 - acc: 0.5000\n",
      "Epoch 19/100\n",
      "1000/1000 [==============================] - 0s 94us/step - loss: 0.6945 - acc: 0.5040\n",
      "Epoch 20/100\n",
      "1000/1000 [==============================] - 0s 109us/step - loss: 0.6937 - acc: 0.5170\n",
      "Epoch 21/100\n",
      "1000/1000 [==============================] - 0s 109us/step - loss: 0.6933 - acc: 0.5090\n",
      "Epoch 22/100\n",
      "1000/1000 [==============================] - 0s 109us/step - loss: 0.6927 - acc: 0.5050\n",
      "Epoch 23/100\n",
      "1000/1000 [==============================] - 0s 109us/step - loss: 0.6922 - acc: 0.5150\n",
      "Epoch 24/100\n",
      "1000/1000 [==============================] - 0s 94us/step - loss: 0.6923 - acc: 0.5120\n",
      "Epoch 25/100\n",
      "1000/1000 [==============================] - 0s 99us/step - loss: 0.6912 - acc: 0.5160\n",
      "Epoch 26/100\n",
      "1000/1000 [==============================] - 0s 94us/step - loss: 0.6907 - acc: 0.5190\n",
      "Epoch 27/100\n",
      "1000/1000 [==============================] - 0s 94us/step - loss: 0.6907 - acc: 0.5290\n",
      "Epoch 28/100\n",
      "1000/1000 [==============================] - 0s 109us/step - loss: 0.6900 - acc: 0.5240\n",
      "Epoch 29/100\n",
      "1000/1000 [==============================] - 0s 109us/step - loss: 0.6905 - acc: 0.5070\n",
      "Epoch 30/100\n",
      "1000/1000 [==============================] - 0s 94us/step - loss: 0.6895 - acc: 0.5290\n",
      "Epoch 31/100\n",
      "1000/1000 [==============================] - 0s 94us/step - loss: 0.6896 - acc: 0.5250\n",
      "Epoch 32/100\n",
      "1000/1000 [==============================] - 0s 94us/step - loss: 0.6890 - acc: 0.5340\n",
      "Epoch 33/100\n",
      "1000/1000 [==============================] - 0s 94us/step - loss: 0.6883 - acc: 0.5350\n",
      "Epoch 34/100\n",
      "1000/1000 [==============================] - 0s 80us/step - loss: 0.6882 - acc: 0.5280\n",
      "Epoch 35/100\n",
      "1000/1000 [==============================] - 0s 78us/step - loss: 0.6875 - acc: 0.5410\n",
      "Epoch 36/100\n",
      "1000/1000 [==============================] - 0s 78us/step - loss: 0.6871 - acc: 0.5400\n",
      "Epoch 37/100\n",
      "1000/1000 [==============================] - 0s 78us/step - loss: 0.6869 - acc: 0.5420\n",
      "Epoch 38/100\n",
      "1000/1000 [==============================] - 0s 94us/step - loss: 0.6865 - acc: 0.5510\n",
      "Epoch 39/100\n",
      "1000/1000 [==============================] - 0s 78us/step - loss: 0.6863 - acc: 0.5520\n",
      "Epoch 40/100\n",
      "1000/1000 [==============================] - 0s 78us/step - loss: 0.6856 - acc: 0.5480\n",
      "Epoch 41/100\n",
      "1000/1000 [==============================] - 0s 78us/step - loss: 0.6853 - acc: 0.5540\n",
      "Epoch 42/100\n",
      "1000/1000 [==============================] - 0s 78us/step - loss: 0.6849 - acc: 0.5520\n",
      "Epoch 43/100\n",
      "1000/1000 [==============================] - 0s 78us/step - loss: 0.6846 - acc: 0.5600\n",
      "Epoch 44/100\n",
      "1000/1000 [==============================] - 0s 94us/step - loss: 0.6846 - acc: 0.5510\n",
      "Epoch 45/100\n",
      "1000/1000 [==============================] - 0s 112us/step - loss: 0.6840 - acc: 0.5580\n",
      "Epoch 46/100\n",
      "1000/1000 [==============================] - 0s 94us/step - loss: 0.6834 - acc: 0.5630\n",
      "Epoch 47/100\n",
      "1000/1000 [==============================] - 0s 94us/step - loss: 0.6833 - acc: 0.5590\n",
      "Epoch 48/100\n",
      "1000/1000 [==============================] - 0s 78us/step - loss: 0.6829 - acc: 0.5670\n",
      "Epoch 49/100\n",
      "1000/1000 [==============================] - 0s 94us/step - loss: 0.6825 - acc: 0.5680\n",
      "Epoch 50/100\n",
      "1000/1000 [==============================] - 0s 78us/step - loss: 0.6824 - acc: 0.5680\n",
      "Epoch 51/100\n",
      "1000/1000 [==============================] - 0s 78us/step - loss: 0.6818 - acc: 0.5610\n",
      "Epoch 52/100\n",
      "1000/1000 [==============================] - 0s 78us/step - loss: 0.6816 - acc: 0.5650\n",
      "Epoch 53/100\n",
      "1000/1000 [==============================] - 0s 78us/step - loss: 0.6816 - acc: 0.5710\n",
      "Epoch 54/100\n",
      "1000/1000 [==============================] - 0s 78us/step - loss: 0.6809 - acc: 0.5770\n",
      "Epoch 55/100\n",
      "1000/1000 [==============================] - 0s 62us/step - loss: 0.6805 - acc: 0.5780\n",
      "Epoch 56/100\n",
      "1000/1000 [==============================] - 0s 62us/step - loss: 0.6801 - acc: 0.5750\n",
      "Epoch 57/100\n",
      "1000/1000 [==============================] - 0s 78us/step - loss: 0.6799 - acc: 0.5680\n",
      "Epoch 58/100\n",
      "1000/1000 [==============================] - 0s 65us/step - loss: 0.6795 - acc: 0.5780\n",
      "Epoch 59/100\n",
      "1000/1000 [==============================] - 0s 78us/step - loss: 0.6791 - acc: 0.5680\n",
      "Epoch 60/100\n",
      "1000/1000 [==============================] - 0s 62us/step - loss: 0.6791 - acc: 0.5790\n",
      "Epoch 61/100\n",
      "1000/1000 [==============================] - 0s 78us/step - loss: 0.6784 - acc: 0.5800\n",
      "Epoch 62/100\n",
      "1000/1000 [==============================] - 0s 62us/step - loss: 0.6786 - acc: 0.5710\n",
      "Epoch 63/100\n",
      "1000/1000 [==============================] - 0s 78us/step - loss: 0.6781 - acc: 0.5800\n",
      "Epoch 64/100\n",
      "1000/1000 [==============================] - 0s 78us/step - loss: 0.6775 - acc: 0.5830\n",
      "Epoch 65/100\n",
      "1000/1000 [==============================] - 0s 78us/step - loss: 0.6773 - acc: 0.5870\n",
      "Epoch 66/100\n",
      "1000/1000 [==============================] - 0s 78us/step - loss: 0.6768 - acc: 0.5820\n",
      "Epoch 67/100\n",
      "1000/1000 [==============================] - 0s 80us/step - loss: 0.6764 - acc: 0.5810\n",
      "Epoch 68/100\n",
      "1000/1000 [==============================] - 0s 78us/step - loss: 0.6761 - acc: 0.5760\n",
      "Epoch 69/100\n",
      "1000/1000 [==============================] - 0s 78us/step - loss: 0.6759 - acc: 0.5840\n",
      "Epoch 70/100\n",
      "1000/1000 [==============================] - 0s 82us/step - loss: 0.6754 - acc: 0.5830\n",
      "Epoch 71/100\n",
      "1000/1000 [==============================] - 0s 65us/step - loss: 0.6752 - acc: 0.5850\n",
      "Epoch 72/100\n",
      "1000/1000 [==============================] - 0s 78us/step - loss: 0.6748 - acc: 0.5830\n",
      "Epoch 73/100\n",
      "1000/1000 [==============================] - 0s 78us/step - loss: 0.6745 - acc: 0.5850\n",
      "Epoch 74/100\n",
      "1000/1000 [==============================] - 0s 78us/step - loss: 0.6742 - acc: 0.5860\n",
      "Epoch 75/100\n",
      "1000/1000 [==============================] - 0s 78us/step - loss: 0.6737 - acc: 0.5930\n",
      "Epoch 76/100\n",
      "1000/1000 [==============================] - 0s 62us/step - loss: 0.6740 - acc: 0.5860\n",
      "Epoch 77/100\n",
      "1000/1000 [==============================] - 0s 62us/step - loss: 0.6731 - acc: 0.5870\n",
      "Epoch 78/100\n",
      "1000/1000 [==============================] - 0s 62us/step - loss: 0.6727 - acc: 0.5860\n",
      "Epoch 79/100\n",
      "1000/1000 [==============================] - 0s 78us/step - loss: 0.6723 - acc: 0.5940\n",
      "Epoch 80/100\n",
      "1000/1000 [==============================] - 0s 78us/step - loss: 0.6719 - acc: 0.5910\n",
      "Epoch 81/100\n",
      "1000/1000 [==============================] - 0s 78us/step - loss: 0.6728 - acc: 0.5940\n",
      "Epoch 82/100\n"
     ]
    },
    {
     "name": "stdout",
     "output_type": "stream",
     "text": [
      "1000/1000 [==============================] - 0s 62us/step - loss: 0.6714 - acc: 0.5950\n",
      "Epoch 83/100\n",
      "1000/1000 [==============================] - 0s 62us/step - loss: 0.6707 - acc: 0.6060\n",
      "Epoch 84/100\n",
      "1000/1000 [==============================] - 0s 67us/step - loss: 0.6709 - acc: 0.5980\n",
      "Epoch 85/100\n",
      "1000/1000 [==============================] - 0s 78us/step - loss: 0.6701 - acc: 0.5970\n",
      "Epoch 86/100\n",
      "1000/1000 [==============================] - 0s 62us/step - loss: 0.6697 - acc: 0.6040\n",
      "Epoch 87/100\n",
      "1000/1000 [==============================] - 0s 65us/step - loss: 0.6694 - acc: 0.5970\n",
      "Epoch 88/100\n",
      "1000/1000 [==============================] - 0s 62us/step - loss: 0.6695 - acc: 0.6040\n",
      "Epoch 89/100\n",
      "1000/1000 [==============================] - 0s 62us/step - loss: 0.6688 - acc: 0.6010\n",
      "Epoch 90/100\n",
      "1000/1000 [==============================] - 0s 78us/step - loss: 0.6684 - acc: 0.5980\n",
      "Epoch 91/100\n",
      "1000/1000 [==============================] - 0s 78us/step - loss: 0.6683 - acc: 0.6020\n",
      "Epoch 92/100\n",
      "1000/1000 [==============================] - 0s 62us/step - loss: 0.6682 - acc: 0.5900\n",
      "Epoch 93/100\n",
      "1000/1000 [==============================] - 0s 62us/step - loss: 0.6671 - acc: 0.6030\n",
      "Epoch 94/100\n",
      "1000/1000 [==============================] - 0s 62us/step - loss: 0.6678 - acc: 0.5970\n",
      "Epoch 95/100\n",
      "1000/1000 [==============================] - 0s 62us/step - loss: 0.6669 - acc: 0.6010\n",
      "Epoch 96/100\n",
      "1000/1000 [==============================] - 0s 62us/step - loss: 0.6661 - acc: 0.6030\n",
      "Epoch 97/100\n",
      "1000/1000 [==============================] - 0s 67us/step - loss: 0.6656 - acc: 0.6060\n",
      "Epoch 98/100\n",
      "1000/1000 [==============================] - 0s 62us/step - loss: 0.6657 - acc: 0.6030\n",
      "Epoch 99/100\n",
      "1000/1000 [==============================] - 0s 80us/step - loss: 0.6650 - acc: 0.6050\n",
      "Epoch 100/100\n",
      "1000/1000 [==============================] - 0s 78us/step - loss: 0.6648 - acc: 0.6160\n"
     ]
    }
   ],
   "source": [
    "# Define the model\n",
    "model = Sequential()\n",
    "model.add(Dense(32, activation='relu', input_dim=100))\n",
    "model.add(Dense(1, activation='sigmoid'))\n",
    "\n",
    "sgd = optimizers.SGD(lr=0.001, decay=1e-6, momentum=0.9, nesterov=True)\n",
    "#sgd = optimizers.SGD(lr=0.001)\n",
    "# Compiling the model\n",
    "model.compile(optimizer=sgd, loss='binary_crossentropy', metrics=['accuracy'])\n",
    "# Train the model, iterating on the data in batches of 32 samples\n",
    "hist = model.fit(data, labels, epochs=num_epoch, batch_size=batch_size)\n"
   ]
  },
  {
   "cell_type": "markdown",
   "metadata": {},
   "source": [
    "### Plotting the loss & accuracy curve"
   ]
  },
  {
   "cell_type": "code",
   "execution_count": 33,
   "metadata": {},
   "outputs": [
    {
     "data": {
      "image/png": "[encoded data removed]",
      "text/plain": [
       "<matplotlib.figure.Figure at 0x10be0be0>"
      ]
     },
     "metadata": {},
     "output_type": "display_data"
    },
    {
     "data": {
      "image/png": "[encoded data removed]",
      "text/plain": [
       "<matplotlib.figure.Figure at 0x107d2710>"
      ]
     },
     "metadata": {},
     "output_type": "display_data"
    }
   ],
   "source": [
    "# visualizing losses and accuracy\n",
    "train_loss=hist.history['loss']\n",
    "#val_loss=hist.history['val_loss']\n",
    "train_acc=hist.history['acc']\n",
    "#val_acc=hist.history['val_acc']\n",
    "xc=range(num_epoch)\n",
    "\n",
    "plt.figure(1,figsize=(7,5))\n",
    "plt.plot(xc,train_loss)\n",
    "#plt.plot(xc,val_loss)\n",
    "plt.xlabel('num of Epochs')\n",
    "plt.ylabel('loss')\n",
    "plt.title('train_loss')\n",
    "plt.grid(True)\n",
    "plt.legend(['train'])\n",
    "#print plt.style.available # use bmh, classic,ggplot for big pictures\n",
    "plt.style.use(['classic'])\n",
    "# To save the figure\n",
    "plt.savefig('loss_nn_ex-1.png')\n",
    "\n",
    "plt.figure(2,figsize=(7,5))\n",
    "plt.plot(xc,train_acc)\n",
    "#plt.plot(xc,val_acc)\n",
    "plt.xlabel('num of Epochs')\n",
    "plt.ylabel('accuracy')\n",
    "plt.title('train_acc')\n",
    "plt.grid(True)\n",
    "plt.legend(['train'],loc=4)\n",
    "#print plt.style.available # use bmh, classic,ggplot for big pictures\n",
    "plt.style.use(['classic'])\n",
    "# To save the figure\n",
    "plt.savefig('acc_nn_ex-1.png')"
   ]
  },
  {
   "cell_type": "markdown",
   "metadata": {},
   "source": [
    "### Evaluate the performance of the trained model"
   ]
  },
  {
   "cell_type": "code",
   "execution_count": 34,
   "metadata": {},
   "outputs": [
    {
     "name": "stdout",
     "output_type": "stream",
     "text": [
      "1000/1000 [==============================] - 0s 268us/step\n",
      "[0.66385902690887455, 0.61499999999999999]\n",
      "loss: 0.663859026909\n",
      "acc:  61.5%\n"
     ]
    }
   ],
   "source": [
    "score = model.evaluate(data, labels)\n",
    "print (score)\n",
    "print ('loss:', score[0])\n",
    "print ('acc: ', str(score[1]*100) + '%')"
   ]
  },
  {
   "cell_type": "markdown",
   "metadata": {},
   "source": [
    "### Predicting model output on new data"
   ]
  },
  {
   "cell_type": "code",
   "execution_count": 31,
   "metadata": {},
   "outputs": [
    {
     "data": {
      "text/plain": [
       "array([[ 0.85658139],\n",
       "       [ 0.02740755],\n",
       "       [ 0.01643696],\n",
       "       [ 0.02144509],\n",
       "       [ 0.03807008],\n",
       "       [ 0.19943248],\n",
       "       [ 0.28406021],\n",
       "       [ 0.88523853],\n",
       "       [ 0.88335681],\n",
       "       [ 0.15008484],\n",
       "       [ 0.08253286],\n",
       "       [ 0.04315795],\n",
       "       [ 0.93703479],\n",
       "       [ 0.90197158],\n",
       "       [ 0.10914461],\n",
       "       [ 0.19647233],\n",
       "       [ 0.02545398],\n",
       "       [ 0.94231534],\n",
       "       [ 0.87872851],\n",
       "       [ 0.99780184]], dtype=float32)"
      ]
     },
     "execution_count": 31,
     "metadata": {},
     "output_type": "execute_result"
    }
   ],
   "source": [
    "# Predict output probability\n",
    "model.predict(data[10:30])"
   ]
  },
  {
   "cell_type": "code",
   "execution_count": 23,
   "metadata": {},
   "outputs": [
    {
     "data": {
      "text/plain": [
       "array([[1],\n",
       "       [0],\n",
       "       [1],\n",
       "       [1],\n",
       "       [1],\n",
       "       [0],\n",
       "       [0],\n",
       "       [1],\n",
       "       [1],\n",
       "       [0],\n",
       "       [1],\n",
       "       [0],\n",
       "       [0],\n",
       "       [0],\n",
       "       [1],\n",
       "       [1],\n",
       "       [0],\n",
       "       [0],\n",
       "       [1],\n",
       "       [1]])"
      ]
     },
     "execution_count": 23,
     "metadata": {},
     "output_type": "execute_result"
    }
   ],
   "source": [
    "# predict output class\n",
    "model.predict_classes(data[10:30])"
   ]
  },
  {
   "cell_type": "markdown",
   "metadata": {},
   "source": [
    "### Looking into model parameters"
   ]
  },
  {
   "cell_type": "code",
   "execution_count": 35,
   "metadata": {},
   "outputs": [
    {
     "name": "stdout",
     "output_type": "stream",
     "text": [
      "_________________________________________________________________\n",
      "Layer (type)                 Output Shape              Param #   \n",
      "=================================================================\n",
      "dense_9 (Dense)              (None, 32)                3232      \n",
      "_________________________________________________________________\n",
      "dense_10 (Dense)             (None, 1)                 33        \n",
      "=================================================================\n",
      "Total params: 3,265\n",
      "Trainable params: 3,265\n",
      "Non-trainable params: 0\n",
      "_________________________________________________________________\n"
     ]
    }
   ],
   "source": [
    "# model summary\n",
    "model.summary()"
   ]
  },
  {
   "cell_type": "code",
   "execution_count": 36,
   "metadata": {},
   "outputs": [
    {
     "data": {
      "text/plain": [
       "[{'class_name': 'Dense',\n",
       "  'config': {'activation': 'relu',\n",
       "   'activity_regularizer': None,\n",
       "   'batch_input_shape': (None, 100),\n",
       "   'bias_constraint': None,\n",
       "   'bias_initializer': {'class_name': 'Zeros', 'config': {}},\n",
       "   'bias_regularizer': None,\n",
       "   'dtype': 'float32',\n",
       "   'kernel_constraint': None,\n",
       "   'kernel_initializer': {'class_name': 'VarianceScaling',\n",
       "    'config': {'distribution': 'uniform',\n",
       "     'mode': 'fan_avg',\n",
       "     'scale': 1.0,\n",
       "     'seed': None}},\n",
       "   'kernel_regularizer': None,\n",
       "   'name': 'dense_9',\n",
       "   'trainable': True,\n",
       "   'units': 32,\n",
       "   'use_bias': True}},\n",
       " {'class_name': 'Dense',\n",
       "  'config': {'activation': 'sigmoid',\n",
       "   'activity_regularizer': None,\n",
       "   'bias_constraint': None,\n",
       "   'bias_initializer': {'class_name': 'Zeros', 'config': {}},\n",
       "   'bias_regularizer': None,\n",
       "   'kernel_constraint': None,\n",
       "   'kernel_initializer': {'class_name': 'VarianceScaling',\n",
       "    'config': {'distribution': 'uniform',\n",
       "     'mode': 'fan_avg',\n",
       "     'scale': 1.0,\n",
       "     'seed': None}},\n",
       "   'kernel_regularizer': None,\n",
       "   'name': 'dense_10',\n",
       "   'trainable': True,\n",
       "   'units': 1,\n",
       "   'use_bias': True}}]"
      ]
     },
     "execution_count": 36,
     "metadata": {},
     "output_type": "execute_result"
    }
   ],
   "source": [
    "model.get_config()"
   ]
  },
  {
   "cell_type": "code",
   "execution_count": 38,
   "metadata": {},
   "outputs": [
    {
     "data": {
      "text/plain": [
       "2"
      ]
     },
     "execution_count": 38,
     "metadata": {},
     "output_type": "execute_result"
    }
   ],
   "source": [
    "len(model.layers)"
   ]
  },
  {
   "cell_type": "code",
   "execution_count": 39,
   "metadata": {},
   "outputs": [
    {
     "data": {
      "text/plain": [
       "{'activation': 'relu',\n",
       " 'activity_regularizer': None,\n",
       " 'batch_input_shape': (None, 100),\n",
       " 'bias_constraint': None,\n",
       " 'bias_initializer': {'class_name': 'Zeros', 'config': {}},\n",
       " 'bias_regularizer': None,\n",
       " 'dtype': 'float32',\n",
       " 'kernel_constraint': None,\n",
       " 'kernel_initializer': {'class_name': 'VarianceScaling',\n",
       "  'config': {'distribution': 'uniform',\n",
       "   'mode': 'fan_avg',\n",
       "   'scale': 1.0,\n",
       "   'seed': None}},\n",
       " 'kernel_regularizer': None,\n",
       " 'name': 'dense_9',\n",
       " 'trainable': True,\n",
       " 'units': 32,\n",
       " 'use_bias': True}"
      ]
     },
     "execution_count": 39,
     "metadata": {},
     "output_type": "execute_result"
    }
   ],
   "source": [
    "model.layers[0].get_config()"
   ]
  },
  {
   "cell_type": "code",
   "execution_count": 40,
   "metadata": {},
   "outputs": [
    {
     "data": {
      "text/plain": [
       "(None, 100)"
      ]
     },
     "execution_count": 40,
     "metadata": {},
     "output_type": "execute_result"
    }
   ],
   "source": [
    "model.layers[0].input_shape"
   ]
  },
  {
   "cell_type": "code",
   "execution_count": 41,
   "metadata": {},
   "outputs": [
    {
     "data": {
      "text/plain": [
       "(None, 32)"
      ]
     },
     "execution_count": 41,
     "metadata": {},
     "output_type": "execute_result"
    }
   ],
   "source": [
    "model.layers[0].output_shape"
   ]
  },
  {
   "cell_type": "code",
   "execution_count": 43,
   "metadata": {},
   "outputs": [
    {
     "data": {
      "text/plain": [
       "[array([[ 0.06218176, -0.14760979, -0.0188934 , ..., -0.06110071,\n",
       "          0.00859509,  0.11660681],\n",
       "        [-0.04958579, -0.06604603,  0.11879011, ..., -0.16017231,\n",
       "          0.04414732,  0.14036536],\n",
       "        [ 0.11660188, -0.15856616, -0.02460211, ...,  0.08445681,\n",
       "          0.00687141, -0.01581096],\n",
       "        ..., \n",
       "        [ 0.18922871, -0.04545777,  0.23614869, ...,  0.07968272,\n",
       "         -0.05995134,  0.25594112],\n",
       "        [-0.15504149, -0.1294595 ,  0.05189015, ..., -0.22576153,\n",
       "         -0.02245461,  0.05310668],\n",
       "        [ 0.11914537,  0.00092069, -0.09665634, ..., -0.03582497,\n",
       "         -0.01012064, -0.12535983]], dtype=float32),\n",
       " array([ 0.010054  , -0.0012484 , -0.00035808,  0.00416164, -0.01676397,\n",
       "        -0.00898046, -0.00100831,  0.00079694, -0.00100622,  0.00132011,\n",
       "         0.00189509, -0.0127347 ,  0.        ,  0.00315841, -0.00651313,\n",
       "        -0.0099579 , -0.00030127,  0.00018435,  0.00902225, -0.00549825,\n",
       "        -0.00296054, -0.00656358, -0.00593744, -0.00577733, -0.00672789,\n",
       "        -0.04228359, -0.00043243,  0.00672507,  0.01116752, -0.01487992,\n",
       "        -0.00109513,  0.00047611], dtype=float32)]"
      ]
     },
     "execution_count": 43,
     "metadata": {},
     "output_type": "execute_result"
    }
   ],
   "source": [
    "model.layers[0].get_weights()"
   ]
  },
  {
   "cell_type": "code",
   "execution_count": 54,
   "metadata": {},
   "outputs": [
    {
     "name": "stdout",
     "output_type": "stream",
     "text": [
      "weights_shape:  (100, 32)\n",
      "bias_shape:  (32,)\n"
     ]
    }
   ],
   "source": [
    "wt = model.layers[0].get_weights()\n",
    "#wt.shape\n",
    "weights = wt[0]\n",
    "bias = wt[1]\n",
    "print ('weights_shape: ',wt[0].shape)\n",
    "print ('bias_shape: ',wt[1].shape)"
   ]
  },
  {
   "cell_type": "code",
   "execution_count": 55,
   "metadata": {},
   "outputs": [
    {
     "data": {
      "text/plain": [
       "True"
      ]
     },
     "execution_count": 55,
     "metadata": {},
     "output_type": "execute_result"
    }
   ],
   "source": [
    "model.layers[0].trainable"
   ]
  },
  {
   "cell_type": "markdown",
   "metadata": {},
   "source": [
    "### saving the model and weights"
   ]
  },
  {
   "cell_type": "code",
   "execution_count": 62,
   "metadata": {},
   "outputs": [
    {
     "name": "stdout",
     "output_type": "stream",
     "text": [
      "Saved model to disk\n"
     ]
    }
   ],
   "source": [
    "# serialize model to JSON\n",
    "model_json = model.to_json()\n",
    "with open(\"nn_model_ex_1.json\", \"w\") as json_file:\n",
    "    json_file.write(model_json)\n",
    "# serialize weights to H5\n",
    "model.save_weights(\"nn_model_weights_ex_1.h5\")\n",
    "print(\"Saved model to disk\")"
   ]
  },
  {
   "cell_type": "markdown",
   "metadata": {},
   "source": [
    "### Loading the model and weights"
   ]
  },
  {
   "cell_type": "code",
   "execution_count": 63,
   "metadata": {
    "collapsed": true
   },
   "outputs": [],
   "source": [
    "from keras.models import model_from_json\n",
    "from keras.models import load_model"
   ]
  },
  {
   "cell_type": "code",
   "execution_count": 64,
   "metadata": {},
   "outputs": [
    {
     "name": "stdout",
     "output_type": "stream",
     "text": [
      "Loaded model from disk\n"
     ]
    }
   ],
   "source": [
    "model_name = \"nn_model_ex_1.json\"\n",
    "weight_name = \"nn_model_weights_ex_1.h5\"\n",
    "\n",
    "json_file = open(model_name, 'r')\n",
    "loaded_model_json = json_file.read()\n",
    "json_file.close()\n",
    "loaded_model = model_from_json(loaded_model_json)\n",
    "# load weights into new model\n",
    "loaded_model.load_weights(weight_name)\n",
    "print(\"Loaded model from disk\")"
   ]
  },
  {
   "cell_type": "markdown",
   "metadata": {},
   "source": [
    "### Do the prediction with loaded model"
   ]
  },
  {
   "cell_type": "code",
   "execution_count": 65,
   "metadata": {},
   "outputs": [
    {
     "data": {
      "text/plain": [
       "array([[ 0.54369533],\n",
       "       [ 0.5006097 ],\n",
       "       [ 0.47660065],\n",
       "       [ 0.50394732],\n",
       "       [ 0.51595384],\n",
       "       [ 0.54184151],\n",
       "       [ 0.54434097],\n",
       "       [ 0.40326113],\n",
       "       [ 0.55398494],\n",
       "       [ 0.44159901]], dtype=float32)"
      ]
     },
     "execution_count": 65,
     "metadata": {},
     "output_type": "execute_result"
    }
   ],
   "source": [
    "loaded_model.predict(data[90:100])"
   ]
  },
  {
   "cell_type": "code",
   "execution_count": null,
   "metadata": {
    "collapsed": true
   },
   "outputs": [],
   "source": []
  }
 ],
 "metadata": {
  "kernelspec": {
   "display_name": "Python 3",
   "language": "python",
   "name": "python3"
  },
  "language_info": {
   "codemirror_mode": {
    "name": "ipython",
    "version": 3
   },
   "file_extension": ".py",
   "mimetype": "text/x-python",
   "name": "python",
   "nbconvert_exporter": "python",
   "pygments_lexer": "ipython3",
   "version": "3.6.1"
  }
 },
 "nbformat": 4,
 "nbformat_minor": 2
}
