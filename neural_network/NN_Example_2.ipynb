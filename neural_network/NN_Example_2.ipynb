{
 "cells": [
  {
   "cell_type": "markdown",
   "metadata": {},
   "source": [
    "## Neural Network in keras - Example-1"
   ]
  },
  {
   "cell_type": "code",
   "execution_count": 19,
   "metadata": {},
   "outputs": [],
   "source": [
    "import numpy as np\n",
    "\n",
    "import keras\n",
    "from keras.datasets import mnist\n",
    "from keras.models import Sequential\n",
    "from keras.layers import Dense, Dropout, Flatten,Activation\n",
    "from keras import optimizers\n",
    "from keras.utils import np_utils\n",
    "from keras import backend as K\n",
    "import matplotlib.pyplot as plt\n",
    "%matplotlib inline\n"
   ]
  },
  {
   "cell_type": "markdown",
   "metadata": {},
   "source": [
    "### pip install --upgrade tensorflow==1.7"
   ]
  },
  {
   "cell_type": "code",
   "execution_count": 6,
   "metadata": {},
   "outputs": [],
   "source": [
    "batch_size = 128\n",
    "num_classes = 10\n",
    "epochs = 12\n",
    "\n",
    "# input image dimensions\n",
    "img_rows, img_cols = 28, 28\n",
    "\n",
    "# the data, split between train and test sets\n",
    "(X_train, y_train), (X_test, y_test) = mnist.load_data()\n"
   ]
  },
  {
   "cell_type": "code",
   "execution_count": 7,
   "metadata": {},
   "outputs": [
    {
     "data": {
      "image/png": "[encoded data removed]",
      "text/plain": [
       "<matplotlib.figure.Figure at 0x1c286da0>"
      ]
     },
     "execution_count": 7,
     "metadata": {},
     "output_type": "execute_result"
    },
    {
     "data": {
      "image/png": "[encoded data removed]",
      "text/plain": [
       "<matplotlib.figure.Figure at 0x1c286da0>"
      ]
     },
     "metadata": {},
     "output_type": "display_data"
    }
   ],
   "source": [
    "fig = plt.figure()\n",
    "for i in range(9):\n",
    "  plt.subplot(3,3,i+1)\n",
    "  plt.tight_layout()\n",
    "  plt.imshow(X_train[i], cmap='gray', interpolation='none')\n",
    "  plt.title(\"Digit: {}\".format(y_train[i]))\n",
    "  plt.xticks([])\n",
    "  plt.yticks([])\n",
    "fig"
   ]
  },
  {
   "cell_type": "code",
   "execution_count": 8,
   "metadata": {},
   "outputs": [
    {
     "data": {
      "text/plain": [
       "<matplotlib.text.Text at 0x1ca80390>"
      ]
     },
     "execution_count": 8,
     "metadata": {},
     "output_type": "execute_result"
    },
    {
     "data": {
      "image/png": "[encoded data removed]",
      "text/plain": [
       "<matplotlib.figure.Figure at 0x1c85c828>"
      ]
     },
     "metadata": {},
     "output_type": "display_data"
    }
   ],
   "source": [
    "fig = plt.figure()\n",
    "plt.subplot(2,1,1)\n",
    "plt.imshow(X_train[0], cmap='gray', interpolation='none')\n",
    "plt.title(\"Digit: {}\".format(y_train[0]))\n",
    "plt.xticks([])\n",
    "plt.yticks([])\n",
    "plt.subplot(2,1,2)\n",
    "plt.hist(X_train[0].reshape(784))\n",
    "plt.title(\"Pixel Value Distribution\")\n",
    "#fig"
   ]
  },
  {
   "cell_type": "code",
   "execution_count": 9,
   "metadata": {},
   "outputs": [
    {
     "name": "stdout",
     "output_type": "stream",
     "text": [
      "X_train shape (60000, 28, 28)\n",
      "y_train shape (60000,)\n",
      "X_test shape (10000, 28, 28)\n",
      "y_test shape (10000,)\n",
      "Train matrix shape (60000, 784)\n",
      "Test matrix shape (10000, 784)\n"
     ]
    }
   ],
   "source": [
    "# let's print the shape before we reshape and normalize\n",
    "print(\"X_train shape\", X_train.shape)\n",
    "print(\"y_train shape\", y_train.shape)\n",
    "print(\"X_test shape\", X_test.shape)\n",
    "print(\"y_test shape\", y_test.shape)\n",
    "\n",
    "# building the input vector from the 28x28 pixels\n",
    "X_train = X_train.reshape(60000, 784)\n",
    "X_test = X_test.reshape(10000, 784)\n",
    "X_train = X_train.astype('float32')\n",
    "X_test = X_test.astype('float32')\n",
    "\n",
    "# normalizing the data to help with the training\n",
    "X_train /= 255\n",
    "X_test /= 255\n",
    "\n",
    "# print the final input shape ready for training\n",
    "print(\"Train matrix shape\", X_train.shape)\n",
    "print(\"Test matrix shape\", X_test.shape)"
   ]
  },
  {
   "cell_type": "code",
   "execution_count": 10,
   "metadata": {},
   "outputs": [
    {
     "name": "stdout",
     "output_type": "stream",
     "text": [
      "(array([0, 1, 2, 3, 4, 5, 6, 7, 8, 9], dtype=uint8), array([5923, 6742, 5958, 6131, 5842, 5421, 5918, 6265, 5851, 5949],\n",
      "      dtype=int64))\n"
     ]
    }
   ],
   "source": [
    "print(np.unique(y_train, return_counts=True))"
   ]
  },
  {
   "cell_type": "code",
   "execution_count": 11,
   "metadata": {},
   "outputs": [
    {
     "name": "stdout",
     "output_type": "stream",
     "text": [
      "Shape before one-hot encoding:  (60000,)\n",
      "Shape after one-hot encoding:  (60000, 10)\n"
     ]
    }
   ],
   "source": [
    "# one-hot encoding using keras' numpy-related utilities\n",
    "num_classes = 10\n",
    "print(\"Shape before one-hot encoding: \", y_train.shape)\n",
    "Y_train = np_utils.to_categorical(y_train, num_classes)\n",
    "Y_test = np_utils.to_categorical(y_test, num_classes)\n",
    "print(\"Shape after one-hot encoding: \", Y_train.shape)"
   ]
  },
  {
   "cell_type": "code",
   "execution_count": 25,
   "metadata": {
    "collapsed": true
   },
   "outputs": [],
   "source": [
    "num_epoch=10\n",
    "batch_size=128"
   ]
  },
  {
   "cell_type": "code",
   "execution_count": 20,
   "metadata": {},
   "outputs": [],
   "source": [
    "# building a linear stack of layers with the sequential model\n",
    "model = Sequential()\n",
    "model.add(Dense(512, input_shape=(784,)))\n",
    "model.add(Activation('relu'))                            \n",
    "model.add(Dropout(0.2))\n",
    "\n",
    "model.add(Dense(512))\n",
    "model.add(Activation('relu'))\n",
    "model.add(Dropout(0.2))\n",
    "model.add(Dense(10,activation='softmax'))\n"
   ]
  },
  {
   "cell_type": "code",
   "execution_count": 23,
   "metadata": {},
   "outputs": [],
   "source": [
    "# compiling the sequential model\n",
    "\n",
    "model.compile(loss='categorical_crossentropy', metrics=['accuracy'], optimizer='adam')"
   ]
  },
  {
   "cell_type": "code",
   "execution_count": 26,
   "metadata": {},
   "outputs": [
    {
     "name": "stdout",
     "output_type": "stream",
     "text": [
      "Train on 60000 samples, validate on 10000 samples\n",
      "Epoch 1/10\n",
      "60000/60000 [==============================] - 19s 319us/step - loss: 0.2523 - acc: 0.9240 - val_loss: 0.1017 - val_acc: 0.9689\n",
      "Epoch 2/10\n",
      "60000/60000 [==============================] - 16s 271us/step - loss: 0.1008 - acc: 0.9690 - val_loss: 0.0814 - val_acc: 0.9747\n",
      "Epoch 3/10\n",
      "60000/60000 [==============================] - 17s 286us/step - loss: 0.0734 - acc: 0.9776 - val_loss: 0.0681 - val_acc: 0.9785\n",
      "Epoch 4/10\n",
      "60000/60000 [==============================] - 19s 311us/step - loss: 0.0573 - acc: 0.9823 - val_loss: 0.0592 - val_acc: 0.9814\n",
      "Epoch 5/10\n",
      "60000/60000 [==============================] - 15s 250us/step - loss: 0.0468 - acc: 0.9857 - val_loss: 0.0635 - val_acc: 0.9789\n",
      "Epoch 6/10\n",
      "60000/60000 [==============================] - 15s 248us/step - loss: 0.0407 - acc: 0.9864 - val_loss: 0.0656 - val_acc: 0.9812\n",
      "Epoch 7/10\n",
      "60000/60000 [==============================] - 16s 258us/step - loss: 0.0341 - acc: 0.9887 - val_loss: 0.0650 - val_acc: 0.9809\n",
      "Epoch 8/10\n",
      "60000/60000 [==============================] - 16s 260us/step - loss: 0.0323 - acc: 0.9892 - val_loss: 0.0646 - val_acc: 0.9821\n",
      "Epoch 9/10\n",
      "60000/60000 [==============================] - 16s 259us/step - loss: 0.0273 - acc: 0.9910 - val_loss: 0.0636 - val_acc: 0.9825\n",
      "Epoch 10/10\n",
      "60000/60000 [==============================] - 16s 259us/step - loss: 0.0258 - acc: 0.9918 - val_loss: 0.0619 - val_acc: 0.9834\n"
     ]
    }
   ],
   "source": [
    "hist = model.fit(X_train,Y_train,batch_size=batch_size, validation_data=(X_test,Y_test),epochs=num_epoch)\n"
   ]
  },
  {
   "cell_type": "code",
   "execution_count": 27,
   "metadata": {},
   "outputs": [
    {
     "data": {
      "image/png": "[encoded data removed]",
      "text/plain": [
       "<matplotlib.figure.Figure at 0x1f105ef0>"
      ]
     },
     "metadata": {},
     "output_type": "display_data"
    },
    {
     "data": {
      "image/png": "[encoded data removed]",
      "text/plain": [
       "<matplotlib.figure.Figure at 0x1f50ffd0>"
      ]
     },
     "metadata": {},
     "output_type": "display_data"
    }
   ],
   "source": [
    "# visualizing losses and accuracy\n",
    "train_loss=hist.history['loss']\n",
    "val_loss=hist.history['val_loss']\n",
    "train_acc=hist.history['acc']\n",
    "val_acc=hist.history['val_acc']\n",
    "xc=range(num_epoch)\n",
    "\n",
    "plt.figure(1,figsize=(7,5))\n",
    "plt.plot(xc,train_loss)\n",
    "plt.plot(xc,val_loss)\n",
    "plt.xlabel('num of Epochs')\n",
    "plt.ylabel('loss')\n",
    "plt.title('train_loss vs val_loss')\n",
    "plt.grid(True)\n",
    "plt.legend(['train','val'])\n",
    "#print plt.style.available # use bmh, classic,ggplot for big pictures\n",
    "plt.style.use(['classic'])\n",
    "\n",
    "# to save figure\n",
    "plt.savefig('loss_curve_nn_ex-2')\n",
    "\n",
    "plt.figure(2,figsize=(7,5))\n",
    "plt.plot(xc,train_acc)\n",
    "plt.plot(xc,val_acc)\n",
    "plt.xlabel('num of Epochs')\n",
    "plt.ylabel('accuracy')\n",
    "plt.title('train_acc vs val_acc')\n",
    "plt.grid(True)\n",
    "plt.legend(['train','val'],loc=4)\n",
    "#print plt.style.available # use bmh, classic,ggplot for big pictures\n",
    "plt.style.use(['classic'])\n",
    "# to save figure\n",
    "plt.savefig('acc_curve_nn_ex-2')"
   ]
  },
  {
   "cell_type": "code",
   "execution_count": 29,
   "metadata": {},
   "outputs": [
    {
     "name": "stdout",
     "output_type": "stream",
     "text": [
      "10000/10000 [==============================] - 3s 267us/step\n",
      "[0.061905954551640024, 0.9834]\n",
      "loss: 0.061905954551640024\n",
      "acc:  98.34%\n"
     ]
    }
   ],
   "source": [
    "score = model.evaluate(X_test, Y_test)\n",
    "print (score)\n",
    "print ('loss:', score[0])\n",
    "print ('acc: ', str(score[1]*100) + '%')"
   ]
  },
  {
   "cell_type": "code",
   "execution_count": 34,
   "metadata": {},
   "outputs": [
    {
     "data": {
      "text/plain": [
       "array([[1.0000000e+00, 1.4922816e-16, 2.1192992e-11, 6.5015200e-15,\n",
       "        6.4704867e-17, 1.8850261e-15, 2.7190223e-12, 6.4157359e-14,\n",
       "        3.4271416e-17, 2.8067423e-11]], dtype=float32)"
      ]
     },
     "execution_count": 34,
     "metadata": {},
     "output_type": "execute_result"
    }
   ],
   "source": [
    "# Predict output probability\n",
    "model.predict(X_test[10:11])"
   ]
  },
  {
   "cell_type": "code",
   "execution_count": 35,
   "metadata": {},
   "outputs": [
    {
     "data": {
      "text/plain": [
       "array([[1., 0., 0., 0., 0., 0., 0., 0., 0., 0.]], dtype=float32)"
      ]
     },
     "execution_count": 35,
     "metadata": {},
     "output_type": "execute_result"
    }
   ],
   "source": [
    "Y_test[10:11]"
   ]
  },
  {
   "cell_type": "code",
   "execution_count": 36,
   "metadata": {},
   "outputs": [
    {
     "data": {
      "text/plain": [
       "array([0, 6, 9, 0, 1], dtype=int64)"
      ]
     },
     "execution_count": 36,
     "metadata": {},
     "output_type": "execute_result"
    }
   ],
   "source": [
    "model.predict_classes(X_test[10:15])"
   ]
  },
  {
   "cell_type": "code",
   "execution_count": null,
   "metadata": {
    "collapsed": true
   },
   "outputs": [],
   "source": []
  },
  {
   "cell_type": "code",
   "execution_count": 40,
   "metadata": {
    "collapsed": true
   },
   "outputs": [],
   "source": [
    "from keras.models import load_model"
   ]
  },
  {
   "cell_type": "code",
   "execution_count": 41,
   "metadata": {
    "collapsed": true
   },
   "outputs": [],
   "source": [
    "model.save('nn_model_ex-2.h5')\n"
   ]
  },
  {
   "cell_type": "code",
   "execution_count": 42,
   "metadata": {},
   "outputs": [],
   "source": [
    "loaded_model=load_model('nn_model_ex-2.h5')"
   ]
  },
  {
   "cell_type": "code",
   "execution_count": 43,
   "metadata": {},
   "outputs": [
    {
     "data": {
      "text/plain": [
       "array([0, 6, 9, 0, 1], dtype=int64)"
      ]
     },
     "execution_count": 43,
     "metadata": {},
     "output_type": "execute_result"
    }
   ],
   "source": [
    "model.predict_classes(X_test[10:15])"
   ]
  },
  {
   "cell_type": "code",
   "execution_count": 44,
   "metadata": {},
   "outputs": [
    {
     "name": "stdout",
     "output_type": "stream",
     "text": [
      "_________________________________________________________________\n",
      "Layer (type)                 Output Shape              Param #   \n",
      "=================================================================\n",
      "dense_7 (Dense)              (None, 512)               401920    \n",
      "_________________________________________________________________\n",
      "activation_5 (Activation)    (None, 512)               0         \n",
      "_________________________________________________________________\n",
      "dropout_5 (Dropout)          (None, 512)               0         \n",
      "_________________________________________________________________\n",
      "dense_8 (Dense)              (None, 512)               262656    \n",
      "_________________________________________________________________\n",
      "activation_6 (Activation)    (None, 512)               0         \n",
      "_________________________________________________________________\n",
      "dropout_6 (Dropout)          (None, 512)               0         \n",
      "_________________________________________________________________\n",
      "dense_9 (Dense)              (None, 10)                5130      \n",
      "=================================================================\n",
      "Total params: 669,706\n",
      "Trainable params: 669,706\n",
      "Non-trainable params: 0\n",
      "_________________________________________________________________\n"
     ]
    }
   ],
   "source": [
    "# model summary\n",
    "model.summary()"
   ]
  },
  {
   "cell_type": "code",
   "execution_count": 45,
   "metadata": {},
   "outputs": [
    {
     "data": {
      "text/plain": [
       "[{'class_name': 'Dense',\n",
       "  'config': {'activation': 'linear',\n",
       "   'activity_regularizer': None,\n",
       "   'batch_input_shape': (None, 784),\n",
       "   'bias_constraint': None,\n",
       "   'bias_initializer': {'class_name': 'Zeros', 'config': {}},\n",
       "   'bias_regularizer': None,\n",
       "   'dtype': 'float32',\n",
       "   'kernel_constraint': None,\n",
       "   'kernel_initializer': {'class_name': 'VarianceScaling',\n",
       "    'config': {'distribution': 'uniform',\n",
       "     'mode': 'fan_avg',\n",
       "     'scale': 1.0,\n",
       "     'seed': None}},\n",
       "   'kernel_regularizer': None,\n",
       "   'name': 'dense_7',\n",
       "   'trainable': True,\n",
       "   'units': 512,\n",
       "   'use_bias': True}},\n",
       " {'class_name': 'Activation',\n",
       "  'config': {'activation': 'relu', 'name': 'activation_5', 'trainable': True}},\n",
       " {'class_name': 'Dropout',\n",
       "  'config': {'name': 'dropout_5',\n",
       "   'noise_shape': None,\n",
       "   'rate': 0.2,\n",
       "   'seed': None,\n",
       "   'trainable': True}},\n",
       " {'class_name': 'Dense',\n",
       "  'config': {'activation': 'linear',\n",
       "   'activity_regularizer': None,\n",
       "   'bias_constraint': None,\n",
       "   'bias_initializer': {'class_name': 'Zeros', 'config': {}},\n",
       "   'bias_regularizer': None,\n",
       "   'kernel_constraint': None,\n",
       "   'kernel_initializer': {'class_name': 'VarianceScaling',\n",
       "    'config': {'distribution': 'uniform',\n",
       "     'mode': 'fan_avg',\n",
       "     'scale': 1.0,\n",
       "     'seed': None}},\n",
       "   'kernel_regularizer': None,\n",
       "   'name': 'dense_8',\n",
       "   'trainable': True,\n",
       "   'units': 512,\n",
       "   'use_bias': True}},\n",
       " {'class_name': 'Activation',\n",
       "  'config': {'activation': 'relu', 'name': 'activation_6', 'trainable': True}},\n",
       " {'class_name': 'Dropout',\n",
       "  'config': {'name': 'dropout_6',\n",
       "   'noise_shape': None,\n",
       "   'rate': 0.2,\n",
       "   'seed': None,\n",
       "   'trainable': True}},\n",
       " {'class_name': 'Dense',\n",
       "  'config': {'activation': 'softmax',\n",
       "   'activity_regularizer': None,\n",
       "   'bias_constraint': None,\n",
       "   'bias_initializer': {'class_name': 'Zeros', 'config': {}},\n",
       "   'bias_regularizer': None,\n",
       "   'kernel_constraint': None,\n",
       "   'kernel_initializer': {'class_name': 'VarianceScaling',\n",
       "    'config': {'distribution': 'uniform',\n",
       "     'mode': 'fan_avg',\n",
       "     'scale': 1.0,\n",
       "     'seed': None}},\n",
       "   'kernel_regularizer': None,\n",
       "   'name': 'dense_9',\n",
       "   'trainable': True,\n",
       "   'units': 10,\n",
       "   'use_bias': True}}]"
      ]
     },
     "execution_count": 45,
     "metadata": {},
     "output_type": "execute_result"
    }
   ],
   "source": [
    "model.get_config()"
   ]
  },
  {
   "cell_type": "code",
   "execution_count": 46,
   "metadata": {},
   "outputs": [
    {
     "data": {
      "text/plain": [
       "7"
      ]
     },
     "execution_count": 46,
     "metadata": {},
     "output_type": "execute_result"
    }
   ],
   "source": [
    "len(model.layers)"
   ]
  },
  {
   "cell_type": "code",
   "execution_count": 47,
   "metadata": {},
   "outputs": [
    {
     "data": {
      "text/plain": [
       "(None, 784)"
      ]
     },
     "execution_count": 47,
     "metadata": {},
     "output_type": "execute_result"
    }
   ],
   "source": [
    "model.layers[0].input_shape"
   ]
  },
  {
   "cell_type": "code",
   "execution_count": 48,
   "metadata": {},
   "outputs": [
    {
     "data": {
      "text/plain": [
       "(None, 512)"
      ]
     },
     "execution_count": 48,
     "metadata": {},
     "output_type": "execute_result"
    }
   ],
   "source": [
    "model.layers[0].output_shape"
   ]
  },
  {
   "cell_type": "code",
   "execution_count": 49,
   "metadata": {},
   "outputs": [
    {
     "data": {
      "text/plain": [
       "[array([[-0.02549247, -0.0561777 ,  0.05209912, ..., -0.06183227,\n",
       "         -0.00908861,  0.06779422],\n",
       "        [ 0.04426823, -0.0240855 , -0.04645399, ...,  0.06754445,\n",
       "         -0.03559416, -0.00660289],\n",
       "        [-0.0074223 , -0.015153  ,  0.01655174, ...,  0.00838462,\n",
       "          0.06298107,  0.03588488],\n",
       "        ...,\n",
       "        [-0.02643666,  0.06150617, -0.04194537, ..., -0.03168401,\n",
       "         -0.03064082, -0.00494707],\n",
       "        [-0.01858226,  0.01891492, -0.03004561, ..., -0.04531915,\n",
       "         -0.04203787,  0.03629566],\n",
       "        [-0.05394345,  0.06112763,  0.01676226, ...,  0.01018767,\n",
       "         -0.0668488 , -0.02252743]], dtype=float32),\n",
       " array([-4.61721048e-02, -1.85446087e-02,  8.94217752e-03,  4.51080082e-03,\n",
       "         8.30880553e-02,  2.15552188e-03,  8.13759584e-03,  8.86285119e-03,\n",
       "         1.19014554e-01, -9.58610885e-03,  4.51994874e-03, -4.64973822e-02,\n",
       "        -2.15785094e-02,  3.76241952e-02, -2.72213351e-02, -7.14134127e-02,\n",
       "         9.33719520e-03, -2.22345162e-03, -2.10913178e-03,  1.43317059e-02,\n",
       "        -3.32319550e-02, -2.97301468e-02,  4.34124283e-02, -3.30730937e-02,\n",
       "         5.51464334e-02,  6.09425940e-02,  2.47238856e-02, -7.64343143e-02,\n",
       "         4.74237390e-02,  1.28628435e-02, -5.30582145e-02, -4.10681702e-02,\n",
       "        -1.55187328e-03,  7.04920199e-03, -2.25520600e-03, -2.43834797e-02,\n",
       "        -9.85632278e-03, -4.57298979e-02, -5.25516234e-02,  2.55271904e-02,\n",
       "         4.21746820e-02,  3.83410193e-02, -4.88536805e-02,  4.23843041e-02,\n",
       "        -4.09345552e-02, -1.57645512e-02, -5.06452024e-02,  2.04110462e-02,\n",
       "         3.39960605e-02, -3.29815969e-02, -3.00915390e-02,  1.17833978e-02,\n",
       "        -6.86789975e-02,  6.07553050e-02, -6.25858009e-02,  1.40585070e-02,\n",
       "         5.97644038e-02, -6.07608957e-03, -2.70850379e-02, -6.72668815e-02,\n",
       "        -5.99425212e-02, -1.45405279e-02,  5.71196899e-02, -7.75143653e-02,\n",
       "        -1.10989284e-04, -5.71514107e-03,  5.71062192e-02, -3.64008881e-02,\n",
       "        -3.33531834e-02, -1.56553611e-02, -3.32313813e-02, -3.65623576e-03,\n",
       "         4.26907912e-02, -1.09137632e-02, -2.13863095e-04, -3.33939232e-02,\n",
       "        -3.91767221e-03, -2.36483123e-02,  9.35752760e-04, -2.07550488e-02,\n",
       "        -1.07274475e-02, -2.80244835e-03,  1.01332050e-02, -2.61586765e-03,\n",
       "         2.96242945e-02,  2.26441976e-02,  6.04314543e-02, -1.92001443e-02,\n",
       "        -2.12159064e-02,  4.84905206e-02, -2.96322200e-02, -2.48671193e-02,\n",
       "        -2.33492944e-02, -3.33901793e-02, -6.86829910e-02, -3.97664644e-02,\n",
       "        -8.61901673e-04, -4.14697379e-02, -1.91370007e-02,  3.87647375e-02,\n",
       "         2.20057387e-02, -2.76194587e-02, -1.51681695e-02, -6.78874627e-02,\n",
       "        -6.66526565e-03,  1.11730872e-02, -2.90594008e-02,  6.94820210e-02,\n",
       "         1.84270833e-02, -5.39825968e-02, -2.27761734e-02, -1.82506386e-02,\n",
       "        -3.30348238e-02, -6.05484750e-03,  3.39963473e-02,  2.88891904e-02,\n",
       "        -4.72524529e-03,  6.14801608e-02, -6.67045184e-04, -2.21894812e-02,\n",
       "        -2.27619857e-02,  4.27838862e-02, -4.80175875e-02,  5.18514961e-03,\n",
       "        -2.93288771e-02,  1.39080724e-02,  3.70632915e-04, -1.87732261e-02,\n",
       "        -7.46122822e-02, -5.33054098e-02, -8.73191934e-03,  1.99567284e-02,\n",
       "         1.47615559e-03,  9.28280316e-03, -5.08726835e-02, -2.16725972e-02,\n",
       "        -2.55573951e-02, -1.54164014e-03, -5.29502053e-03, -2.02042889e-02,\n",
       "        -5.36555760e-02,  2.38106940e-02, -4.49301256e-03, -4.11011241e-02,\n",
       "        -3.28923576e-02,  3.38793136e-02,  6.34123906e-02, -2.08678208e-02,\n",
       "         1.25373518e-02,  4.69583683e-02,  2.02903990e-02, -1.93596315e-02,\n",
       "        -1.38398577e-02, -1.24103939e-02, -9.12209693e-03, -3.88197415e-02,\n",
       "        -6.42779167e-04,  2.50580553e-02, -1.42313982e-03,  3.11763547e-02,\n",
       "        -3.73144336e-02,  2.45122779e-02, -4.63004299e-02, -5.87354356e-04,\n",
       "        -8.27941447e-02, -3.17483768e-02, -3.48049626e-02,  1.91742498e-02,\n",
       "         3.48038711e-02, -6.23075105e-02,  8.74444935e-03, -3.28834541e-02,\n",
       "         4.10176739e-02,  5.87485824e-03, -4.98401746e-02,  2.52622347e-02,\n",
       "        -7.49837831e-02,  2.17533894e-02, -1.62180923e-02, -2.01479886e-02,\n",
       "        -7.17099896e-03, -2.11799964e-02,  9.11290664e-03, -2.99525689e-02,\n",
       "         5.15040010e-03,  1.77550595e-02,  3.86582799e-02, -6.14520274e-02,\n",
       "        -4.57335822e-02,  3.08753038e-03, -7.20975408e-03,  1.91641285e-03,\n",
       "        -5.27440310e-02, -1.00717910e-01, -2.46604104e-02,  3.62460725e-02,\n",
       "        -1.27697289e-02, -4.20372002e-02, -4.48317975e-02, -5.52563146e-02,\n",
       "        -1.04429480e-02, -2.81007178e-02, -7.48127326e-03,  2.22381372e-02,\n",
       "        -3.04218531e-02, -1.90866422e-02, -2.93039507e-03, -8.85135978e-02,\n",
       "         5.71116619e-03,  5.30890189e-03, -3.46002057e-02,  9.04583652e-03,\n",
       "        -1.15993968e-03,  1.11956149e-02, -1.52256778e-02,  1.15361158e-02,\n",
       "         2.02789567e-02, -1.01760058e-02,  2.02109907e-02, -1.25580970e-02,\n",
       "        -4.22477834e-02,  7.63185769e-02,  6.32905215e-03, -1.94194149e-02,\n",
       "        -1.20677864e-02, -1.77527070e-02, -2.14632954e-02, -1.59555990e-02,\n",
       "         1.94108265e-03, -5.19286022e-02, -1.37435114e-02,  1.61550951e-03,\n",
       "         6.06004661e-03, -1.44908419e-02,  8.14763829e-02, -2.58337893e-03,\n",
       "        -3.49767730e-02,  3.90272178e-02, -1.80700906e-02, -4.99574409e-04,\n",
       "        -4.21387665e-02, -3.62812402e-03,  4.62750066e-03, -4.31886762e-02,\n",
       "        -3.20829004e-02, -1.68925580e-02,  4.25844826e-02,  6.84592202e-02,\n",
       "         2.10960535e-03,  3.21674459e-02, -6.30246243e-04,  1.51493950e-02,\n",
       "         1.96867976e-02,  3.16120610e-02, -5.64147579e-03,  2.33639535e-02,\n",
       "         1.62761714e-02, -6.31284043e-02, -2.47229785e-02,  1.18889557e-02,\n",
       "         6.85239071e-03,  1.78686921e-02,  2.05111727e-02, -2.58206334e-02,\n",
       "        -6.91525713e-02, -3.27379480e-02, -3.68974060e-02, -8.57585389e-03,\n",
       "        -3.18089649e-02, -4.12837714e-02, -3.00584901e-02,  3.24789644e-03,\n",
       "        -2.87847407e-02, -5.62488921e-02,  4.85664196e-02, -2.18662955e-02,\n",
       "         1.05604149e-01,  9.62062366e-03, -3.75921875e-02, -4.41254303e-02,\n",
       "        -1.20405210e-02, -6.63409941e-04,  2.16958039e-02,  4.50894758e-02,\n",
       "         1.55708671e-03, -5.36054075e-02,  1.63803268e-02, -7.10629076e-02,\n",
       "        -1.62036717e-02, -7.84134725e-04,  3.26115638e-02, -4.60392572e-02,\n",
       "        -1.30408187e-03, -6.31563738e-03, -6.76706526e-03,  4.44760770e-02,\n",
       "        -2.08880138e-02,  2.45922003e-02, -5.92739843e-02,  1.05694626e-02,\n",
       "        -3.12105883e-02, -4.40955572e-02, -2.00982429e-02, -2.35975571e-02,\n",
       "        -4.12038974e-02, -6.69035362e-03,  1.31902369e-02, -6.23350739e-02,\n",
       "        -3.54497619e-02,  5.91714075e-03, -3.92465070e-02, -3.50180343e-02,\n",
       "         6.95100147e-03, -1.46683585e-02, -4.48747426e-02, -1.84426010e-02,\n",
       "         1.78320557e-02, -1.41440239e-02,  5.67947663e-02, -5.36823645e-02,\n",
       "        -2.49620117e-02, -1.65303405e-02, -6.18977025e-02,  6.34462899e-03,\n",
       "         6.10150248e-02, -4.40849066e-02, -7.08634919e-03,  7.58039346e-03,\n",
       "        -1.41244736e-02, -3.54607329e-02, -1.71416588e-02, -4.02662344e-02,\n",
       "        -3.11692338e-02, -4.58576251e-03, -3.62407006e-02, -4.16655699e-03,\n",
       "         7.05069955e-03, -5.24786152e-02,  1.74334776e-02,  1.27471890e-02,\n",
       "        -5.43595478e-02, -3.22576798e-02, -3.50829996e-02,  2.47762389e-02,\n",
       "        -1.47722149e-03, -3.87481302e-02,  4.43565287e-02, -6.41355291e-02,\n",
       "        -5.04938141e-02,  3.85454185e-02,  2.42140796e-02,  1.68027561e-02,\n",
       "        -1.44600719e-02,  9.86799598e-03, -4.15543169e-02,  8.75031017e-03,\n",
       "         3.86758111e-02, -5.39566875e-02, -2.51110028e-02,  1.06782302e-01,\n",
       "        -3.41663510e-02, -3.70513499e-02, -3.35563868e-02, -4.75823283e-02,\n",
       "         2.03765947e-02, -4.90411595e-02, -3.01579628e-02, -8.00251402e-03,\n",
       "        -1.58681925e-02,  5.43301068e-02,  3.96928973e-02, -6.84563369e-02,\n",
       "        -4.47393730e-02, -8.37320928e-03, -1.76723767e-02, -4.17926870e-02,\n",
       "         1.87460252e-03, -6.44654259e-02, -5.50623387e-02,  2.45228428e-02,\n",
       "         1.85717177e-02,  2.79833544e-02, -2.99155228e-02, -1.73586458e-02,\n",
       "        -1.41954459e-02,  2.29788739e-02,  8.28360245e-02,  6.12228643e-03,\n",
       "        -1.97442770e-02, -2.69666221e-02, -1.54016158e-02,  2.11599898e-02,\n",
       "         2.13486478e-02, -3.87625955e-02, -5.27427383e-02,  4.71186750e-02,\n",
       "        -2.10668519e-02,  3.76495793e-02,  5.77052236e-02,  7.24233128e-03,\n",
       "        -1.53544061e-02, -6.45518899e-02, -3.82024534e-02,  8.35032091e-02,\n",
       "         1.09936232e-02,  3.38443741e-02, -5.67292620e-04, -3.72831337e-02,\n",
       "        -5.83193032e-03, -3.02815586e-02,  1.33471275e-02, -1.64572746e-02,\n",
       "        -1.46307964e-02, -5.11092842e-02, -3.19453143e-02, -1.73825249e-02,\n",
       "        -1.15817320e-03,  7.44009810e-03, -5.76186292e-02, -7.30976909e-02,\n",
       "         3.21350899e-03, -7.84958433e-03, -4.67042555e-04,  3.42651047e-02,\n",
       "        -4.30223010e-02, -3.55141610e-03, -2.36317776e-02, -1.92358680e-02,\n",
       "         1.12079959e-02,  1.78253883e-03,  3.28408405e-02, -5.29553816e-02,\n",
       "        -1.69347692e-02, -3.16400384e-03,  2.14089267e-03,  3.69100994e-03,\n",
       "         4.00395244e-02, -6.22311383e-02,  1.73598789e-02, -1.88857727e-02,\n",
       "        -5.16741425e-02,  3.03830542e-02, -1.06623573e-02, -4.68721353e-02,\n",
       "         4.38633747e-02,  3.69519158e-03, -9.75081231e-03, -4.41854186e-02,\n",
       "         2.56311540e-02,  2.95308754e-02,  1.71098504e-02, -1.01189467e-03,\n",
       "        -5.15730195e-02,  3.07980198e-02,  2.87089851e-02, -3.19339447e-02,\n",
       "         1.79422610e-02,  3.76158953e-03, -4.44521457e-02, -6.34355769e-02,\n",
       "         4.00809273e-02,  5.67916723e-04, -5.06296270e-02, -1.38149867e-02,\n",
       "        -2.54593585e-02, -3.59836849e-03, -8.19715858e-03, -5.83592467e-02,\n",
       "        -3.50961573e-02,  6.94829971e-02,  6.56083375e-02, -4.19501960e-03,\n",
       "         1.24558993e-02,  2.46339999e-02, -1.68762226e-02, -1.64880902e-02,\n",
       "        -5.63324764e-02, -5.58201363e-03,  9.12249908e-02, -7.53082111e-02,\n",
       "         1.27797062e-02,  9.65399668e-03, -8.20812359e-02, -3.39533091e-02,\n",
       "         7.28627369e-02, -8.09429362e-02, -7.92556480e-02,  9.94251948e-03,\n",
       "         7.32142106e-03,  9.20212269e-02,  4.60662022e-02, -1.43580791e-02,\n",
       "        -1.51680363e-02, -3.40957120e-02, -4.75916080e-03,  1.05124684e-02,\n",
       "         5.20255677e-02, -2.22662948e-02,  3.96932401e-02, -3.67220342e-02,\n",
       "        -8.57025199e-03,  4.65373546e-02, -4.22515906e-02, -1.87566113e-02,\n",
       "         2.21882742e-02,  1.71087142e-02, -6.55202474e-03,  4.02643066e-03,\n",
       "        -6.42882707e-03, -2.87915766e-02,  2.69181989e-02, -3.96212675e-02],\n",
       "       dtype=float32)]"
      ]
     },
     "execution_count": 49,
     "metadata": {},
     "output_type": "execute_result"
    }
   ],
   "source": [
    "model.layers[0].get_weights()"
   ]
  },
  {
   "cell_type": "code",
   "execution_count": 50,
   "metadata": {},
   "outputs": [
    {
     "name": "stdout",
     "output_type": "stream",
     "text": [
      "weights_shape:  (784, 512)\n",
      "bias_shape:  (512,)\n"
     ]
    }
   ],
   "source": [
    "wt = model.layers[0].get_weights()\n",
    "#wt.shape\n",
    "weights = wt[0]\n",
    "bias = wt[1]\n",
    "print ('weights_shape: ',wt[0].shape)\n",
    "print ('bias_shape: ',wt[1].shape)"
   ]
  },
  {
   "cell_type": "code",
   "execution_count": 51,
   "metadata": {},
   "outputs": [
    {
     "data": {
      "text/plain": [
       "True"
      ]
     },
     "execution_count": 51,
     "metadata": {},
     "output_type": "execute_result"
    }
   ],
   "source": [
    "model.layers[0].trainable"
   ]
  },
  {
   "cell_type": "code",
   "execution_count": null,
   "metadata": {
    "collapsed": true
   },
   "outputs": [],
   "source": []
  }
 ],
 "metadata": {
  "kernelspec": {
   "display_name": "Python 3",
   "language": "python",
   "name": "python3"
  },
  "language_info": {
   "codemirror_mode": {
    "name": "ipython",
    "version": 3
   },
   "file_extension": ".py",
   "mimetype": "text/x-python",
   "name": "python",
   "nbconvert_exporter": "python",
   "pygments_lexer": "ipython3",
   "version": "3.6.1"
  }
 },
 "nbformat": 4,
 "nbformat_minor": 2
}
