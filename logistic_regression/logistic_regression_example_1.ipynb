{
 "cells": [
  {
   "cell_type": "markdown",
   "metadata": {},
   "source": [
    "# Implementing logistic Regression in keras-Example-1"
   ]
  },
  {
   "cell_type": "markdown",
   "metadata": {},
   "source": [
    "### Experiment with learning rate of SGD"
   ]
  },
  {
   "cell_type": "code",
   "execution_count": 7,
   "metadata": {},
   "outputs": [],
   "source": [
    "import numpy as np\n",
    "from keras import optimizers\n",
    "from keras.models import Sequential\n",
    "from keras.layers import Dense"
   ]
  },
  {
   "cell_type": "markdown",
   "metadata": {},
   "source": [
    "### Generate dummy data"
   ]
  },
  {
   "cell_type": "code",
   "execution_count": 8,
   "metadata": {
    "collapsed": true
   },
   "outputs": [],
   "source": [
    "data = np.random.random((1000, 100))\n",
    "labels = np.random.randint(2, size=(1000, 1))\n"
   ]
  },
  {
   "cell_type": "code",
   "execution_count": 9,
   "metadata": {},
   "outputs": [
    {
     "data": {
      "text/plain": [
       "array([ 0.68941943,  0.20234914,  0.22795951,  0.13654291,  0.9496444 ,\n",
       "        0.66053808,  0.57434975,  0.92488218,  0.34305161,  0.77777228,\n",
       "        0.25218737,  0.84273695,  0.74879504,  0.79180903,  0.10493674,\n",
       "        0.39808622,  0.98058108,  0.54074071,  0.06507074,  0.22392778,\n",
       "        0.1406023 ,  0.15566175,  0.06932828,  0.79812452,  0.68217003,\n",
       "        0.04583047,  0.87101939,  0.67183207,  0.81175133,  0.16316683,\n",
       "        0.24199497,  0.11851872,  0.15981273,  0.16493075,  0.54650326,\n",
       "        0.18790497,  0.80768983,  0.93405202,  0.45290127,  0.54283165,\n",
       "        0.04208775,  0.97324081,  0.37704202,  0.38153972,  0.65508443,\n",
       "        0.27221435,  0.1836963 ,  0.03399324,  0.61495748,  0.91498238,\n",
       "        0.63778612,  0.72322341,  0.58963158,  0.72949974,  0.94152587,\n",
       "        0.50262626,  0.96646913,  0.96761459,  0.89015296,  0.96872041,\n",
       "        0.86309562,  0.40563869,  0.78587159,  0.78279707,  0.13700272,\n",
       "        0.45137207,  0.24979612,  0.531268  ,  0.54581436,  0.59103732,\n",
       "        0.70954449,  0.82583512,  0.21024496,  0.9475039 ,  0.61689989,\n",
       "        0.55421603,  0.51233632,  0.580096  ,  0.69517785,  0.01759355,\n",
       "        0.70964207,  0.61870793,  0.30679746,  0.83870599,  0.43180446,\n",
       "        0.62351832,  0.17853515,  0.37742122,  0.92104336,  0.93807261,\n",
       "        0.425943  ,  0.10451533,  0.5854643 ,  0.97852224,  0.87152992,\n",
       "        0.44254114,  0.34947972,  0.86239017,  0.03469472,  0.14504306])"
      ]
     },
     "execution_count": 9,
     "metadata": {},
     "output_type": "execute_result"
    }
   ],
   "source": [
    "data[0]"
   ]
  },
  {
   "cell_type": "code",
   "execution_count": 10,
   "metadata": {},
   "outputs": [
    {
     "data": {
      "text/plain": [
       "array([[1],\n",
       "       [0],\n",
       "       [1],\n",
       "       [0],\n",
       "       [1],\n",
       "       [1],\n",
       "       [1],\n",
       "       [1],\n",
       "       [0],\n",
       "       [0]])"
      ]
     },
     "execution_count": 10,
     "metadata": {},
     "output_type": "execute_result"
    }
   ],
   "source": [
    "labels[0:10]"
   ]
  },
  {
   "cell_type": "code",
   "execution_count": 11,
   "metadata": {},
   "outputs": [
    {
     "name": "stdout",
     "output_type": "stream",
     "text": [
      "data_shape:  (1000, 100)\n",
      "num_samples:  1000\n",
      "feature_length of each sample:  100\n",
      "labels_shape:  (1000, 1)\n"
     ]
    }
   ],
   "source": [
    "print ('data_shape: ',data.shape)\n",
    "print ('num_samples: ',data.shape[0])\n",
    "print ('feature_length of each sample: ',data.shape[1])\n",
    "print ('labels_shape: ', labels.shape)"
   ]
  },
  {
   "cell_type": "code",
   "execution_count": 12,
   "metadata": {
    "collapsed": true
   },
   "outputs": [],
   "source": [
    "num_epoch = 100\n",
    "batch_size = 32"
   ]
  },
  {
   "cell_type": "code",
   "execution_count": 13,
   "metadata": {},
   "outputs": [
    {
     "name": "stdout",
     "output_type": "stream",
     "text": [
      "Epoch 1/100\n",
      "1000/1000 [==============================] - 0s 310us/step - loss: 0.7569 - acc: 0.4750\n",
      "Epoch 2/100\n",
      "1000/1000 [==============================] - 0s 140us/step - loss: 0.7421 - acc: 0.4670\n",
      "Epoch 3/100\n",
      "1000/1000 [==============================] - 0s 172us/step - loss: 0.7323 - acc: 0.4860\n",
      "Epoch 4/100\n",
      "1000/1000 [==============================] - 0s 109us/step - loss: 0.7256 - acc: 0.4850\n",
      "Epoch 5/100\n",
      "1000/1000 [==============================] - 0s 125us/step - loss: 0.7211 - acc: 0.5030\n",
      "Epoch 6/100\n",
      "1000/1000 [==============================] - 0s 125us/step - loss: 0.7180 - acc: 0.5030\n",
      "Epoch 7/100\n",
      "1000/1000 [==============================] - 0s 125us/step - loss: 0.7157 - acc: 0.5020\n",
      "Epoch 8/100\n",
      "1000/1000 [==============================] - 0s 109us/step - loss: 0.7140 - acc: 0.4990\n",
      "Epoch 9/100\n",
      "1000/1000 [==============================] - 0s 112us/step - loss: 0.7127 - acc: 0.5040\n",
      "Epoch 10/100\n",
      "1000/1000 [==============================] - 0s 109us/step - loss: 0.7121 - acc: 0.5060\n",
      "Epoch 11/100\n",
      "1000/1000 [==============================] - 0s 109us/step - loss: 0.7116 - acc: 0.5070\n",
      "Epoch 12/100\n",
      "1000/1000 [==============================] - 0s 94us/step - loss: 0.7112 - acc: 0.5160\n",
      "Epoch 13/100\n",
      "1000/1000 [==============================] - 0s 94us/step - loss: 0.7109 - acc: 0.5190\n",
      "Epoch 14/100\n",
      "1000/1000 [==============================] - 0s 94us/step - loss: 0.7107 - acc: 0.5200\n",
      "Epoch 15/100\n",
      "1000/1000 [==============================] - 0s 94us/step - loss: 0.7105 - acc: 0.5210\n",
      "Epoch 16/100\n",
      "1000/1000 [==============================] - 0s 109us/step - loss: 0.7103 - acc: 0.5240\n",
      "Epoch 17/100\n",
      "1000/1000 [==============================] - 0s 98us/step - loss: 0.7101 - acc: 0.5270\n",
      "Epoch 18/100\n",
      "1000/1000 [==============================] - 0s 96us/step - loss: 0.7101 - acc: 0.5270\n",
      "Epoch 19/100\n",
      "1000/1000 [==============================] - 0s 98us/step - loss: 0.7100 - acc: 0.5310\n",
      "Epoch 20/100\n",
      "1000/1000 [==============================] - 0s 94us/step - loss: 0.7098 - acc: 0.5300\n",
      "Epoch 21/100\n",
      "1000/1000 [==============================] - 0s 94us/step - loss: 0.7097 - acc: 0.5320\n",
      "Epoch 22/100\n",
      "1000/1000 [==============================] - 0s 109us/step - loss: 0.7096 - acc: 0.5300\n",
      "Epoch 23/100\n",
      "1000/1000 [==============================] - 0s 125us/step - loss: 0.7095 - acc: 0.5300\n",
      "Epoch 24/100\n",
      "1000/1000 [==============================] - 0s 94us/step - loss: 0.7094 - acc: 0.5340\n",
      "Epoch 25/100\n",
      "1000/1000 [==============================] - 0s 78us/step - loss: 0.7093 - acc: 0.5320\n",
      "Epoch 26/100\n",
      "1000/1000 [==============================] - 0s 94us/step - loss: 0.7092 - acc: 0.5300\n",
      "Epoch 27/100\n",
      "1000/1000 [==============================] - 0s 94us/step - loss: 0.7092 - acc: 0.5310\n",
      "Epoch 28/100\n",
      "1000/1000 [==============================] - 0s 111us/step - loss: 0.7091 - acc: 0.5310\n",
      "Epoch 29/100\n",
      "1000/1000 [==============================] - 0s 94us/step - loss: 0.7090 - acc: 0.5320\n",
      "Epoch 30/100\n",
      "1000/1000 [==============================] - 0s 94us/step - loss: 0.7089 - acc: 0.5340\n",
      "Epoch 31/100\n",
      "1000/1000 [==============================] - 0s 94us/step - loss: 0.7088 - acc: 0.5320\n",
      "Epoch 32/100\n",
      "1000/1000 [==============================] - 0s 78us/step - loss: 0.7087 - acc: 0.5360\n",
      "Epoch 33/100\n",
      "1000/1000 [==============================] - 0s 94us/step - loss: 0.7086 - acc: 0.5350\n",
      "Epoch 34/100\n",
      "1000/1000 [==============================] - 0s 94us/step - loss: 0.7085 - acc: 0.5350\n",
      "Epoch 35/100\n",
      "1000/1000 [==============================] - 0s 94us/step - loss: 0.7084 - acc: 0.5340\n",
      "Epoch 36/100\n",
      "1000/1000 [==============================] - 0s 78us/step - loss: 0.7083 - acc: 0.5340\n",
      "Epoch 37/100\n",
      "1000/1000 [==============================] - 0s 78us/step - loss: 0.7082 - acc: 0.5350\n",
      "Epoch 38/100\n",
      "1000/1000 [==============================] - 0s 94us/step - loss: 0.7081 - acc: 0.5340\n",
      "Epoch 39/100\n",
      "1000/1000 [==============================] - 0s 97us/step - loss: 0.7080 - acc: 0.5370\n",
      "Epoch 40/100\n",
      "1000/1000 [==============================] - 0s 78us/step - loss: 0.7080 - acc: 0.5360\n",
      "Epoch 41/100\n",
      "1000/1000 [==============================] - 0s 94us/step - loss: 0.7079 - acc: 0.5350\n",
      "Epoch 42/100\n",
      "1000/1000 [==============================] - 0s 78us/step - loss: 0.7078 - acc: 0.5310\n",
      "Epoch 43/100\n",
      "1000/1000 [==============================] - 0s 94us/step - loss: 0.7077 - acc: 0.5300\n",
      "Epoch 44/100\n",
      "1000/1000 [==============================] - 0s 78us/step - loss: 0.7076 - acc: 0.5330\n",
      "Epoch 45/100\n",
      "1000/1000 [==============================] - ETA: 0s - loss: 0.7005 - acc: 0.544 - 0s 78us/step - loss: 0.7075 - acc: 0.5320\n",
      "Epoch 46/100\n",
      "1000/1000 [==============================] - 0s 78us/step - loss: 0.7074 - acc: 0.5330\n",
      "Epoch 47/100\n",
      "1000/1000 [==============================] - 0s 78us/step - loss: 0.7074 - acc: 0.5340\n",
      "Epoch 48/100\n",
      "1000/1000 [==============================] - 0s 78us/step - loss: 0.7072 - acc: 0.5340\n",
      "Epoch 49/100\n",
      "1000/1000 [==============================] - 0s 78us/step - loss: 0.7071 - acc: 0.5360\n",
      "Epoch 50/100\n",
      "1000/1000 [==============================] - 0s 78us/step - loss: 0.7071 - acc: 0.5360\n",
      "Epoch 51/100\n",
      "1000/1000 [==============================] - 0s 82us/step - loss: 0.7070 - acc: 0.5340\n",
      "Epoch 52/100\n",
      "1000/1000 [==============================] - 0s 78us/step - loss: 0.7069 - acc: 0.5330\n",
      "Epoch 53/100\n",
      "1000/1000 [==============================] - 0s 78us/step - loss: 0.7068 - acc: 0.5340\n",
      "Epoch 54/100\n",
      "1000/1000 [==============================] - 0s 62us/step - loss: 0.7067 - acc: 0.5370\n",
      "Epoch 55/100\n",
      "1000/1000 [==============================] - 0s 78us/step - loss: 0.7066 - acc: 0.5330\n",
      "Epoch 56/100\n",
      "1000/1000 [==============================] - 0s 62us/step - loss: 0.7066 - acc: 0.5310\n",
      "Epoch 57/100\n",
      "1000/1000 [==============================] - 0s 47us/step - loss: 0.7065 - acc: 0.5300\n",
      "Epoch 58/100\n",
      "1000/1000 [==============================] - 0s 62us/step - loss: 0.7064 - acc: 0.5350\n",
      "Epoch 59/100\n",
      "1000/1000 [==============================] - ETA: 0s - loss: 0.7116 - acc: 0.524 - 0s 62us/step - loss: 0.7063 - acc: 0.5330\n",
      "Epoch 60/100\n",
      "1000/1000 [==============================] - 0s 62us/step - loss: 0.7062 - acc: 0.5340\n",
      "Epoch 61/100\n",
      "1000/1000 [==============================] - 0s 62us/step - loss: 0.7061 - acc: 0.5330\n",
      "Epoch 62/100\n",
      "1000/1000 [==============================] - 0s 62us/step - loss: 0.7060 - acc: 0.5340\n",
      "Epoch 63/100\n",
      "1000/1000 [==============================] - 0s 62us/step - loss: 0.7060 - acc: 0.5350\n",
      "Epoch 64/100\n",
      "1000/1000 [==============================] - 0s 47us/step - loss: 0.7059 - acc: 0.5350\n",
      "Epoch 65/100\n",
      "1000/1000 [==============================] - 0s 66us/step - loss: 0.7058 - acc: 0.5350\n",
      "Epoch 66/100\n",
      "1000/1000 [==============================] - 0s 62us/step - loss: 0.7057 - acc: 0.5320\n",
      "Epoch 67/100\n",
      "1000/1000 [==============================] - 0s 62us/step - loss: 0.7056 - acc: 0.5350\n",
      "Epoch 68/100\n",
      "1000/1000 [==============================] - 0s 62us/step - loss: 0.7055 - acc: 0.5310\n",
      "Epoch 69/100\n",
      "1000/1000 [==============================] - 0s 62us/step - loss: 0.7054 - acc: 0.5320\n",
      "Epoch 70/100\n",
      "1000/1000 [==============================] - 0s 78us/step - loss: 0.7053 - acc: 0.5300\n",
      "Epoch 71/100\n",
      "1000/1000 [==============================] - 0s 78us/step - loss: 0.7053 - acc: 0.5320\n",
      "Epoch 72/100\n",
      "1000/1000 [==============================] - 0s 62us/step - loss: 0.7051 - acc: 0.5330\n",
      "Epoch 73/100\n",
      "1000/1000 [==============================] - 0s 78us/step - loss: 0.7051 - acc: 0.5310\n",
      "Epoch 74/100\n",
      "1000/1000 [==============================] - 0s 78us/step - loss: 0.7050 - acc: 0.5290\n",
      "Epoch 75/100\n",
      "1000/1000 [==============================] - 0s 47us/step - loss: 0.7049 - acc: 0.5310\n",
      "Epoch 76/100\n",
      "1000/1000 [==============================] - 0s 62us/step - loss: 0.7048 - acc: 0.5310\n",
      "Epoch 77/100\n",
      "1000/1000 [==============================] - 0s 62us/step - loss: 0.7047 - acc: 0.5300\n",
      "Epoch 78/100\n",
      "1000/1000 [==============================] - 0s 62us/step - loss: 0.7046 - acc: 0.5320\n",
      "Epoch 79/100\n",
      "1000/1000 [==============================] - 0s 78us/step - loss: 0.7045 - acc: 0.5310\n",
      "Epoch 80/100\n",
      "1000/1000 [==============================] - 0s 70us/step - loss: 0.7044 - acc: 0.5300\n",
      "Epoch 81/100\n",
      "1000/1000 [==============================] - 0s 78us/step - loss: 0.7044 - acc: 0.5310\n",
      "Epoch 82/100\n"
     ]
    },
    {
     "name": "stdout",
     "output_type": "stream",
     "text": [
      "1000/1000 [==============================] - 0s 62us/step - loss: 0.7043 - acc: 0.5330\n",
      "Epoch 83/100\n",
      "1000/1000 [==============================] - 0s 62us/step - loss: 0.7042 - acc: 0.5300\n",
      "Epoch 84/100\n",
      "1000/1000 [==============================] - 0s 62us/step - loss: 0.7042 - acc: 0.5300\n",
      "Epoch 85/100\n",
      "1000/1000 [==============================] - 0s 62us/step - loss: 0.7040 - acc: 0.5300\n",
      "Epoch 86/100\n",
      "1000/1000 [==============================] - 0s 47us/step - loss: 0.7039 - acc: 0.5330\n",
      "Epoch 87/100\n",
      "1000/1000 [==============================] - 0s 62us/step - loss: 0.7039 - acc: 0.5290\n",
      "Epoch 88/100\n",
      "1000/1000 [==============================] - 0s 62us/step - loss: 0.7038 - acc: 0.5320\n",
      "Epoch 89/100\n",
      "1000/1000 [==============================] - 0s 62us/step - loss: 0.7037 - acc: 0.5330\n",
      "Epoch 90/100\n",
      "1000/1000 [==============================] - 0s 62us/step - loss: 0.7036 - acc: 0.5310\n",
      "Epoch 91/100\n",
      "1000/1000 [==============================] - 0s 62us/step - loss: 0.7035 - acc: 0.5320\n",
      "Epoch 92/100\n",
      "1000/1000 [==============================] - 0s 62us/step - loss: 0.7034 - acc: 0.5330\n",
      "Epoch 93/100\n",
      "1000/1000 [==============================] - 0s 62us/step - loss: 0.7034 - acc: 0.5320\n",
      "Epoch 94/100\n",
      "1000/1000 [==============================] - 0s 62us/step - loss: 0.7033 - acc: 0.5300\n",
      "Epoch 95/100\n",
      "1000/1000 [==============================] - 0s 80us/step - loss: 0.7032 - acc: 0.5310\n",
      "Epoch 96/100\n",
      "1000/1000 [==============================] - 0s 47us/step - loss: 0.7031 - acc: 0.5340\n",
      "Epoch 97/100\n",
      "1000/1000 [==============================] - 0s 62us/step - loss: 0.7030 - acc: 0.5310\n",
      "Epoch 98/100\n",
      "1000/1000 [==============================] - 0s 62us/step - loss: 0.7030 - acc: 0.5290\n",
      "Epoch 99/100\n",
      "1000/1000 [==============================] - ETA: 0s - loss: 0.7453 - acc: 0.531 - 0s 62us/step - loss: 0.7028 - acc: 0.5330\n",
      "Epoch 100/100\n",
      "1000/1000 [==============================] - 0s 47us/step - loss: 0.7027 - acc: 0.5300\n"
     ]
    }
   ],
   "source": [
    "# Define the model\n",
    "model = Sequential()\n",
    "model.add(Dense(1, activation='sigmoid', input_dim=100))\n",
    "\n",
    "#sgd = optimizers.SGD(lr=0.0001, decay=1e-6, momentum=0.9, nesterov=True)\n",
    "sgd = optimizers.SGD(lr=0.001)\n",
    "# Compiling the model\n",
    "model.compile(optimizer=sgd, loss='binary_crossentropy', metrics=['accuracy'])\n",
    "\n",
    "# Train the model, iterating on the data in batches of 32 samples\n",
    "hist = model.fit(data, labels, epochs=num_epoch, batch_size=batch_size)\n"
   ]
  },
  {
   "cell_type": "markdown",
   "metadata": {},
   "source": [
    "## Plotting the loss & accuracy curve"
   ]
  },
  {
   "cell_type": "code",
   "execution_count": 14,
   "metadata": {
    "collapsed": true
   },
   "outputs": [],
   "source": [
    "import matplotlib.pyplot as plt\n",
    "%matplotlib inline"
   ]
  },
  {
   "cell_type": "code",
   "execution_count": 15,
   "metadata": {},
   "outputs": [
    {
     "data": {
      "image/png": "[encoded data removed]",
      "text/plain": [
       "<matplotlib.figure.Figure at 0xf07e8d0>"
      ]
     },
     "metadata": {},
     "output_type": "display_data"
    },
    {
     "data": {
      "image/png": "[encoded data removed]",
      "text/plain": [
       "<matplotlib.figure.Figure at 0x3e94198>"
      ]
     },
     "metadata": {},
     "output_type": "display_data"
    }
   ],
   "source": [
    "# visualizing losses and accuracy\n",
    "train_loss=hist.history['loss']\n",
    "#val_loss=hist.history['val_loss']\n",
    "train_acc=hist.history['acc']\n",
    "#val_acc=hist.history['val_acc']\n",
    "xc=range(num_epoch)\n",
    "\n",
    "plt.figure(1,figsize=(7,5))\n",
    "plt.plot(xc,train_loss)\n",
    "#plt.plot(xc,val_loss)\n",
    "plt.xlabel('num of Epochs')\n",
    "plt.ylabel('loss')\n",
    "plt.title('train_loss')\n",
    "plt.grid(True)\n",
    "plt.legend(['train'])\n",
    "#print plt.style.available # use bmh, classic,ggplot for big pictures\n",
    "plt.style.use(['classic'])\n",
    "# To save the figure\n",
    "plt.savefig('loss_ex-1.png')\n",
    "\n",
    "plt.figure(2,figsize=(7,5))\n",
    "plt.plot(xc,train_acc)\n",
    "#plt.plot(xc,val_acc)\n",
    "plt.xlabel('num of Epochs')\n",
    "plt.ylabel('accuracy')\n",
    "plt.title('train_acc')\n",
    "plt.grid(True)\n",
    "plt.legend(['train'],loc=4)\n",
    "#print plt.style.available # use bmh, classic,ggplot for big pictures\n",
    "plt.style.use(['classic'])\n",
    "# To save the figure\n",
    "plt.savefig('acc_ex-1.png')"
   ]
  },
  {
   "cell_type": "code",
   "execution_count": null,
   "metadata": {
    "collapsed": true
   },
   "outputs": [],
   "source": []
  }
 ],
 "metadata": {
  "kernelspec": {
   "display_name": "Python 3",
   "language": "python",
   "name": "python3"
  }
 },
 "nbformat": 4,
 "nbformat_minor": 2
}
