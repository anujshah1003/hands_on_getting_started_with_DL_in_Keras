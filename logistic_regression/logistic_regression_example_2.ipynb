{
 "cells": [
  {
   "cell_type": "markdown",
   "metadata": {},
   "source": [
    "# Logistic Regression for binary classification in keras - Example-2"
   ]
  },
  {
   "cell_type": "markdown",
   "metadata": {},
   "source": [
    "### Experiment - normalizing of input data and changing the optimizer, reducing the batch size"
   ]
  },
  {
   "cell_type": "markdown",
   "metadata": {},
   "source": [
    "## import the required libraries"
   ]
  },
  {
   "cell_type": "code",
   "execution_count": 1,
   "metadata": {},
   "outputs": [
    {
     "name": "stderr",
     "output_type": "stream",
     "text": [
      "Using TensorFlow backend.\n"
     ]
    },
    {
     "name": "stdout",
     "output_type": "stream",
     "text": [
      "2.2.2\n"
     ]
    }
   ],
   "source": [
    "import os  \n",
    "\n",
    "import numpy as np  \n",
    "import pandas as pd \n",
    " \n",
    "import matplotlib.pyplot as plt  \n",
    "%matplotlib inline\n",
    "\n",
    "from keras import regularizers\n",
    "from keras.models import Sequential\n",
    "from keras.layers import Dense\n",
    "from keras import optimizers\n",
    "\n",
    "import keras\n",
    "print (keras.__version__)\n"
   ]
  },
  {
   "cell_type": "markdown",
   "metadata": {},
   "source": [
    "## Load the data"
   ]
  },
  {
   "cell_type": "code",
   "execution_count": 2,
   "metadata": {},
   "outputs": [
    {
     "data": {
      "text/html": [
       "<div>\n",
       "<style>\n",
       "    .dataframe thead tr:only-child th {\n",
       "        text-align: right;\n",
       "    }\n",
       "\n",
       "    .dataframe thead th {\n",
       "        text-align: left;\n",
       "    }\n",
       "\n",
       "    .dataframe tbody tr th {\n",
       "        vertical-align: top;\n",
       "    }\n",
       "</style>\n",
       "<table border=\"1\" class=\"dataframe\">\n",
       "  <thead>\n",
       "    <tr style=\"text-align: right;\">\n",
       "      <th></th>\n",
       "      <th>Exam 1</th>\n",
       "      <th>Exam 2</th>\n",
       "      <th>Admitted</th>\n",
       "    </tr>\n",
       "  </thead>\n",
       "  <tbody>\n",
       "    <tr>\n",
       "      <th>0</th>\n",
       "      <td>34.623660</td>\n",
       "      <td>78.024693</td>\n",
       "      <td>0</td>\n",
       "    </tr>\n",
       "    <tr>\n",
       "      <th>1</th>\n",
       "      <td>30.286711</td>\n",
       "      <td>43.894998</td>\n",
       "      <td>0</td>\n",
       "    </tr>\n",
       "    <tr>\n",
       "      <th>2</th>\n",
       "      <td>35.847409</td>\n",
       "      <td>72.902198</td>\n",
       "      <td>0</td>\n",
       "    </tr>\n",
       "    <tr>\n",
       "      <th>3</th>\n",
       "      <td>60.182599</td>\n",
       "      <td>86.308552</td>\n",
       "      <td>1</td>\n",
       "    </tr>\n",
       "    <tr>\n",
       "      <th>4</th>\n",
       "      <td>79.032736</td>\n",
       "      <td>75.344376</td>\n",
       "      <td>1</td>\n",
       "    </tr>\n",
       "  </tbody>\n",
       "</table>\n",
       "</div>"
      ],
      "text/plain": [
       "      Exam 1     Exam 2  Admitted\n",
       "0  34.623660  78.024693         0\n",
       "1  30.286711  43.894998         0\n",
       "2  35.847409  72.902198         0\n",
       "3  60.182599  86.308552         1\n",
       "4  79.032736  75.344376         1"
      ]
     },
     "execution_count": 2,
     "metadata": {},
     "output_type": "execute_result"
    }
   ],
   "source": [
    "path = os.getcwd() + '\\ex2data1.txt'  \n",
    "data = pd.read_csv(path, names=['Exam 1', 'Exam 2', 'Admitted'])  \n",
    "data.head()"
   ]
  },
  {
   "cell_type": "markdown",
   "metadata": {},
   "source": [
    "## Plot the dataset"
   ]
  },
  {
   "cell_type": "code",
   "execution_count": 3,
   "metadata": {},
   "outputs": [
    {
     "data": {
      "text/plain": [
       "<matplotlib.text.Text at 0xcb2bcf8>"
      ]
     },
     "execution_count": 3,
     "metadata": {},
     "output_type": "execute_result"
    },
    {
     "data": {
      "image/png": "[encoded data removed]",
      "text/plain": [
       "<matplotlib.figure.Figure at 0xc9d9cf8>"
      ]
     },
     "metadata": {},
     "output_type": "display_data"
    }
   ],
   "source": [
    "positive = data[data['Admitted'].isin([1])]  \n",
    "negative = data[data['Admitted'].isin([0])]\n",
    "\n",
    "fig, ax = plt.subplots(figsize=(12,8))  \n",
    "ax.scatter(positive['Exam 1'], positive['Exam 2'], s=50, c='b', marker='o', label='Admitted')  \n",
    "ax.scatter(negative['Exam 1'], negative['Exam 2'], s=50, c='r', marker='x', label='Not Admitted')  \n",
    "ax.legend()  \n",
    "ax.set_xlabel('Exam 1 Score')  \n",
    "ax.set_ylabel('Exam 2 Score')"
   ]
  },
  {
   "cell_type": "code",
   "execution_count": 4,
   "metadata": {},
   "outputs": [
    {
     "name": "stdout",
     "output_type": "stream",
     "text": [
      "(100, 3)\n"
     ]
    }
   ],
   "source": [
    "print (data.shape)"
   ]
  },
  {
   "cell_type": "code",
   "execution_count": 5,
   "metadata": {
    "collapsed": true
   },
   "outputs": [],
   "source": [
    "cols = data.shape[1]  \n",
    "X = data.iloc[:,0:cols-1]  \n",
    "y = data.iloc[:,cols-1:cols]"
   ]
  },
  {
   "cell_type": "code",
   "execution_count": 6,
   "metadata": {},
   "outputs": [
    {
     "name": "stdout",
     "output_type": "stream",
     "text": [
      "data_shape:  (100, 2)\n",
      "label_shape: (100, 1)\n"
     ]
    }
   ],
   "source": [
    "\n",
    "X = np.array(X.values)\n",
    "y = np.array(y.values)\n",
    "print ('data_shape: ',X.shape)\n",
    "print ('label_shape:',y.shape)"
   ]
  },
  {
   "cell_type": "code",
   "execution_count": 7,
   "metadata": {},
   "outputs": [
    {
     "name": "stdout",
     "output_type": "stream",
     "text": [
      "78.0246928154 43.894997524\n"
     ]
    }
   ],
   "source": [
    "max_x1 = np.max(X[0])\n",
    "max_x2 = np.max(X[1])\n",
    "print (max_x1,max_x2)"
   ]
  },
  {
   "cell_type": "code",
   "execution_count": 8,
   "metadata": {},
   "outputs": [
    {
     "data": {
      "text/plain": [
       "array([[ 34.62365962,  78.02469282],\n",
       "       [ 30.28671077,  43.89499752],\n",
       "       [ 35.84740877,  72.90219803],\n",
       "       [ 60.18259939,  86.3085521 ],\n",
       "       [ 79.03273605,  75.34437644],\n",
       "       [ 45.08327748,  56.31637178],\n",
       "       [ 61.10666454,  96.51142588],\n",
       "       [ 75.02474557,  46.55401354],\n",
       "       [ 76.0987867 ,  87.42056972],\n",
       "       [ 84.43281996,  43.53339331]])"
      ]
     },
     "execution_count": 8,
     "metadata": {},
     "output_type": "execute_result"
    }
   ],
   "source": [
    "X[0:10]"
   ]
  },
  {
   "cell_type": "code",
   "execution_count": 9,
   "metadata": {},
   "outputs": [
    {
     "data": {
      "text/plain": [
       "array([[0],\n",
       "       [0],\n",
       "       [0],\n",
       "       [1],\n",
       "       [1],\n",
       "       [0],\n",
       "       [1],\n",
       "       [1],\n",
       "       [1],\n",
       "       [1]], dtype=int64)"
      ]
     },
     "execution_count": 9,
     "metadata": {},
     "output_type": "execute_result"
    }
   ],
   "source": [
    "y[0:10]"
   ]
  },
  {
   "cell_type": "code",
   "execution_count": 10,
   "metadata": {
    "collapsed": true
   },
   "outputs": [],
   "source": [
    "num_epoch = 100\n",
    "batch_size = 32"
   ]
  },
  {
   "cell_type": "code",
   "execution_count": 13,
   "metadata": {},
   "outputs": [
    {
     "name": "stdout",
     "output_type": "stream",
     "text": [
      "Epoch 1/100\n",
      "100/100 [==============================] - 0s 2ms/step - loss: 8.8109 - acc: 0.3600\n",
      "Epoch 2/100\n",
      "100/100 [==============================] - 0s 156us/step - loss: 7.7979 - acc: 0.3300\n",
      "Epoch 3/100\n",
      "100/100 [==============================] - 0s 312us/step - loss: 6.1704 - acc: 0.4000\n",
      "Epoch 4/100\n",
      "100/100 [==============================] - 0s 156us/step - loss: 5.3624 - acc: 0.5100\n",
      "Epoch 5/100\n",
      "100/100 [==============================] - 0s 312us/step - loss: 4.7675 - acc: 0.5500\n",
      "Epoch 6/100\n",
      "100/100 [==============================] - 0s 156us/step - loss: 4.7303 - acc: 0.5500\n",
      "Epoch 7/100\n",
      "100/100 [==============================] - 0s 156us/step - loss: 4.3971 - acc: 0.5600\n",
      "Epoch 8/100\n",
      "100/100 [==============================] - 0s 312us/step - loss: 4.3413 - acc: 0.5800\n",
      "Epoch 9/100\n",
      "100/100 [==============================] - 0s 156us/step - loss: 4.3119 - acc: 0.5600\n",
      "Epoch 10/100\n",
      "100/100 [==============================] - 0s 156us/step - loss: 4.2559 - acc: 0.5600\n",
      "Epoch 11/100\n",
      "100/100 [==============================] - 0s 156us/step - loss: 4.2561 - acc: 0.5600\n",
      "Epoch 12/100\n",
      "100/100 [==============================] - 0s 156us/step - loss: 4.2226 - acc: 0.5500\n",
      "Epoch 13/100\n",
      "100/100 [==============================] - 0s 156us/step - loss: 4.0649 - acc: 0.5700\n",
      "Epoch 14/100\n",
      "100/100 [==============================] - 0s 312us/step - loss: 4.0415 - acc: 0.5700\n",
      "Epoch 15/100\n",
      "100/100 [==============================] - 0s 156us/step - loss: 3.9930 - acc: 0.5600\n",
      "Epoch 16/100\n",
      "100/100 [==============================] - 0s 156us/step - loss: 3.9182 - acc: 0.5800\n",
      "Epoch 17/100\n",
      "100/100 [==============================] - 0s 156us/step - loss: 3.8805 - acc: 0.6000\n",
      "Epoch 18/100\n",
      "100/100 [==============================] - 0s 156us/step - loss: 3.8550 - acc: 0.5600\n",
      "Epoch 19/100\n",
      "100/100 [==============================] - 0s 156us/step - loss: 3.8152 - acc: 0.5500\n",
      "Epoch 20/100\n",
      "100/100 [==============================] - 0s 156us/step - loss: 3.7467 - acc: 0.5400\n",
      "Epoch 21/100\n",
      "100/100 [==============================] - 0s 156us/step - loss: 3.5978 - acc: 0.5700\n",
      "Epoch 22/100\n",
      "100/100 [==============================] - 0s 312us/step - loss: 3.4947 - acc: 0.5500\n",
      "Epoch 23/100\n",
      "100/100 [==============================] - 0s 156us/step - loss: 3.4637 - acc: 0.5400\n",
      "Epoch 24/100\n",
      "100/100 [==============================] - 0s 312us/step - loss: 3.2642 - acc: 0.5500\n",
      "Epoch 25/100\n",
      "100/100 [==============================] - 0s 156us/step - loss: 3.0554 - acc: 0.5400\n",
      "Epoch 26/100\n",
      "100/100 [==============================] - 0s 312us/step - loss: 2.9409 - acc: 0.5400\n",
      "Epoch 27/100\n",
      "100/100 [==============================] - 0s 186us/step - loss: 2.8521 - acc: 0.5100\n",
      "Epoch 28/100\n",
      "100/100 [==============================] - 0s 156us/step - loss: 2.6302 - acc: 0.5400\n",
      "Epoch 29/100\n",
      "100/100 [==============================] - 0s 156us/step - loss: 2.4915 - acc: 0.5300\n",
      "Epoch 30/100\n",
      "100/100 [==============================] - 0s 156us/step - loss: 2.5597 - acc: 0.4700\n",
      "Epoch 31/100\n",
      "100/100 [==============================] - 0s 312us/step - loss: 2.1162 - acc: 0.5200\n",
      "Epoch 32/100\n",
      "100/100 [==============================] - 0s 156us/step - loss: 1.9251 - acc: 0.5200\n",
      "Epoch 33/100\n",
      "100/100 [==============================] - 0s 156us/step - loss: 1.7010 - acc: 0.5700\n",
      "Epoch 34/100\n",
      "100/100 [==============================] - 0s 312us/step - loss: 1.6350 - acc: 0.5100\n",
      "Epoch 35/100\n",
      "100/100 [==============================] - 0s 156us/step - loss: 1.3820 - acc: 0.5700\n",
      "Epoch 36/100\n",
      "100/100 [==============================] - 0s 156us/step - loss: 1.3321 - acc: 0.5600\n",
      "Epoch 37/100\n",
      "100/100 [==============================] - 0s 156us/step - loss: 1.1049 - acc: 0.5400\n",
      "Epoch 38/100\n",
      "100/100 [==============================] - 0s 156us/step - loss: 1.0134 - acc: 0.5600\n",
      "Epoch 39/100\n",
      "100/100 [==============================] - 0s 312us/step - loss: 0.8942 - acc: 0.5500\n",
      "Epoch 40/100\n",
      "100/100 [==============================] - 0s 156us/step - loss: 0.7262 - acc: 0.6100\n",
      "Epoch 41/100\n",
      "100/100 [==============================] - 0s 312us/step - loss: 0.7634 - acc: 0.6400\n",
      "Epoch 42/100\n",
      "100/100 [==============================] - 0s 156us/step - loss: 0.8535 - acc: 0.6000\n",
      "Epoch 43/100\n",
      "100/100 [==============================] - 0s 156us/step - loss: 0.7880 - acc: 0.5600\n",
      "Epoch 44/100\n",
      "100/100 [==============================] - 0s 312us/step - loss: 1.0058 - acc: 0.5900\n",
      "Epoch 45/100\n",
      "100/100 [==============================] - 0s 156us/step - loss: 0.7352 - acc: 0.5300\n",
      "Epoch 46/100\n",
      "100/100 [==============================] - 0s 156us/step - loss: 0.6492 - acc: 0.6000\n",
      "Epoch 47/100\n",
      "100/100 [==============================] - 0s 156us/step - loss: 1.0489 - acc: 0.5200\n",
      "Epoch 48/100\n",
      "100/100 [==============================] - 0s 156us/step - loss: 0.9667 - acc: 0.6000\n",
      "Epoch 49/100\n",
      "100/100 [==============================] - 0s 156us/step - loss: 0.6598 - acc: 0.6100\n",
      "Epoch 50/100\n",
      "100/100 [==============================] - 0s 156us/step - loss: 0.8373 - acc: 0.5000\n",
      "Epoch 51/100\n",
      "100/100 [==============================] - 0s 156us/step - loss: 0.6804 - acc: 0.6000\n",
      "Epoch 52/100\n",
      "100/100 [==============================] - 0s 312us/step - loss: 0.8463 - acc: 0.4200\n",
      "Epoch 53/100\n",
      "100/100 [==============================] - 0s 156us/step - loss: 0.6899 - acc: 0.6100\n",
      "Epoch 54/100\n",
      "100/100 [==============================] - 0s 312us/step - loss: 0.6761 - acc: 0.6000\n",
      "Epoch 55/100\n",
      "100/100 [==============================] - 0s 156us/step - loss: 0.7556 - acc: 0.6000\n",
      "Epoch 56/100\n",
      "100/100 [==============================] - 0s 156us/step - loss: 0.7366 - acc: 0.6000\n",
      "Epoch 57/100\n",
      "100/100 [==============================] - 0s 312us/step - loss: 0.8008 - acc: 0.5200\n",
      "Epoch 58/100\n",
      "100/100 [==============================] - 0s 156us/step - loss: 1.2049 - acc: 0.3800\n",
      "Epoch 59/100\n",
      "100/100 [==============================] - 0s 156us/step - loss: 0.6311 - acc: 0.6000\n",
      "Epoch 60/100\n",
      "100/100 [==============================] - 0s 156us/step - loss: 0.7132 - acc: 0.6200\n",
      "Epoch 61/100\n",
      "100/100 [==============================] - 0s 156us/step - loss: 0.8340 - acc: 0.5400\n",
      "Epoch 62/100\n",
      "100/100 [==============================] - 0s 156us/step - loss: 1.0711 - acc: 0.6100\n",
      "Epoch 63/100\n",
      "100/100 [==============================] - 0s 156us/step - loss: 0.9908 - acc: 0.5600\n",
      "Epoch 64/100\n",
      "100/100 [==============================] - 0s 210us/step - loss: 0.7046 - acc: 0.6200\n",
      "Epoch 65/100\n",
      "100/100 [==============================] - 0s 210us/step - loss: 1.1596 - acc: 0.3900\n",
      "Epoch 66/100\n",
      "100/100 [==============================] - 0s 170us/step - loss: 0.7794 - acc: 0.5600\n",
      "Epoch 67/100\n",
      "100/100 [==============================] - 0s 190us/step - loss: 0.9518 - acc: 0.4500\n",
      "Epoch 68/100\n",
      "100/100 [==============================] - 0s 180us/step - loss: 1.3489 - acc: 0.4300\n",
      "Epoch 69/100\n",
      "100/100 [==============================] - 0s 156us/step - loss: 0.7887 - acc: 0.5600\n",
      "Epoch 70/100\n",
      "100/100 [==============================] - 0s 156us/step - loss: 0.9230 - acc: 0.5300\n",
      "Epoch 71/100\n",
      "100/100 [==============================] - 0s 322us/step - loss: 0.6862 - acc: 0.6000\n",
      "Epoch 72/100\n",
      "100/100 [==============================] - 0s 156us/step - loss: 0.7973 - acc: 0.6700\n",
      "Epoch 73/100\n",
      "100/100 [==============================] - 0s 156us/step - loss: 1.0444 - acc: 0.5200\n",
      "Epoch 74/100\n",
      "100/100 [==============================] - 0s 312us/step - loss: 0.6904 - acc: 0.5800\n",
      "Epoch 75/100\n",
      "100/100 [==============================] - 0s 156us/step - loss: 0.8607 - acc: 0.4200\n",
      "Epoch 76/100\n",
      "100/100 [==============================] - 0s 156us/step - loss: 0.6660 - acc: 0.5500\n",
      "Epoch 77/100\n",
      "100/100 [==============================] - 0s 156us/step - loss: 0.6302 - acc: 0.6000\n",
      "Epoch 78/100\n",
      "100/100 [==============================] - 0s 156us/step - loss: 0.6765 - acc: 0.5300\n",
      "Epoch 79/100\n",
      "100/100 [==============================] - 0s 156us/step - loss: 0.7105 - acc: 0.6000\n",
      "Epoch 80/100\n",
      "100/100 [==============================] - 0s 156us/step - loss: 0.6198 - acc: 0.6000\n",
      "Epoch 81/100\n",
      "100/100 [==============================] - 0s 312us/step - loss: 0.9526 - acc: 0.5600\n",
      "Epoch 82/100\n",
      "100/100 [==============================] - 0s 156us/step - loss: 0.6490 - acc: 0.6000\n",
      "Epoch 83/100\n"
     ]
    },
    {
     "name": "stdout",
     "output_type": "stream",
     "text": [
      "100/100 [==============================] - 0s 156us/step - loss: 0.7554 - acc: 0.5400\n",
      "Epoch 84/100\n",
      "100/100 [==============================] - 0s 156us/step - loss: 0.7878 - acc: 0.5000\n",
      "Epoch 85/100\n",
      "100/100 [==============================] - 0s 156us/step - loss: 0.6383 - acc: 0.5900\n",
      "Epoch 86/100\n",
      "100/100 [==============================] - 0s 156us/step - loss: 0.8032 - acc: 0.5400\n",
      "Epoch 87/100\n",
      "100/100 [==============================] - 0s 312us/step - loss: 0.7612 - acc: 0.6200\n",
      "Epoch 88/100\n",
      "100/100 [==============================] - 0s 312us/step - loss: 0.6694 - acc: 0.5800\n",
      "Epoch 89/100\n",
      "100/100 [==============================] - 0s 156us/step - loss: 0.7875 - acc: 0.6000\n",
      "Epoch 90/100\n",
      "100/100 [==============================] - 0s 156us/step - loss: 0.6610 - acc: 0.5300\n",
      "Epoch 91/100\n",
      "100/100 [==============================] - 0s 156us/step - loss: 0.9353 - acc: 0.4200\n",
      "Epoch 92/100\n",
      "100/100 [==============================] - 0s 156us/step - loss: 0.6822 - acc: 0.5600\n",
      "Epoch 93/100\n",
      "100/100 [==============================] - ETA: 0s - loss: 0.7738 - acc: 0.687 - 0s 156us/step - loss: 0.7349 - acc: 0.5000\n",
      "Epoch 94/100\n",
      "100/100 [==============================] - 0s 156us/step - loss: 0.6509 - acc: 0.6000\n",
      "Epoch 95/100\n",
      "100/100 [==============================] - 0s 156us/step - loss: 0.6657 - acc: 0.6100\n",
      "Epoch 96/100\n",
      "100/100 [==============================] - 0s 0us/step - loss: 0.8719 - acc: 0.5600\n",
      "Epoch 97/100\n",
      "100/100 [==============================] - 0s 156us/step - loss: 0.8475 - acc: 0.5800\n",
      "Epoch 98/100\n",
      "100/100 [==============================] - 0s 156us/step - loss: 0.8958 - acc: 0.4800\n",
      "Epoch 99/100\n",
      "100/100 [==============================] - 0s 156us/step - loss: 1.1694 - acc: 0.4800\n",
      "Epoch 100/100\n",
      "100/100 [==============================] - 0s 156us/step - loss: 1.1155 - acc: 0.4200\n"
     ]
    }
   ],
   "source": [
    "model = Sequential()\n",
    "#model.add(Dense(1, input_dim=2, activation='sigmoid',kernel_regularizer=regularizers.l2(0.01)))\n",
    "model.add(Dense(1, input_dim=2, activation='sigmoid'))\n",
    "#model.add(Dense(1, kernel_initializer='normal', activation='sigmoid'))\n",
    "# Compile model\n",
    "#sgd = optimizers.SGD(lr=0.01, decay=1e-6, momentum=0.9, nesterov=True)\n",
    "sgd = optimizers.SGD(lr=0.001)\n",
    "model.compile(loss='binary_crossentropy', optimizer=sgd, metrics=['accuracy'])\n",
    "#model.fit(X, y, nb_epoch=10, validation_data=(x_val, y_val))\n",
    "hist = model.fit(X, y, epochs=num_epoch,batch_size=batch_size)"
   ]
  },
  {
   "cell_type": "markdown",
   "metadata": {},
   "source": [
    "## Plotting the loss and accuracy curve"
   ]
  },
  {
   "cell_type": "code",
   "execution_count": 14,
   "metadata": {
    "collapsed": true
   },
   "outputs": [],
   "source": [
    "import matplotlib.pyplot as plt\n",
    "%matplotlib inline"
   ]
  },
  {
   "cell_type": "code",
   "execution_count": 15,
   "metadata": {},
   "outputs": [
    {
     "data": {
      "image/png": "[encoded data removed]",
      "text/plain": [
       "<matplotlib.figure.Figure at 0xc99ce48>"
      ]
     },
     "metadata": {},
     "output_type": "display_data"
    },
    {
     "data": {
      "image/png": "[encoded data removed]",
      "text/plain": [
       "<matplotlib.figure.Figure at 0xed3def0>"
      ]
     },
     "metadata": {},
     "output_type": "display_data"
    }
   ],
   "source": [
    "# visualizing losses and accuracy\n",
    "train_loss=hist.history['loss']\n",
    "#val_loss=hist.history['val_loss']\n",
    "train_acc=hist.history['acc']\n",
    "#val_acc=hist.history['val_acc']\n",
    "xc=range(num_epoch)\n",
    "\n",
    "plt.figure(1,figsize=(7,5))\n",
    "plt.plot(xc,train_loss)\n",
    "#plt.plot(xc,val_loss)\n",
    "plt.xlabel('num of Epochs')\n",
    "plt.ylabel('loss')\n",
    "plt.title('train_loss')\n",
    "plt.grid(True)\n",
    "plt.legend(['train'])\n",
    "#print plt.style.available # use bmh, classic,ggplot for big pictures\n",
    "plt.style.use(['classic'])\n",
    "# To save the figure\n",
    "plt.savefig('loss_ex-2.png')\n",
    "\n",
    "plt.figure(2,figsize=(7,5))\n",
    "plt.plot(xc,train_acc)\n",
    "#plt.plot(xc,val_acc)\n",
    "plt.xlabel('num of Epochs')\n",
    "plt.ylabel('accuracy')\n",
    "plt.title('train_acc')\n",
    "plt.grid(True)\n",
    "plt.legend(['train'],loc=4)\n",
    "#print plt.style.available # use bmh, classic,ggplot for big pictures\n",
    "plt.style.use(['classic'])\n",
    "# To save the figure\n",
    "plt.savefig('acc_ex-2.png')"
   ]
  },
  {
   "cell_type": "markdown",
   "metadata": {},
   "source": [
    "## Normalizing the data and changing optimizer"
   ]
  },
  {
   "cell_type": "code",
   "execution_count": 16,
   "metadata": {
    "collapsed": true
   },
   "outputs": [],
   "source": [
    "# normalize data\n",
    "X_norm = X/60"
   ]
  },
  {
   "cell_type": "code",
   "execution_count": 17,
   "metadata": {},
   "outputs": [
    {
     "name": "stdout",
     "output_type": "stream",
     "text": [
      "Epoch 1/100\n",
      "100/100 [==============================] - 0s 4ms/step - loss: 0.7220 - acc: 0.4700\n",
      "Epoch 2/100\n",
      "100/100 [==============================] - 0s 156us/step - loss: 0.7063 - acc: 0.5000\n",
      "Epoch 3/100\n",
      "100/100 [==============================] - 0s 156us/step - loss: 0.6865 - acc: 0.5600\n",
      "Epoch 4/100\n",
      "100/100 [==============================] - 0s 156us/step - loss: 0.6718 - acc: 0.5800\n",
      "Epoch 5/100\n",
      "100/100 [==============================] - 0s 156us/step - loss: 0.6598 - acc: 0.6300\n",
      "Epoch 6/100\n",
      "100/100 [==============================] - 0s 312us/step - loss: 0.6549 - acc: 0.6600\n",
      "Epoch 7/100\n",
      "100/100 [==============================] - 0s 156us/step - loss: 0.6487 - acc: 0.6400\n",
      "Epoch 8/100\n",
      "100/100 [==============================] - 0s 156us/step - loss: 0.6468 - acc: 0.6300\n",
      "Epoch 9/100\n",
      "100/100 [==============================] - 0s 156us/step - loss: 0.6468 - acc: 0.6200\n",
      "Epoch 10/100\n",
      "100/100 [==============================] - 0s 312us/step - loss: 0.6463 - acc: 0.6100\n",
      "Epoch 11/100\n",
      "100/100 [==============================] - 0s 156us/step - loss: 0.6448 - acc: 0.6100\n",
      "Epoch 12/100\n",
      "100/100 [==============================] - 0s 156us/step - loss: 0.6435 - acc: 0.6200\n",
      "Epoch 13/100\n",
      "100/100 [==============================] - 0s 176us/step - loss: 0.6417 - acc: 0.6100\n",
      "Epoch 14/100\n",
      "100/100 [==============================] - 0s 156us/step - loss: 0.6406 - acc: 0.6100\n",
      "Epoch 15/100\n",
      "100/100 [==============================] - 0s 312us/step - loss: 0.6399 - acc: 0.6100\n",
      "Epoch 16/100\n",
      "100/100 [==============================] - 0s 156us/step - loss: 0.6392 - acc: 0.6100\n",
      "Epoch 17/100\n",
      "100/100 [==============================] - 0s 312us/step - loss: 0.6369 - acc: 0.6100\n",
      "Epoch 18/100\n",
      "100/100 [==============================] - 0s 156us/step - loss: 0.6342 - acc: 0.6300\n",
      "Epoch 19/100\n",
      "100/100 [==============================] - 0s 312us/step - loss: 0.6326 - acc: 0.6300\n",
      "Epoch 20/100\n",
      "100/100 [==============================] - 0s 312us/step - loss: 0.6308 - acc: 0.6300\n",
      "Epoch 21/100\n",
      "100/100 [==============================] - 0s 312us/step - loss: 0.6298 - acc: 0.6300\n",
      "Epoch 22/100\n",
      "100/100 [==============================] - 0s 156us/step - loss: 0.6278 - acc: 0.6300\n",
      "Epoch 23/100\n",
      "100/100 [==============================] - 0s 312us/step - loss: 0.6266 - acc: 0.6300\n",
      "Epoch 24/100\n",
      "100/100 [==============================] - 0s 156us/step - loss: 0.6251 - acc: 0.6300\n",
      "Epoch 25/100\n",
      "100/100 [==============================] - 0s 156us/step - loss: 0.6238 - acc: 0.6400\n",
      "Epoch 26/100\n",
      "100/100 [==============================] - 0s 312us/step - loss: 0.6225 - acc: 0.6300\n",
      "Epoch 27/100\n",
      "100/100 [==============================] - 0s 312us/step - loss: 0.6208 - acc: 0.6500\n",
      "Epoch 28/100\n",
      "100/100 [==============================] - 0s 156us/step - loss: 0.6196 - acc: 0.6600\n",
      "Epoch 29/100\n",
      "100/100 [==============================] - 0s 312us/step - loss: 0.6185 - acc: 0.6900\n",
      "Epoch 30/100\n",
      "100/100 [==============================] - 0s 156us/step - loss: 0.6187 - acc: 0.6900\n",
      "Epoch 31/100\n",
      "100/100 [==============================] - 0s 312us/step - loss: 0.6166 - acc: 0.7000\n",
      "Epoch 32/100\n",
      "100/100 [==============================] - 0s 312us/step - loss: 0.6143 - acc: 0.6900\n",
      "Epoch 33/100\n",
      "100/100 [==============================] - 0s 156us/step - loss: 0.6117 - acc: 0.6800\n",
      "Epoch 34/100\n",
      "100/100 [==============================] - 0s 156us/step - loss: 0.6110 - acc: 0.6500\n",
      "Epoch 35/100\n",
      "100/100 [==============================] - 0s 156us/step - loss: 0.6102 - acc: 0.6500\n",
      "Epoch 36/100\n",
      "100/100 [==============================] - 0s 156us/step - loss: 0.6089 - acc: 0.6400\n",
      "Epoch 37/100\n",
      "100/100 [==============================] - 0s 156us/step - loss: 0.6079 - acc: 0.6300\n",
      "Epoch 38/100\n",
      "100/100 [==============================] - 0s 312us/step - loss: 0.6072 - acc: 0.6400\n",
      "Epoch 39/100\n",
      "100/100 [==============================] - 0s 156us/step - loss: 0.6055 - acc: 0.6500\n",
      "Epoch 40/100\n",
      "100/100 [==============================] - 0s 156us/step - loss: 0.6040 - acc: 0.6500\n",
      "Epoch 41/100\n",
      "100/100 [==============================] - 0s 312us/step - loss: 0.6022 - acc: 0.6600\n",
      "Epoch 42/100\n",
      "100/100 [==============================] - 0s 156us/step - loss: 0.6007 - acc: 0.6700\n",
      "Epoch 43/100\n",
      "100/100 [==============================] - 0s 312us/step - loss: 0.5992 - acc: 0.6700\n",
      "Epoch 44/100\n",
      "100/100 [==============================] - 0s 156us/step - loss: 0.5971 - acc: 0.6900\n",
      "Epoch 45/100\n",
      "100/100 [==============================] - 0s 156us/step - loss: 0.5964 - acc: 0.7100\n",
      "Epoch 46/100\n",
      "100/100 [==============================] - 0s 156us/step - loss: 0.5950 - acc: 0.7300\n",
      "Epoch 47/100\n",
      "100/100 [==============================] - 0s 156us/step - loss: 0.5940 - acc: 0.7300\n",
      "Epoch 48/100\n",
      "100/100 [==============================] - 0s 312us/step - loss: 0.5925 - acc: 0.7300\n",
      "Epoch 49/100\n",
      "100/100 [==============================] - 0s 156us/step - loss: 0.5914 - acc: 0.7100\n",
      "Epoch 50/100\n",
      "100/100 [==============================] - 0s 156us/step - loss: 0.5898 - acc: 0.7100\n",
      "Epoch 51/100\n",
      "100/100 [==============================] - 0s 156us/step - loss: 0.5887 - acc: 0.7200\n",
      "Epoch 52/100\n",
      "100/100 [==============================] - 0s 156us/step - loss: 0.5876 - acc: 0.7200\n",
      "Epoch 53/100\n",
      "100/100 [==============================] - 0s 156us/step - loss: 0.5864 - acc: 0.7200\n",
      "Epoch 54/100\n",
      "100/100 [==============================] - 0s 312us/step - loss: 0.5854 - acc: 0.7300\n",
      "Epoch 55/100\n",
      "100/100 [==============================] - ETA: 0s - loss: 0.6449 - acc: 0.656 - 0s 156us/step - loss: 0.5835 - acc: 0.7200\n",
      "Epoch 56/100\n",
      "100/100 [==============================] - 0s 156us/step - loss: 0.5822 - acc: 0.7200\n",
      "Epoch 57/100\n",
      "100/100 [==============================] - 0s 156us/step - loss: 0.5817 - acc: 0.7100\n",
      "Epoch 58/100\n",
      "100/100 [==============================] - 0s 156us/step - loss: 0.5809 - acc: 0.7100\n",
      "Epoch 59/100\n",
      "100/100 [==============================] - 0s 156us/step - loss: 0.5796 - acc: 0.7100\n",
      "Epoch 60/100\n",
      "100/100 [==============================] - 0s 156us/step - loss: 0.5783 - acc: 0.7100\n",
      "Epoch 61/100\n",
      "100/100 [==============================] - 0s 156us/step - loss: 0.5776 - acc: 0.7100\n",
      "Epoch 62/100\n",
      "100/100 [==============================] - 0s 156us/step - loss: 0.5764 - acc: 0.7100\n",
      "Epoch 63/100\n",
      "100/100 [==============================] - 0s 156us/step - loss: 0.5754 - acc: 0.7100\n",
      "Epoch 64/100\n",
      "100/100 [==============================] - 0s 156us/step - loss: 0.5745 - acc: 0.7100\n",
      "Epoch 65/100\n",
      "100/100 [==============================] - 0s 156us/step - loss: 0.5731 - acc: 0.7100\n",
      "Epoch 66/100\n",
      "100/100 [==============================] - 0s 156us/step - loss: 0.5716 - acc: 0.7100\n",
      "Epoch 67/100\n",
      "100/100 [==============================] - 0s 156us/step - loss: 0.5698 - acc: 0.7300\n",
      "Epoch 68/100\n",
      "100/100 [==============================] - 0s 156us/step - loss: 0.5692 - acc: 0.7300\n",
      "Epoch 69/100\n",
      "100/100 [==============================] - 0s 156us/step - loss: 0.5678 - acc: 0.7300\n",
      "Epoch 70/100\n",
      "100/100 [==============================] - 0s 312us/step - loss: 0.5668 - acc: 0.7300\n",
      "Epoch 71/100\n",
      "100/100 [==============================] - 0s 156us/step - loss: 0.5659 - acc: 0.7300\n",
      "Epoch 72/100\n",
      "100/100 [==============================] - 0s 156us/step - loss: 0.5646 - acc: 0.7300\n",
      "Epoch 73/100\n",
      "100/100 [==============================] - 0s 156us/step - loss: 0.5638 - acc: 0.7300\n",
      "Epoch 74/100\n",
      "100/100 [==============================] - 0s 156us/step - loss: 0.5624 - acc: 0.7300\n",
      "Epoch 75/100\n",
      "100/100 [==============================] - 0s 312us/step - loss: 0.5612 - acc: 0.7400\n",
      "Epoch 76/100\n",
      "100/100 [==============================] - 0s 156us/step - loss: 0.5605 - acc: 0.7400\n",
      "Epoch 77/100\n",
      "100/100 [==============================] - 0s 312us/step - loss: 0.5593 - acc: 0.7200\n",
      "Epoch 78/100\n",
      "100/100 [==============================] - 0s 156us/step - loss: 0.5581 - acc: 0.7200\n",
      "Epoch 79/100\n",
      "100/100 [==============================] - 0s 156us/step - loss: 0.5571 - acc: 0.7300\n",
      "Epoch 80/100\n",
      "100/100 [==============================] - 0s 156us/step - loss: 0.5564 - acc: 0.7200\n",
      "Epoch 81/100\n",
      "100/100 [==============================] - 0s 156us/step - loss: 0.5555 - acc: 0.7200\n",
      "Epoch 82/100\n",
      "100/100 [==============================] - 0s 312us/step - loss: 0.5546 - acc: 0.7200\n",
      "Epoch 83/100\n"
     ]
    },
    {
     "name": "stdout",
     "output_type": "stream",
     "text": [
      "100/100 [==============================] - 0s 156us/step - loss: 0.5536 - acc: 0.7200\n",
      "Epoch 84/100\n",
      "100/100 [==============================] - 0s 176us/step - loss: 0.5525 - acc: 0.7200\n",
      "Epoch 85/100\n",
      "100/100 [==============================] - 0s 156us/step - loss: 0.5518 - acc: 0.7200\n",
      "Epoch 86/100\n",
      "100/100 [==============================] - 0s 156us/step - loss: 0.5512 - acc: 0.7200\n",
      "Epoch 87/100\n",
      "100/100 [==============================] - 0s 156us/step - loss: 0.5500 - acc: 0.7200\n",
      "Epoch 88/100\n",
      "100/100 [==============================] - 0s 156us/step - loss: 0.5492 - acc: 0.7200\n",
      "Epoch 89/100\n",
      "100/100 [==============================] - 0s 156us/step - loss: 0.5480 - acc: 0.7200\n",
      "Epoch 90/100\n",
      "100/100 [==============================] - 0s 156us/step - loss: 0.5467 - acc: 0.7200\n",
      "Epoch 91/100\n",
      "100/100 [==============================] - 0s 156us/step - loss: 0.5453 - acc: 0.7400\n",
      "Epoch 92/100\n",
      "100/100 [==============================] - 0s 156us/step - loss: 0.5445 - acc: 0.7400\n",
      "Epoch 93/100\n",
      "100/100 [==============================] - 0s 312us/step - loss: 0.5436 - acc: 0.7400\n",
      "Epoch 94/100\n",
      "100/100 [==============================] - 0s 156us/step - loss: 0.5435 - acc: 0.7700\n",
      "Epoch 95/100\n",
      "100/100 [==============================] - 0s 312us/step - loss: 0.5422 - acc: 0.7600\n",
      "Epoch 96/100\n",
      "100/100 [==============================] - 0s 156us/step - loss: 0.5422 - acc: 0.7500\n",
      "Epoch 97/100\n",
      "100/100 [==============================] - 0s 312us/step - loss: 0.5415 - acc: 0.7600\n",
      "Epoch 98/100\n",
      "100/100 [==============================] - 0s 156us/step - loss: 0.5399 - acc: 0.7600\n",
      "Epoch 99/100\n",
      "100/100 [==============================] - 0s 156us/step - loss: 0.5378 - acc: 0.7700\n",
      "Epoch 100/100\n",
      "100/100 [==============================] - 0s 0us/step - loss: 0.5365 - acc: 0.7500\n"
     ]
    }
   ],
   "source": [
    "model = Sequential()\n",
    "#model.add(Dense(1, input_dim=2, activation='sigmoid',kernel_regularizer=regularizers.l2(0.01)))\n",
    "model.add(Dense(1, input_dim=2, activation='sigmoid'))\n",
    "#model.add(Dense(1, kernel_initializer='normal', activation='sigmoid'))\n",
    "# Compile model\n",
    "sgd = optimizers.SGD(lr=0.01, decay=1e-6, momentum=0.9, nesterov=True)\n",
    "#sgd = optimizers.SGD(lr=0.001)\n",
    "model.compile(loss='binary_crossentropy', optimizer=sgd, metrics=['accuracy'])\n",
    "#model.fit(X, y, nb_epoch=10, validation_data=(x_val, y_val))\n",
    "hist = model.fit(X_norm, y, epochs=num_epoch,batch_size=batch_size)"
   ]
  },
  {
   "cell_type": "code",
   "execution_count": 18,
   "metadata": {},
   "outputs": [
    {
     "data": {
      "image/png": "[encoded data removed]",
      "text/plain": [
       "<matplotlib.figure.Figure at 0x87485f8>"
      ]
     },
     "metadata": {},
     "output_type": "display_data"
    },
    {
     "data": {
      "image/png": "[encoded data removed]",
      "text/plain": [
       "<matplotlib.figure.Figure at 0xeae4438>"
      ]
     },
     "metadata": {},
     "output_type": "display_data"
    }
   ],
   "source": [
    "# visualizing losses and accuracy\n",
    "train_loss=hist.history['loss']\n",
    "#val_loss=hist.history['val_loss']\n",
    "train_acc=hist.history['acc']\n",
    "#val_acc=hist.history['val_acc']\n",
    "xc=range(num_epoch)\n",
    "\n",
    "plt.figure(1,figsize=(7,5))\n",
    "plt.plot(xc,train_loss)\n",
    "#plt.plot(xc,val_loss)\n",
    "plt.xlabel('num of Epochs')\n",
    "plt.ylabel('loss')\n",
    "plt.title('train_loss')\n",
    "plt.grid(True)\n",
    "plt.legend(['train'])\n",
    "#print plt.style.available # use bmh, classic,ggplot for big pictures\n",
    "plt.style.use(['classic'])\n",
    "# To save the figure\n",
    "plt.savefig('loss_ex-2_norm.png')\n",
    "\n",
    "plt.figure(2,figsize=(7,5))\n",
    "plt.plot(xc,train_acc)\n",
    "#plt.plot(xc,val_acc)\n",
    "plt.xlabel('num of Epochs')\n",
    "plt.ylabel('accuracy')\n",
    "plt.title('train_acc')\n",
    "plt.grid(True)\n",
    "plt.legend(['train'],loc=4)\n",
    "#print plt.style.available # use bmh, classic,ggplot for big pictures\n",
    "plt.style.use(['classic'])\n",
    "# To save the figure\n",
    "plt.savefig('acc_ex-2_norm.png')"
   ]
  },
  {
   "cell_type": "markdown",
   "metadata": {},
   "source": [
    "## Evaluating the trained model"
   ]
  },
  {
   "cell_type": "code",
   "execution_count": 20,
   "metadata": {},
   "outputs": [
    {
     "name": "stdout",
     "output_type": "stream",
     "text": [
      "100/100 [==============================] - 0s 468us/step\n",
      "loss: 0.535867931843\n",
      "acc:  74.0%\n"
     ]
    }
   ],
   "source": [
    "score = model.evaluate(X_norm,y)\n",
    "print ('loss:', score[0])\n",
    "print ('acc: ', str(score[1]*100) + '%')\n"
   ]
  },
  {
   "cell_type": "markdown",
   "metadata": {},
   "source": [
    "## Computing the prediction on new data"
   ]
  },
  {
   "cell_type": "code",
   "execution_count": 21,
   "metadata": {},
   "outputs": [
    {
     "data": {
      "text/plain": [
       "array([[ 0.81268197],\n",
       "       [ 0.80637127],\n",
       "       [ 0.54356962],\n",
       "       [ 0.72609556],\n",
       "       [ 0.76324546],\n",
       "       [ 0.73376495],\n",
       "       [ 0.52644581],\n",
       "       [ 0.82674402],\n",
       "       [ 0.58363217],\n",
       "       [ 0.73287839]], dtype=float32)"
      ]
     },
     "execution_count": 21,
     "metadata": {},
     "output_type": "execute_result"
    }
   ],
   "source": [
    "model.predict(X_norm[90:100])"
   ]
  },
  {
   "cell_type": "code",
   "execution_count": 22,
   "metadata": {},
   "outputs": [
    {
     "data": {
      "text/plain": [
       "array([[0],\n",
       "       [0],\n",
       "       [0],\n",
       "       [1],\n",
       "       [1],\n",
       "       [0],\n",
       "       [1],\n",
       "       [1],\n",
       "       [1],\n",
       "       [1]], dtype=int64)"
      ]
     },
     "execution_count": 22,
     "metadata": {},
     "output_type": "execute_result"
    }
   ],
   "source": [
    "y[0:10]"
   ]
  },
  {
   "cell_type": "code",
   "execution_count": 23,
   "metadata": {},
   "outputs": [
    {
     "data": {
      "text/plain": [
       "array([[1],\n",
       "       [1],\n",
       "       [1],\n",
       "       [1],\n",
       "       [1],\n",
       "       [1],\n",
       "       [1],\n",
       "       [1],\n",
       "       [1],\n",
       "       [1]])"
      ]
     },
     "execution_count": 23,
     "metadata": {},
     "output_type": "execute_result"
    }
   ],
   "source": [
    "model.predict_classes(X_norm[90:100])"
   ]
  },
  {
   "cell_type": "markdown",
   "metadata": {},
   "source": [
    "## Saving the model and weights"
   ]
  },
  {
   "cell_type": "code",
   "execution_count": 24,
   "metadata": {},
   "outputs": [
    {
     "name": "stdout",
     "output_type": "stream",
     "text": [
      "Saved model to disk\n"
     ]
    }
   ],
   "source": [
    "# serialize model to JSON\n",
    "model_json = model.to_json()\n",
    "with open(\"logistic_reg_model_ex_2.json\", \"w\") as json_file:\n",
    "    json_file.write(model_json)\n",
    "# serialize weights to HDF5\n",
    "model.save_weights(\"logistic_reg_model_weights_ex_2.h5\")\n",
    "print(\"Saved model to disk\")"
   ]
  },
  {
   "cell_type": "markdown",
   "metadata": {},
   "source": [
    "## Loading the model and weights"
   ]
  },
  {
   "cell_type": "code",
   "execution_count": 25,
   "metadata": {
    "collapsed": true
   },
   "outputs": [],
   "source": [
    "from keras.models import model_from_json\n",
    "from keras.models import load_model"
   ]
  },
  {
   "cell_type": "code",
   "execution_count": 26,
   "metadata": {},
   "outputs": [
    {
     "name": "stdout",
     "output_type": "stream",
     "text": [
      "Loaded model from disk\n"
     ]
    }
   ],
   "source": [
    "model_name = \"logistic_reg_model_ex_2.json\"\n",
    "weight_name = \"logistic_reg_model_weights_ex_2.h5\"\n",
    "\n",
    "json_file = open(model_name, 'r')\n",
    "loaded_model_json = json_file.read()\n",
    "json_file.close()\n",
    "loaded_model = model_from_json(loaded_model_json)\n",
    "# load weights into new model\n",
    "loaded_model.load_weights(weight_name)\n",
    "print(\"Loaded model from disk\")"
   ]
  },
  {
   "cell_type": "code",
   "execution_count": 27,
   "metadata": {},
   "outputs": [
    {
     "data": {
      "text/plain": [
       "array([[ 0.81268197],\n",
       "       [ 0.80637127],\n",
       "       [ 0.54356962],\n",
       "       [ 0.72609556],\n",
       "       [ 0.76324546],\n",
       "       [ 0.73376495],\n",
       "       [ 0.52644581],\n",
       "       [ 0.82674402],\n",
       "       [ 0.58363217],\n",
       "       [ 0.73287839]], dtype=float32)"
      ]
     },
     "execution_count": 27,
     "metadata": {},
     "output_type": "execute_result"
    }
   ],
   "source": [
    "loaded_model.predict(X_norm[90:100])"
   ]
  },
  {
   "cell_type": "code",
   "execution_count": 28,
   "metadata": {
    "collapsed": true
   },
   "outputs": [],
   "source": [
    "#model.save('model.5')\n",
    "#loaded_model=load_model('model.h5')"
   ]
  },
  {
   "cell_type": "code",
   "execution_count": null,
   "metadata": {
    "collapsed": true
   },
   "outputs": [],
   "source": []
  }
 ],
 "metadata": {
  "kernelspec": {
   "display_name": "Python 3",
   "language": "python",
   "name": "python3"
  },
  "language_info": {
   "codemirror_mode": {
    "name": "ipython",
    "version": 3
   },
   "file_extension": ".py",
   "mimetype": "text/x-python",
   "name": "python",
   "nbconvert_exporter": "python",
   "pygments_lexer": "ipython3",
   "version": "3.6.1"
  }
 },
 "nbformat": 4,
 "nbformat_minor": 2
}
