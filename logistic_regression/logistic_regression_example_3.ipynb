{
 "cells": [
  {
   "cell_type": "markdown",
   "metadata": {},
   "source": [
    "# Logistic Regression for binary classification in keras-example-3-image-data"
   ]
  },
  {
   "cell_type": "markdown",
   "metadata": {},
   "source": [
    "### Test data also included"
   ]
  },
  {
   "cell_type": "code",
   "execution_count": 1,
   "metadata": {
    "collapsed": true
   },
   "outputs": [],
   "source": [
    "import os\n",
    "\n",
    "import numpy as np\n",
    "\n",
    "import cv2\n",
    "\n",
    "import matplotlib.pyplot as plt\n",
    "%matplotlib inline"
   ]
  },
  {
   "cell_type": "markdown",
   "metadata": {},
   "source": [
    "## import tensorflow and keras"
   ]
  },
  {
   "cell_type": "code",
   "execution_count": 2,
   "metadata": {},
   "outputs": [
    {
     "name": "stderr",
     "output_type": "stream",
     "text": [
      "Using TensorFlow backend.\n"
     ]
    },
    {
     "name": "stdout",
     "output_type": "stream",
     "text": [
      "keras_version:  2.2.2\n",
      "tensorflow_version:  1.4.0\n"
     ]
    }
   ],
   "source": [
    "import tensorflow as tf\n",
    "\n",
    "import keras\n",
    "\n",
    "from keras.utils import np_utils\n",
    "from keras.models import Sequential\n",
    "from keras.layers import Dense\n",
    "\n",
    "from sklearn.utils import shuffle\n",
    "#from sklearn.cross_validation import train_test_split\n",
    "\n",
    "print ('keras_version: ', keras.__version__)\n",
    "print ('tensorflow_version: ', tf.__version__)\n"
   ]
  },
  {
   "cell_type": "markdown",
   "metadata": {},
   "source": [
    "## Define path and necessary parameters"
   ]
  },
  {
   "cell_type": "code",
   "execution_count": 3,
   "metadata": {},
   "outputs": [
    {
     "name": "stdout",
     "output_type": "stream",
     "text": [
      "data_list:  ['cats', 'dogs']\n"
     ]
    }
   ],
   "source": [
    "PATH = os.getcwd()\n",
    "# Define data path\n",
    "train_data_path = os.path.join(PATH ,'data_2_class','train')\n",
    "test_data_path = os.path.join(PATH ,'data_2_class','test')\n",
    "# Read out the folders or data classes\n",
    "train_data_dir_list = os.listdir(train_data_path)\n",
    "test_data_dir_list = os.listdir(test_data_path)\n",
    "print ('data_list: ', test_data_dir_list)\n",
    "num_classes=2\n",
    "# Assign Labels to the datset\n",
    "labels={'cats':0,'dogs':1}\n",
    "num_rows=32\n",
    "num_cols=32\n",
    "\n",
    "num_epoch=100\n",
    "batch_size=32\n"
   ]
  },
  {
   "cell_type": "markdown",
   "metadata": {},
   "source": [
    "## Load the train files and assign labels to each file"
   ]
  },
  {
   "cell_type": "code",
   "execution_count": 4,
   "metadata": {},
   "outputs": [
    {
     "name": "stdout",
     "output_type": "stream",
     "text": [
      "Loading the files of dataset-cats\n",
      "\n",
      "Loading the files of dataset-dogs\n",
      "\n",
      "num of train samples: 200\n"
     ]
    }
   ],
   "source": [
    "# the list to store the name and label of files\n",
    "train_data_files = []\n",
    "train_data_labels = []\n",
    "\n",
    "# Loop over each class and read the train files and store it in list declared above\n",
    "for data_dir in train_data_dir_list:\n",
    "    label=labels[data_dir]\n",
    "    print ('Loading the files of dataset-'+'{}\\n'.format(data_dir))\n",
    "    files=os.listdir(os.path.join(train_data_path,data_dir))\n",
    "    #print (files)\n",
    "    for file in files:\n",
    "        f_name = os.path.join(data_dir,file)\n",
    "        train_data_files.append(f_name)\n",
    "        train_data_labels.append(label)\n",
    "\n",
    "num_train_samples = len(train_data_files)\n",
    "print ('num of train samples:',num_train_samples)\n",
    "\n",
    "#Shuffle the dataset\n",
    "#data_files,data_labels = shuffle(data_files,data_labels, random_state=2)"
   ]
  },
  {
   "cell_type": "code",
   "execution_count": 5,
   "metadata": {},
   "outputs": [
    {
     "name": "stdout",
     "output_type": "stream",
     "text": [
      "cat_data:  ['cats\\\\cat.1.jpg', 'cats\\\\cat.10.jpg', 'cats\\\\cat.100.jpg', 'cats\\\\cat.11.jpg', 'cats\\\\cat.12.jpg', 'cats\\\\cat.13.jpg', 'cats\\\\cat.14.jpg', 'cats\\\\cat.15.jpg', 'cats\\\\cat.16.jpg', 'cats\\\\cat.17.jpg']\n",
      "cat_label: [0, 0, 0, 0, 0, 0, 0, 0, 0, 0]\n",
      "dog_data:  ['dogs\\\\dog.1.jpg', 'dogs\\\\dog.10.jpg', 'dogs\\\\dog.100.jpg', 'dogs\\\\dog.11.jpg', 'dogs\\\\dog.12.jpg', 'dogs\\\\dog.13.jpg', 'dogs\\\\dog.14.jpg', 'dogs\\\\dog.15.jpg', 'dogs\\\\dog.16.jpg', 'dogs\\\\dog.17.jpg']\n",
      "dog_label: [1, 1, 1, 1, 1, 1, 1, 1, 1, 1]\n"
     ]
    }
   ],
   "source": [
    "print ('cat_data: ',train_data_files[0:10])\n",
    "print ('cat_label:', train_data_labels[0:10])\n",
    "\n",
    "print ('dog_data: ',train_data_files[100:110])\n",
    "print ('dog_label:', train_data_labels[100:110])"
   ]
  },
  {
   "cell_type": "markdown",
   "metadata": {},
   "source": [
    "## Load the test files and assign labels to each file"
   ]
  },
  {
   "cell_type": "code",
   "execution_count": 6,
   "metadata": {},
   "outputs": [
    {
     "name": "stdout",
     "output_type": "stream",
     "text": [
      "Loading the files of dataset-cats\n",
      "\n",
      "Loading the files of dataset-dogs\n",
      "\n",
      "num of test samples: 40\n"
     ]
    }
   ],
   "source": [
    "# the list to store the name and label of files\n",
    "test_data_files = []\n",
    "test_data_labels = []\n",
    "\n",
    "# Loop over each class and read the train files and store it in list declared above\n",
    "for data_dir in test_data_dir_list:\n",
    "    label=labels[data_dir]\n",
    "    print ('Loading the files of dataset-'+'{}\\n'.format(data_dir))\n",
    "    files=os.listdir(os.path.join(test_data_path,data_dir))\n",
    "    #print (files)\n",
    "    for file in files:\n",
    "        f_name = os.path.join(data_dir,file)\n",
    "        test_data_files.append(f_name)\n",
    "        test_data_labels.append(label)\n",
    "\n",
    "num_test_samples = len(test_data_files)\n",
    "print ('num of test samples:',num_test_samples)"
   ]
  },
  {
   "cell_type": "code",
   "execution_count": 7,
   "metadata": {},
   "outputs": [
    {
     "name": "stdout",
     "output_type": "stream",
     "text": [
      "cat_data:  ['cats\\\\cat.10.jpg', 'cats\\\\cat.12.jpg', 'cats\\\\cat.20.jpg', 'cats\\\\cat.21.jpg', 'cats\\\\cat.22.jpg', 'cats\\\\cat.23.jpg', 'cats\\\\cat.49.jpg', 'cats\\\\cat.50.jpg', 'cats\\\\cat.60.jpg', 'cats\\\\cat.61.jpg']\n",
      "cat_label: [0, 0, 0, 0, 0, 0, 0, 0, 0, 0]\n",
      "dog_data:  ['dogs\\\\dog.10.jpg', 'dogs\\\\dog.13.jpg', 'dogs\\\\dog.14.jpg', 'dogs\\\\dog.18.jpg', 'dogs\\\\dog.2.jpg', 'dogs\\\\dog.20.jpg', 'dogs\\\\dog.23.jpg', 'dogs\\\\dog.24.jpg', 'dogs\\\\dog.4.jpg', 'dogs\\\\dog.48.jpg']\n",
      "dog_label: [1, 1, 1, 1, 1, 1, 1, 1, 1, 1]\n"
     ]
    }
   ],
   "source": [
    "print ('cat_data: ',test_data_files[0:10])\n",
    "print ('cat_label:', test_data_labels[0:10])\n",
    "\n",
    "print ('dog_data: ',test_data_files[20:30])\n",
    "print ('dog_label:', test_data_labels[20:30])"
   ]
  },
  {
   "cell_type": "markdown",
   "metadata": {},
   "source": [
    "## Define a function to read the loaded file names"
   ]
  },
  {
   "cell_type": "code",
   "execution_count": 8,
   "metadata": {
    "collapsed": true
   },
   "outputs": [],
   "source": [
    "# define the function to read the test data\n",
    "def read_data(data_category='train'):\n",
    "    x=[]\n",
    "    y=[]\n",
    "    if data_category == 'train':\n",
    "        data_path = train_data_path\n",
    "        data_files = train_data_files\n",
    "        data_labels = train_data_labels\n",
    "        \n",
    "    elif data_category == 'test':\n",
    "        data_path = test_data_path\n",
    "        data_files = test_data_files\n",
    "        data_labels = test_data_labels\n",
    "        \n",
    "    for file_name,lab in zip(data_files,data_labels):\n",
    "        #print ('file_read: ', data_path+'\\\\'+fil)\n",
    "        img_name = os.path.join(data_path,file_name)\n",
    "        img = cv2.imread(img_name)\n",
    "        img=cv2.resize(img,(num_rows,num_cols))\n",
    "        #cv2.imshow('img',img)\n",
    "        #cv2.waitKey(1)\n",
    "        x.append(img)\n",
    "        y.append(lab)\n",
    "    return x,y"
   ]
  },
  {
   "cell_type": "code",
   "execution_count": 9,
   "metadata": {},
   "outputs": [
    {
     "name": "stdout",
     "output_type": "stream",
     "text": [
      "Number of training examples: m_train = 200\n",
      "Each image is of size: (32, 32, 3)\n",
      "train_set_x shape: (200, 32, 32, 3)\n",
      "Label shape: (200,)\n"
     ]
    }
   ],
   "source": [
    "#read the train data\n",
    "train_data_x,train_data_y = read_data(data_category='train')\n",
    "train_data_x,train_data_y=np.array(train_data_x),np.array(train_data_y)\n",
    "m_train = train_data_x.shape[0]\n",
    "img_size = train_data_x[0].shape\n",
    "print (\"Number of training examples: m_train = \" + str(m_train))\n",
    "print (\"Each image is of size:\", img_size)\n",
    "print (\"train_set_x shape: \" + str(train_data_x.shape))\n",
    "print (\"Label shape: \" + str(train_data_y.shape))"
   ]
  },
  {
   "cell_type": "markdown",
   "metadata": {},
   "source": [
    "## Read the test data from loaded file name"
   ]
  },
  {
   "cell_type": "code",
   "execution_count": 10,
   "metadata": {},
   "outputs": [
    {
     "name": "stdout",
     "output_type": "stream",
     "text": [
      "Number of test examples: m_test = 40\n",
      "Each image is of size: (32, 32, 3)\n",
      "test_set_x shape: (40, 32, 32, 3)\n",
      "Label shape: (40,)\n"
     ]
    }
   ],
   "source": [
    "#read the test data\n",
    "test_data_x,test_data_y = read_data(data_category='test')\n",
    "test_data_x,test_data_y=np.array(test_data_x),np.array(test_data_y)\n",
    "m_test = test_data_x.shape[0]\n",
    "img_size = test_data_x[0].shape\n",
    "print (\"Number of test examples: m_test = \" + str(m_test))\n",
    "print (\"Each image is of size:\", img_size)\n",
    "print (\"test_set_x shape: \" + str(test_data_x.shape))\n",
    "print (\"Label shape: \" + str(test_data_y.shape))"
   ]
  },
  {
   "cell_type": "code",
   "execution_count": 11,
   "metadata": {},
   "outputs": [
    {
     "name": "stdout",
     "output_type": "stream",
     "text": [
      "(32, 32, 3)\n"
     ]
    },
    {
     "data": {
      "text/plain": [
       "<matplotlib.image.AxesImage at 0xe2080f0>"
      ]
     },
     "execution_count": 11,
     "metadata": {},
     "output_type": "execute_result"
    },
    {
     "data": {
      "image/png": "[encoded data removed]",
      "text/plain": [
       "<matplotlib.figure.Figure at 0xdbec5c0>"
      ]
     },
     "metadata": {},
     "output_type": "display_data"
    }
   ],
   "source": [
    "index = 100\n",
    "print (train_data_x[index].shape)\n",
    "plt.imshow(train_data_x[index])"
   ]
  },
  {
   "cell_type": "markdown",
   "metadata": {},
   "source": [
    "## Reshape the data to feed into logistic regression"
   ]
  },
  {
   "cell_type": "code",
   "execution_count": 12,
   "metadata": {},
   "outputs": [
    {
     "name": "stdout",
     "output_type": "stream",
     "text": [
      "train_data_x_flatten shape: (200, 3072)\n",
      "train_data_y shape: (200,)\n",
      "test_data_x_flatten shape: (40, 3072)\n",
      "test_data_y shape: (40,)\n",
      "feature size of each input:  3072\n"
     ]
    }
   ],
   "source": [
    "# Reshape the training and test examples\n",
    "train_data_x_flatten = train_data_x.reshape(train_data_x.shape[0], -1)\n",
    "test_data_x_flatten = test_data_x.reshape(test_data_x.shape[0], -1)\n",
    "\n",
    "print (\"train_data_x_flatten shape: \" + str(train_data_x_flatten.shape))\n",
    "print (\"train_data_y shape: \" + str(train_data_y.shape))\n",
    "print (\"test_data_x_flatten shape: \" + str(test_data_x_flatten.shape))\n",
    "print (\"test_data_y shape: \" + str(test_data_y.shape))\n",
    "\n",
    "print ('feature size of each input: ', train_data_x_flatten.shape[1])\n"
   ]
  },
  {
   "cell_type": "markdown",
   "metadata": {},
   "source": [
    "## Define the logistic Regression model"
   ]
  },
  {
   "cell_type": "code",
   "execution_count": 13,
   "metadata": {},
   "outputs": [
    {
     "name": "stdout",
     "output_type": "stream",
     "text": [
      "Train on 200 samples, validate on 40 samples\n",
      "Epoch 1/100\n",
      "200/200 [==============================] - 0s 1ms/step - loss: 8.2824 - acc: 0.4850 - val_loss: 8.0590 - val_acc: 0.5000\n",
      "Epoch 2/100\n",
      "200/200 [==============================] - 0s 624us/step - loss: 8.0590 - acc: 0.5000 - val_loss: 8.0590 - val_acc: 0.5000\n",
      "Epoch 3/100\n",
      "200/200 [==============================] - 0s 390us/step - loss: 8.0590 - acc: 0.5000 - val_loss: 8.0590 - val_acc: 0.5000\n",
      "Epoch 4/100\n",
      "200/200 [==============================] - 0s 156us/step - loss: 8.0590 - acc: 0.5000 - val_loss: 8.0590 - val_acc: 0.5000\n",
      "Epoch 5/100\n",
      "200/200 [==============================] - 0s 156us/step - loss: 8.0590 - acc: 0.5000 - val_loss: 8.0590 - val_acc: 0.5000\n",
      "Epoch 6/100\n",
      "200/200 [==============================] - 0s 156us/step - loss: 8.0590 - acc: 0.5000 - val_loss: 8.0590 - val_acc: 0.5000\n",
      "Epoch 7/100\n",
      "200/200 [==============================] - 0s 234us/step - loss: 8.0590 - acc: 0.5000 - val_loss: 8.0590 - val_acc: 0.5000\n",
      "Epoch 8/100\n",
      "200/200 [==============================] - 0s 239us/step - loss: 8.0590 - acc: 0.5000 - val_loss: 8.0590 - val_acc: 0.5000\n",
      "Epoch 9/100\n",
      "200/200 [==============================] - 0s 234us/step - loss: 8.0590 - acc: 0.5000 - val_loss: 8.0590 - val_acc: 0.5000\n",
      "Epoch 10/100\n",
      "200/200 [==============================] - 0s 156us/step - loss: 8.0590 - acc: 0.5000 - val_loss: 8.0590 - val_acc: 0.5000\n",
      "Epoch 11/100\n",
      "200/200 [==============================] - 0s 156us/step - loss: 8.0590 - acc: 0.5000 - val_loss: 8.0590 - val_acc: 0.5000\n",
      "Epoch 12/100\n",
      "200/200 [==============================] - 0s 156us/step - loss: 8.0590 - acc: 0.5000 - val_loss: 8.0590 - val_acc: 0.5000\n",
      "Epoch 13/100\n",
      "200/200 [==============================] - 0s 156us/step - loss: 8.0590 - acc: 0.5000 - val_loss: 8.0590 - val_acc: 0.5000\n",
      "Epoch 14/100\n",
      "200/200 [==============================] - 0s 156us/step - loss: 8.0590 - acc: 0.5000 - val_loss: 8.0590 - val_acc: 0.5000\n",
      "Epoch 15/100\n",
      "200/200 [==============================] - 0s 156us/step - loss: 8.0590 - acc: 0.5000 - val_loss: 8.0590 - val_acc: 0.5000\n",
      "Epoch 16/100\n",
      "200/200 [==============================] - 0s 234us/step - loss: 8.0590 - acc: 0.5000 - val_loss: 8.0590 - val_acc: 0.5000\n",
      "Epoch 17/100\n",
      "200/200 [==============================] - 0s 78us/step - loss: 8.0590 - acc: 0.5000 - val_loss: 8.0590 - val_acc: 0.5000\n",
      "Epoch 18/100\n",
      "200/200 [==============================] - 0s 78us/step - loss: 8.0590 - acc: 0.5000 - val_loss: 8.0590 - val_acc: 0.5000\n",
      "Epoch 19/100\n",
      "200/200 [==============================] - 0s 156us/step - loss: 8.0590 - acc: 0.5000 - val_loss: 8.0590 - val_acc: 0.5000\n",
      "Epoch 20/100\n",
      "200/200 [==============================] - 0s 156us/step - loss: 8.0590 - acc: 0.5000 - val_loss: 8.0590 - val_acc: 0.5000\n",
      "Epoch 21/100\n",
      "200/200 [==============================] - 0s 156us/step - loss: 8.0590 - acc: 0.5000 - val_loss: 8.0590 - val_acc: 0.5000\n",
      "Epoch 22/100\n",
      "200/200 [==============================] - 0s 156us/step - loss: 8.0590 - acc: 0.5000 - val_loss: 8.0590 - val_acc: 0.5000\n",
      "Epoch 23/100\n",
      "200/200 [==============================] - 0s 78us/step - loss: 8.0590 - acc: 0.5000 - val_loss: 8.0590 - val_acc: 0.5000\n",
      "Epoch 24/100\n",
      "200/200 [==============================] - 0s 78us/step - loss: 8.0590 - acc: 0.5000 - val_loss: 8.0590 - val_acc: 0.5000\n",
      "Epoch 25/100\n",
      "200/200 [==============================] - 0s 234us/step - loss: 8.0590 - acc: 0.5000 - val_loss: 8.0590 - val_acc: 0.5000\n",
      "Epoch 26/100\n",
      "200/200 [==============================] - 0s 161us/step - loss: 8.0590 - acc: 0.5000 - val_loss: 8.0590 - val_acc: 0.5000\n",
      "Epoch 27/100\n",
      "200/200 [==============================] - 0s 156us/step - loss: 8.0590 - acc: 0.5000 - val_loss: 8.0590 - val_acc: 0.5000\n",
      "Epoch 28/100\n",
      "200/200 [==============================] - 0s 156us/step - loss: 8.0590 - acc: 0.5000 - val_loss: 8.0590 - val_acc: 0.5000\n",
      "Epoch 29/100\n",
      "200/200 [==============================] - 0s 156us/step - loss: 8.0590 - acc: 0.5000 - val_loss: 8.0590 - val_acc: 0.5000\n",
      "Epoch 30/100\n",
      "200/200 [==============================] - 0s 78us/step - loss: 8.0590 - acc: 0.5000 - val_loss: 8.0590 - val_acc: 0.5000\n",
      "Epoch 31/100\n",
      "200/200 [==============================] - 0s 156us/step - loss: 8.0590 - acc: 0.5000 - val_loss: 8.0590 - val_acc: 0.5000\n",
      "Epoch 32/100\n",
      "200/200 [==============================] - 0s 156us/step - loss: 8.0590 - acc: 0.5000 - val_loss: 8.0590 - val_acc: 0.5000\n",
      "Epoch 33/100\n",
      "200/200 [==============================] - 0s 156us/step - loss: 8.0590 - acc: 0.5000 - val_loss: 8.0590 - val_acc: 0.5000\n",
      "Epoch 34/100\n",
      "200/200 [==============================] - 0s 156us/step - loss: 8.0590 - acc: 0.5000 - val_loss: 8.0590 - val_acc: 0.5000\n",
      "Epoch 35/100\n",
      "200/200 [==============================] - 0s 156us/step - loss: 8.0590 - acc: 0.5000 - val_loss: 8.0590 - val_acc: 0.5000\n",
      "Epoch 36/100\n",
      "200/200 [==============================] - 0s 156us/step - loss: 8.0590 - acc: 0.5000 - val_loss: 8.0590 - val_acc: 0.5000\n",
      "Epoch 37/100\n",
      "200/200 [==============================] - 0s 156us/step - loss: 8.0590 - acc: 0.5000 - val_loss: 8.0590 - val_acc: 0.5000\n",
      "Epoch 38/100\n",
      "200/200 [==============================] - 0s 226us/step - loss: 8.0590 - acc: 0.5000 - val_loss: 8.0590 - val_acc: 0.5000\n",
      "Epoch 39/100\n",
      "200/200 [==============================] - 0s 156us/step - loss: 8.0590 - acc: 0.5000 - val_loss: 8.0590 - val_acc: 0.5000\n",
      "Epoch 40/100\n",
      "200/200 [==============================] - 0s 156us/step - loss: 8.0590 - acc: 0.5000 - val_loss: 8.0590 - val_acc: 0.5000\n",
      "Epoch 41/100\n",
      "200/200 [==============================] - 0s 156us/step - loss: 8.0590 - acc: 0.5000 - val_loss: 8.0590 - val_acc: 0.5000\n",
      "Epoch 42/100\n",
      "200/200 [==============================] - 0s 156us/step - loss: 8.0590 - acc: 0.5000 - val_loss: 8.0590 - val_acc: 0.5000\n",
      "Epoch 43/100\n",
      "200/200 [==============================] - 0s 156us/step - loss: 8.0590 - acc: 0.5000 - val_loss: 8.0590 - val_acc: 0.5000\n",
      "Epoch 44/100\n",
      "200/200 [==============================] - 0s 156us/step - loss: 8.0590 - acc: 0.5000 - val_loss: 8.0590 - val_acc: 0.5000\n",
      "Epoch 45/100\n",
      "200/200 [==============================] - 0s 156us/step - loss: 8.0590 - acc: 0.5000 - val_loss: 8.0590 - val_acc: 0.5000\n",
      "Epoch 46/100\n",
      "200/200 [==============================] - 0s 156us/step - loss: 8.0590 - acc: 0.5000 - val_loss: 8.0590 - val_acc: 0.5000\n",
      "Epoch 47/100\n",
      "200/200 [==============================] - ETA: 0s - loss: 8.0590 - acc: 0.500 - 0s 78us/step - loss: 8.0590 - acc: 0.5000 - val_loss: 8.0590 - val_acc: 0.5000\n",
      "Epoch 48/100\n",
      "200/200 [==============================] - 0s 156us/step - loss: 8.0590 - acc: 0.5000 - val_loss: 8.0590 - val_acc: 0.5000\n",
      "Epoch 49/100\n",
      "200/200 [==============================] - 0s 156us/step - loss: 8.0590 - acc: 0.5000 - val_loss: 8.0590 - val_acc: 0.5000\n",
      "Epoch 50/100\n",
      "200/200 [==============================] - 0s 156us/step - loss: 8.0590 - acc: 0.5000 - val_loss: 8.0590 - val_acc: 0.5000\n",
      "Epoch 51/100\n",
      "200/200 [==============================] - 0s 156us/step - loss: 8.0590 - acc: 0.5000 - val_loss: 8.0590 - val_acc: 0.5000\n",
      "Epoch 52/100\n",
      "200/200 [==============================] - 0s 156us/step - loss: 8.0590 - acc: 0.5000 - val_loss: 8.0590 - val_acc: 0.5000\n",
      "Epoch 53/100\n",
      "200/200 [==============================] - 0s 156us/step - loss: 8.0590 - acc: 0.5000 - val_loss: 8.0590 - val_acc: 0.5000\n",
      "Epoch 54/100\n",
      "200/200 [==============================] - ETA: 0s - loss: 8.0590 - acc: 0.500 - 0s 78us/step - loss: 8.0590 - acc: 0.5000 - val_loss: 8.0590 - val_acc: 0.5000\n",
      "Epoch 55/100\n",
      "200/200 [==============================] - 0s 78us/step - loss: 8.0590 - acc: 0.5000 - val_loss: 8.0590 - val_acc: 0.5000\n",
      "Epoch 56/100\n",
      "200/200 [==============================] - 0s 78us/step - loss: 8.0590 - acc: 0.5000 - val_loss: 8.0590 - val_acc: 0.5000\n",
      "Epoch 57/100\n",
      "200/200 [==============================] - 0s 156us/step - loss: 8.0590 - acc: 0.5000 - val_loss: 8.0590 - val_acc: 0.5000\n",
      "Epoch 58/100\n",
      "200/200 [==============================] - 0s 156us/step - loss: 8.0590 - acc: 0.5000 - val_loss: 8.0590 - val_acc: 0.5000\n",
      "Epoch 59/100\n",
      "200/200 [==============================] - ETA: 0s - loss: 8.0590 - acc: 0.500 - 0s 156us/step - loss: 8.0590 - acc: 0.5000 - val_loss: 8.0590 - val_acc: 0.5000\n",
      "Epoch 60/100\n"
     ]
    },
    {
     "name": "stdout",
     "output_type": "stream",
     "text": [
      "200/200 [==============================] - 0s 78us/step - loss: 8.0590 - acc: 0.5000 - val_loss: 8.0590 - val_acc: 0.5000\n",
      "Epoch 61/100\n",
      "200/200 [==============================] - 0s 78us/step - loss: 8.0590 - acc: 0.5000 - val_loss: 8.0590 - val_acc: 0.5000\n",
      "Epoch 62/100\n",
      "200/200 [==============================] - 0s 156us/step - loss: 8.0590 - acc: 0.5000 - val_loss: 8.0590 - val_acc: 0.5000\n",
      "Epoch 63/100\n",
      "200/200 [==============================] - 0s 156us/step - loss: 8.0590 - acc: 0.5000 - val_loss: 8.0590 - val_acc: 0.5000\n",
      "Epoch 64/100\n",
      "200/200 [==============================] - 0s 156us/step - loss: 8.0590 - acc: 0.5000 - val_loss: 8.0590 - val_acc: 0.5000\n",
      "Epoch 65/100\n",
      "200/200 [==============================] - 0s 156us/step - loss: 8.0590 - acc: 0.5000 - val_loss: 8.0590 - val_acc: 0.5000\n",
      "Epoch 66/100\n",
      "200/200 [==============================] - 0s 156us/step - loss: 8.0590 - acc: 0.5000 - val_loss: 8.0590 - val_acc: 0.5000\n",
      "Epoch 67/100\n",
      "200/200 [==============================] - 0s 156us/step - loss: 8.0590 - acc: 0.5000 - val_loss: 8.0590 - val_acc: 0.5000\n",
      "Epoch 68/100\n",
      "200/200 [==============================] - 0s 166us/step - loss: 8.0590 - acc: 0.5000 - val_loss: 8.0590 - val_acc: 0.5000\n",
      "Epoch 69/100\n",
      "200/200 [==============================] - 0s 156us/step - loss: 8.0590 - acc: 0.5000 - val_loss: 8.0590 - val_acc: 0.5000\n",
      "Epoch 70/100\n",
      "200/200 [==============================] - 0s 156us/step - loss: 8.0590 - acc: 0.5000 - val_loss: 8.0590 - val_acc: 0.5000\n",
      "Epoch 71/100\n",
      "200/200 [==============================] - 0s 156us/step - loss: 8.0590 - acc: 0.5000 - val_loss: 8.0590 - val_acc: 0.5000\n",
      "Epoch 72/100\n",
      "200/200 [==============================] - 0s 234us/step - loss: 8.0590 - acc: 0.5000 - val_loss: 8.0590 - val_acc: 0.5000\n",
      "Epoch 73/100\n",
      "200/200 [==============================] - 0s 156us/step - loss: 8.0590 - acc: 0.5000 - val_loss: 8.0590 - val_acc: 0.5000\n",
      "Epoch 74/100\n",
      "200/200 [==============================] - 0s 156us/step - loss: 8.0590 - acc: 0.5000 - val_loss: 8.0590 - val_acc: 0.5000\n",
      "Epoch 75/100\n",
      "200/200 [==============================] - 0s 156us/step - loss: 8.0590 - acc: 0.5000 - val_loss: 8.0590 - val_acc: 0.5000\n",
      "Epoch 76/100\n",
      "200/200 [==============================] - 0s 156us/step - loss: 8.0590 - acc: 0.5000 - val_loss: 8.0590 - val_acc: 0.5000\n",
      "Epoch 77/100\n",
      "200/200 [==============================] - 0s 156us/step - loss: 8.0590 - acc: 0.5000 - val_loss: 8.0590 - val_acc: 0.5000\n",
      "Epoch 78/100\n",
      "200/200 [==============================] - 0s 156us/step - loss: 8.0590 - acc: 0.5000 - val_loss: 8.0590 - val_acc: 0.5000\n",
      "Epoch 79/100\n",
      "200/200 [==============================] - 0s 156us/step - loss: 8.0590 - acc: 0.5000 - val_loss: 8.0590 - val_acc: 0.5000\n",
      "Epoch 80/100\n",
      "200/200 [==============================] - 0s 78us/step - loss: 8.0590 - acc: 0.5000 - val_loss: 8.0590 - val_acc: 0.5000\n",
      "Epoch 81/100\n",
      "200/200 [==============================] - 0s 156us/step - loss: 8.0590 - acc: 0.5000 - val_loss: 8.0590 - val_acc: 0.5000\n",
      "Epoch 82/100\n",
      "200/200 [==============================] - 0s 156us/step - loss: 8.0590 - acc: 0.5000 - val_loss: 8.0590 - val_acc: 0.5000\n",
      "Epoch 83/100\n",
      "200/200 [==============================] - 0s 156us/step - loss: 8.0590 - acc: 0.5000 - val_loss: 8.0590 - val_acc: 0.5000\n",
      "Epoch 84/100\n",
      "200/200 [==============================] - 0s 156us/step - loss: 8.0590 - acc: 0.5000 - val_loss: 8.0590 - val_acc: 0.5000\n",
      "Epoch 85/100\n",
      "200/200 [==============================] - 0s 156us/step - loss: 8.0590 - acc: 0.5000 - val_loss: 8.0590 - val_acc: 0.5000\n",
      "Epoch 86/100\n",
      "200/200 [==============================] - 0s 156us/step - loss: 8.0590 - acc: 0.5000 - val_loss: 8.0590 - val_acc: 0.5000\n",
      "Epoch 87/100\n",
      "200/200 [==============================] - 0s 156us/step - loss: 8.0590 - acc: 0.5000 - val_loss: 8.0590 - val_acc: 0.5000\n",
      "Epoch 88/100\n",
      "200/200 [==============================] - 0s 156us/step - loss: 8.0590 - acc: 0.5000 - val_loss: 8.0590 - val_acc: 0.5000\n",
      "Epoch 89/100\n",
      "200/200 [==============================] - 0s 78us/step - loss: 8.0590 - acc: 0.5000 - val_loss: 8.0590 - val_acc: 0.5000\n",
      "Epoch 90/100\n",
      "200/200 [==============================] - 0s 156us/step - loss: 8.0590 - acc: 0.5000 - val_loss: 8.0590 - val_acc: 0.5000\n",
      "Epoch 91/100\n",
      "200/200 [==============================] - 0s 156us/step - loss: 8.0590 - acc: 0.5000 - val_loss: 8.0590 - val_acc: 0.5000\n",
      "Epoch 92/100\n",
      "200/200 [==============================] - 0s 156us/step - loss: 8.0590 - acc: 0.5000 - val_loss: 8.0590 - val_acc: 0.5000\n",
      "Epoch 93/100\n",
      "200/200 [==============================] - 0s 78us/step - loss: 8.0590 - acc: 0.5000 - val_loss: 8.0590 - val_acc: 0.5000\n",
      "Epoch 94/100\n",
      "200/200 [==============================] - 0s 156us/step - loss: 8.0590 - acc: 0.5000 - val_loss: 8.0590 - val_acc: 0.5000\n",
      "Epoch 95/100\n",
      "200/200 [==============================] - 0s 156us/step - loss: 8.0590 - acc: 0.5000 - val_loss: 8.0590 - val_acc: 0.5000\n",
      "Epoch 96/100\n",
      "200/200 [==============================] - 0s 156us/step - loss: 8.0590 - acc: 0.5000 - val_loss: 8.0590 - val_acc: 0.5000\n",
      "Epoch 97/100\n",
      "200/200 [==============================] - 0s 156us/step - loss: 8.0590 - acc: 0.5000 - val_loss: 8.0590 - val_acc: 0.5000\n",
      "Epoch 98/100\n",
      "200/200 [==============================] - 0s 156us/step - loss: 8.0590 - acc: 0.5000 - val_loss: 8.0590 - val_acc: 0.5000\n",
      "Epoch 99/100\n",
      "200/200 [==============================] - 0s 176us/step - loss: 8.0590 - acc: 0.5000 - val_loss: 8.0590 - val_acc: 0.5000\n",
      "Epoch 100/100\n",
      "200/200 [==============================] - 0s 156us/step - loss: 8.0590 - acc: 0.5000 - val_loss: 8.0590 - val_acc: 0.5000\n"
     ]
    }
   ],
   "source": [
    "input_size = train_data_x_flatten.shape[1]\n",
    "model = Sequential()\n",
    "model.add(Dense(1, input_dim=input_size, activation='sigmoid'))\n",
    "model.compile(optimizer='adam',loss='binary_crossentropy', metrics=['accuracy'])\n",
    "hist = model.fit(train_data_x_flatten,train_data_y,batch_size=batch_size, validation_data=(test_data_x_flatten,test_data_y),epochs=num_epoch)\n"
   ]
  },
  {
   "cell_type": "markdown",
   "metadata": {},
   "source": [
    "## Plot the loss and accuracy curve"
   ]
  },
  {
   "cell_type": "code",
   "execution_count": 15,
   "metadata": {},
   "outputs": [
    {
     "data": {
      "image/png": "[encoded data removed]",
      "text/plain": [
       "<matplotlib.figure.Figure at 0xf8fad30>"
      ]
     },
     "metadata": {},
     "output_type": "display_data"
    },
    {
     "data": {
      "image/png": "[encoded data removed]",
      "text/plain": [
       "<matplotlib.figure.Figure at 0xff1d6d8>"
      ]
     },
     "metadata": {},
     "output_type": "display_data"
    }
   ],
   "source": [
    "# visualizing losses and accuracy\n",
    "train_loss=hist.history['loss']\n",
    "val_loss=hist.history['val_loss']\n",
    "train_acc=hist.history['acc']\n",
    "val_acc=hist.history['val_acc']\n",
    "xc=range(num_epoch)\n",
    "\n",
    "plt.figure(1,figsize=(7,5))\n",
    "plt.plot(xc,train_loss)\n",
    "plt.plot(xc,val_loss)\n",
    "plt.xlabel('num of Epochs')\n",
    "plt.ylabel('loss')\n",
    "plt.title('train_loss vs val_loss')\n",
    "plt.grid(True)\n",
    "plt.legend(['train','val'])\n",
    "#print plt.style.available # use bmh, classic,ggplot for big pictures\n",
    "plt.style.use(['classic'])\n",
    "\n",
    "# to save figure\n",
    "plt.savefig('loss_curve_ex-3')\n",
    "\n",
    "plt.figure(2,figsize=(7,5))\n",
    "plt.plot(xc,train_acc)\n",
    "plt.plot(xc,val_acc)\n",
    "plt.xlabel('num of Epochs')\n",
    "plt.ylabel('accuracy')\n",
    "plt.title('train_acc vs val_acc')\n",
    "plt.grid(True)\n",
    "plt.legend(['train','val'],loc=4)\n",
    "#print plt.style.available # use bmh, classic,ggplot for big pictures\n",
    "plt.style.use(['classic'])\n",
    "# to save figure\n",
    "plt.savefig('acc_curve_ex-3')"
   ]
  },
  {
   "cell_type": "markdown",
   "metadata": {},
   "source": [
    "## Normalizing the data and training the model again"
   ]
  },
  {
   "cell_type": "code",
   "execution_count": 16,
   "metadata": {
    "collapsed": true
   },
   "outputs": [],
   "source": [
    "train_data_x_flatten = train_data_x_flatten/255.\n",
    "test_data_x_flatten = test_data_x_flatten/255."
   ]
  },
  {
   "cell_type": "code",
   "execution_count": 17,
   "metadata": {},
   "outputs": [
    {
     "name": "stdout",
     "output_type": "stream",
     "text": [
      "Train on 200 samples, validate on 40 samples\n",
      "Epoch 1/100\n",
      "200/200 [==============================] - 0s 1ms/step - loss: 0.8018 - acc: 0.4500 - val_loss: 0.7899 - val_acc: 0.5000\n",
      "Epoch 2/100\n",
      "200/200 [==============================] - 0s 234us/step - loss: 0.7263 - acc: 0.5300 - val_loss: 0.6824 - val_acc: 0.5250\n",
      "Epoch 3/100\n",
      "200/200 [==============================] - 0s 234us/step - loss: 0.6783 - acc: 0.5700 - val_loss: 0.6870 - val_acc: 0.5500\n",
      "Epoch 4/100\n",
      "200/200 [==============================] - 0s 234us/step - loss: 0.6648 - acc: 0.5700 - val_loss: 0.6583 - val_acc: 0.5250\n",
      "Epoch 5/100\n",
      "200/200 [==============================] - 0s 156us/step - loss: 0.6972 - acc: 0.5750 - val_loss: 0.6823 - val_acc: 0.5750\n",
      "Epoch 6/100\n",
      "200/200 [==============================] - 0s 156us/step - loss: 0.7118 - acc: 0.5200 - val_loss: 0.6329 - val_acc: 0.5750\n",
      "Epoch 7/100\n",
      "200/200 [==============================] - 0s 156us/step - loss: 0.6668 - acc: 0.5550 - val_loss: 0.6270 - val_acc: 0.6750\n",
      "Epoch 8/100\n",
      "200/200 [==============================] - 0s 78us/step - loss: 0.6365 - acc: 0.6300 - val_loss: 0.6079 - val_acc: 0.6750\n",
      "Epoch 9/100\n",
      "200/200 [==============================] - 0s 156us/step - loss: 0.6242 - acc: 0.6650 - val_loss: 0.6291 - val_acc: 0.6250\n",
      "Epoch 10/100\n",
      "200/200 [==============================] - 0s 156us/step - loss: 0.6244 - acc: 0.6500 - val_loss: 0.5934 - val_acc: 0.7000\n",
      "Epoch 11/100\n",
      "200/200 [==============================] - 0s 156us/step - loss: 0.6265 - acc: 0.6450 - val_loss: 0.6108 - val_acc: 0.6250\n",
      "Epoch 12/100\n",
      "200/200 [==============================] - 0s 156us/step - loss: 0.6557 - acc: 0.5850 - val_loss: 0.5876 - val_acc: 0.6750\n",
      "Epoch 13/100\n",
      "200/200 [==============================] - 0s 156us/step - loss: 0.6124 - acc: 0.6250 - val_loss: 0.5881 - val_acc: 0.7000\n",
      "Epoch 14/100\n",
      "200/200 [==============================] - 0s 156us/step - loss: 0.6120 - acc: 0.6700 - val_loss: 0.5724 - val_acc: 0.6750\n",
      "Epoch 15/100\n",
      "200/200 [==============================] - 0s 156us/step - loss: 0.6281 - acc: 0.6350 - val_loss: 0.5853 - val_acc: 0.6750\n",
      "Epoch 16/100\n",
      "200/200 [==============================] - 0s 156us/step - loss: 0.5839 - acc: 0.7300 - val_loss: 0.5495 - val_acc: 0.8000\n",
      "Epoch 17/100\n",
      "200/200 [==============================] - 0s 156us/step - loss: 0.5850 - acc: 0.7100 - val_loss: 0.5418 - val_acc: 0.8000\n",
      "Epoch 18/100\n",
      "200/200 [==============================] - 0s 234us/step - loss: 0.5731 - acc: 0.7100 - val_loss: 0.5524 - val_acc: 0.8000\n",
      "Epoch 19/100\n",
      "200/200 [==============================] - 0s 78us/step - loss: 0.5706 - acc: 0.7000 - val_loss: 0.5346 - val_acc: 0.7250\n",
      "Epoch 20/100\n",
      "200/200 [==============================] - 0s 78us/step - loss: 0.5824 - acc: 0.6450 - val_loss: 0.5364 - val_acc: 0.7750\n",
      "Epoch 21/100\n",
      "200/200 [==============================] - 0s 156us/step - loss: 0.5525 - acc: 0.7400 - val_loss: 0.5187 - val_acc: 0.8250\n",
      "Epoch 22/100\n",
      "200/200 [==============================] - 0s 156us/step - loss: 0.5484 - acc: 0.7650 - val_loss: 0.5333 - val_acc: 0.7500\n",
      "Epoch 23/100\n",
      "200/200 [==============================] - 0s 156us/step - loss: 0.5318 - acc: 0.7850 - val_loss: 0.5182 - val_acc: 0.7750\n",
      "Epoch 24/100\n",
      "200/200 [==============================] - 0s 156us/step - loss: 0.5368 - acc: 0.7400 - val_loss: 0.5519 - val_acc: 0.7000\n",
      "Epoch 25/100\n",
      "200/200 [==============================] - 0s 156us/step - loss: 0.5785 - acc: 0.6650 - val_loss: 0.5122 - val_acc: 0.7750\n",
      "Epoch 26/100\n",
      "200/200 [==============================] - 0s 156us/step - loss: 0.5562 - acc: 0.6850 - val_loss: 0.5129 - val_acc: 0.7750\n",
      "Epoch 27/100\n",
      "200/200 [==============================] - 0s 156us/step - loss: 0.5212 - acc: 0.7950 - val_loss: 0.4929 - val_acc: 0.8750\n",
      "Epoch 28/100\n",
      "200/200 [==============================] - 0s 78us/step - loss: 0.5145 - acc: 0.8050 - val_loss: 0.4909 - val_acc: 0.8000\n",
      "Epoch 29/100\n",
      "200/200 [==============================] - 0s 78us/step - loss: 0.5110 - acc: 0.7700 - val_loss: 0.4982 - val_acc: 0.7750\n",
      "Epoch 30/100\n",
      "200/200 [==============================] - 0s 156us/step - loss: 0.4958 - acc: 0.8300 - val_loss: 0.4846 - val_acc: 0.8250\n",
      "Epoch 31/100\n",
      "200/200 [==============================] - 0s 156us/step - loss: 0.5106 - acc: 0.7600 - val_loss: 0.5012 - val_acc: 0.7750\n",
      "Epoch 32/100\n",
      "200/200 [==============================] - 0s 156us/step - loss: 0.4966 - acc: 0.8150 - val_loss: 0.4847 - val_acc: 0.7750\n",
      "Epoch 33/100\n",
      "200/200 [==============================] - 0s 156us/step - loss: 0.5067 - acc: 0.7650 - val_loss: 0.4839 - val_acc: 0.7750\n",
      "Epoch 34/100\n",
      "200/200 [==============================] - 0s 156us/step - loss: 0.4857 - acc: 0.8450 - val_loss: 0.4698 - val_acc: 0.8750\n",
      "Epoch 35/100\n",
      "200/200 [==============================] - 0s 156us/step - loss: 0.4867 - acc: 0.8350 - val_loss: 0.4641 - val_acc: 0.8750\n",
      "Epoch 36/100\n",
      "200/200 [==============================] - 0s 156us/step - loss: 0.4717 - acc: 0.8600 - val_loss: 0.4607 - val_acc: 0.8750\n",
      "Epoch 37/100\n",
      "200/200 [==============================] - ETA: 0s - loss: 0.4355 - acc: 0.937 - 0s 156us/step - loss: 0.4691 - acc: 0.8600 - val_loss: 0.4565 - val_acc: 0.8500\n",
      "Epoch 38/100\n",
      "200/200 [==============================] - 0s 78us/step - loss: 0.4672 - acc: 0.8550 - val_loss: 0.4516 - val_acc: 0.9000\n",
      "Epoch 39/100\n",
      "200/200 [==============================] - 0s 156us/step - loss: 0.4613 - acc: 0.8750 - val_loss: 0.4475 - val_acc: 0.9000\n",
      "Epoch 40/100\n",
      "200/200 [==============================] - 0s 156us/step - loss: 0.4515 - acc: 0.9000 - val_loss: 0.4555 - val_acc: 0.8250\n",
      "Epoch 41/100\n",
      "200/200 [==============================] - 0s 156us/step - loss: 0.4614 - acc: 0.8400 - val_loss: 0.4421 - val_acc: 0.8750\n",
      "Epoch 42/100\n",
      "200/200 [==============================] - 0s 156us/step - loss: 0.4583 - acc: 0.8450 - val_loss: 0.4656 - val_acc: 0.7500\n",
      "Epoch 43/100\n",
      "200/200 [==============================] - 0s 78us/step - loss: 0.4616 - acc: 0.8300 - val_loss: 0.4279 - val_acc: 0.9000\n",
      "Epoch 44/100\n",
      "200/200 [==============================] - 0s 156us/step - loss: 0.4488 - acc: 0.8500 - val_loss: 0.4228 - val_acc: 0.9500\n",
      "Epoch 45/100\n",
      "200/200 [==============================] - 0s 156us/step - loss: 0.4444 - acc: 0.8500 - val_loss: 0.4260 - val_acc: 0.8500\n",
      "Epoch 46/100\n",
      "200/200 [==============================] - 0s 156us/step - loss: 0.4503 - acc: 0.8250 - val_loss: 0.4185 - val_acc: 0.8750\n",
      "Epoch 47/100\n",
      "200/200 [==============================] - 0s 156us/step - loss: 0.4271 - acc: 0.9050 - val_loss: 0.4098 - val_acc: 0.9250\n",
      "Epoch 48/100\n",
      "200/200 [==============================] - 0s 156us/step - loss: 0.4482 - acc: 0.8250 - val_loss: 0.4661 - val_acc: 0.7500\n",
      "Epoch 49/100\n",
      "200/200 [==============================] - 0s 234us/step - loss: 0.5136 - acc: 0.7100 - val_loss: 0.4113 - val_acc: 0.8500\n",
      "Epoch 50/100\n",
      "200/200 [==============================] - 0s 156us/step - loss: 0.4275 - acc: 0.8500 - val_loss: 0.4185 - val_acc: 0.8250\n",
      "Epoch 51/100\n",
      "200/200 [==============================] - 0s 156us/step - loss: 0.4138 - acc: 0.9000 - val_loss: 0.3951 - val_acc: 0.9250\n",
      "Epoch 52/100\n",
      "200/200 [==============================] - 0s 156us/step - loss: 0.4222 - acc: 0.9000 - val_loss: 0.4026 - val_acc: 0.8500\n",
      "Epoch 53/100\n",
      "200/200 [==============================] - 0s 156us/step - loss: 0.4060 - acc: 0.9150 - val_loss: 0.3965 - val_acc: 0.9000\n",
      "Epoch 54/100\n",
      "200/200 [==============================] - 0s 156us/step - loss: 0.4054 - acc: 0.9050 - val_loss: 0.3887 - val_acc: 0.9500\n",
      "Epoch 55/100\n",
      "200/200 [==============================] - 0s 156us/step - loss: 0.4128 - acc: 0.8750 - val_loss: 0.4150 - val_acc: 0.8500\n",
      "Epoch 56/100\n",
      "200/200 [==============================] - 0s 156us/step - loss: 0.4349 - acc: 0.8100 - val_loss: 0.3900 - val_acc: 0.8750\n",
      "Epoch 57/100\n",
      "200/200 [==============================] - 0s 156us/step - loss: 0.4343 - acc: 0.8200 - val_loss: 0.4375 - val_acc: 0.7750\n",
      "Epoch 58/100\n",
      "200/200 [==============================] - 0s 78us/step - loss: 0.4416 - acc: 0.8050 - val_loss: 0.3991 - val_acc: 0.8750\n",
      "Epoch 59/100\n",
      "200/200 [==============================] - 0s 156us/step - loss: 0.4204 - acc: 0.8450 - val_loss: 0.4205 - val_acc: 0.7750\n",
      "Epoch 60/100\n",
      "200/200 [==============================] - 0s 156us/step - loss: 0.4119 - acc: 0.8450 - val_loss: 0.3755 - val_acc: 0.9250\n"
     ]
    },
    {
     "name": "stdout",
     "output_type": "stream",
     "text": [
      "Epoch 61/100\n",
      "200/200 [==============================] - 0s 156us/step - loss: 0.3904 - acc: 0.9050 - val_loss: 0.3897 - val_acc: 0.8750\n",
      "Epoch 62/100\n",
      "200/200 [==============================] - 0s 156us/step - loss: 0.3833 - acc: 0.9200 - val_loss: 0.3710 - val_acc: 0.9250\n",
      "Epoch 63/100\n",
      "200/200 [==============================] - 0s 156us/step - loss: 0.3790 - acc: 0.9150 - val_loss: 0.3757 - val_acc: 0.9250\n",
      "Epoch 64/100\n",
      "200/200 [==============================] - 0s 156us/step - loss: 0.3773 - acc: 0.9050 - val_loss: 0.3752 - val_acc: 0.9500\n",
      "Epoch 65/100\n",
      "200/200 [==============================] - 0s 78us/step - loss: 0.3790 - acc: 0.9100 - val_loss: 0.3703 - val_acc: 0.9500\n",
      "Epoch 66/100\n",
      "200/200 [==============================] - 0s 156us/step - loss: 0.3722 - acc: 0.9250 - val_loss: 0.3646 - val_acc: 0.9500\n",
      "Epoch 67/100\n",
      "200/200 [==============================] - 0s 103us/step - loss: 0.3667 - acc: 0.9450 - val_loss: 0.3621 - val_acc: 0.9500\n",
      "Epoch 68/100\n",
      "200/200 [==============================] - 0s 78us/step - loss: 0.3647 - acc: 0.9500 - val_loss: 0.3582 - val_acc: 0.9500\n",
      "Epoch 69/100\n",
      "200/200 [==============================] - 0s 156us/step - loss: 0.3663 - acc: 0.9400 - val_loss: 0.3647 - val_acc: 0.8750\n",
      "Epoch 70/100\n",
      "200/200 [==============================] - 0s 156us/step - loss: 0.3727 - acc: 0.9100 - val_loss: 0.3554 - val_acc: 0.9000\n",
      "Epoch 71/100\n",
      "200/200 [==============================] - 0s 156us/step - loss: 0.3678 - acc: 0.9150 - val_loss: 0.3608 - val_acc: 0.8750\n",
      "Epoch 72/100\n",
      "200/200 [==============================] - 0s 156us/step - loss: 0.3672 - acc: 0.9300 - val_loss: 0.3446 - val_acc: 0.9250\n",
      "Epoch 73/100\n",
      "200/200 [==============================] - 0s 156us/step - loss: 0.3514 - acc: 0.9300 - val_loss: 0.3422 - val_acc: 0.9500\n",
      "Epoch 74/100\n",
      "200/200 [==============================] - 0s 156us/step - loss: 0.3572 - acc: 0.9200 - val_loss: 0.3470 - val_acc: 0.9250\n",
      "Epoch 75/100\n",
      "200/200 [==============================] - 0s 156us/step - loss: 0.3526 - acc: 0.9200 - val_loss: 0.3498 - val_acc: 0.9000\n",
      "Epoch 76/100\n",
      "200/200 [==============================] - 0s 156us/step - loss: 0.4088 - acc: 0.7800 - val_loss: 0.3733 - val_acc: 0.8750\n",
      "Epoch 77/100\n",
      "200/200 [==============================] - 0s 156us/step - loss: 0.3789 - acc: 0.8800 - val_loss: 0.3364 - val_acc: 0.9250\n",
      "Epoch 78/100\n",
      "200/200 [==============================] - 0s 156us/step - loss: 0.3464 - acc: 0.9350 - val_loss: 0.3575 - val_acc: 0.8750\n",
      "Epoch 79/100\n",
      "200/200 [==============================] - 0s 156us/step - loss: 0.3455 - acc: 0.9200 - val_loss: 0.3297 - val_acc: 0.9500\n",
      "Epoch 80/100\n",
      "200/200 [==============================] - 0s 156us/step - loss: 0.3423 - acc: 0.9350 - val_loss: 0.3356 - val_acc: 0.9250\n",
      "Epoch 81/100\n",
      "200/200 [==============================] - 0s 156us/step - loss: 0.3410 - acc: 0.9300 - val_loss: 0.3442 - val_acc: 0.9000\n",
      "Epoch 82/100\n",
      "200/200 [==============================] - 0s 156us/step - loss: 0.3638 - acc: 0.9000 - val_loss: 0.3255 - val_acc: 0.9250\n",
      "Epoch 83/100\n",
      "200/200 [==============================] - 0s 156us/step - loss: 0.3553 - acc: 0.8700 - val_loss: 0.3341 - val_acc: 0.9000\n",
      "Epoch 84/100\n",
      "200/200 [==============================] - 0s 156us/step - loss: 0.3329 - acc: 0.9350 - val_loss: 0.3226 - val_acc: 0.9500\n",
      "Epoch 85/100\n",
      "200/200 [==============================] - 0s 156us/step - loss: 0.3267 - acc: 0.9500 - val_loss: 0.3202 - val_acc: 0.9500\n",
      "Epoch 86/100\n",
      "200/200 [==============================] - 0s 78us/step - loss: 0.3215 - acc: 0.9600 - val_loss: 0.3174 - val_acc: 0.9500\n",
      "Epoch 87/100\n",
      "200/200 [==============================] - 0s 156us/step - loss: 0.3194 - acc: 0.9600 - val_loss: 0.3157 - val_acc: 0.9500\n",
      "Epoch 88/100\n",
      "200/200 [==============================] - 0s 156us/step - loss: 0.3193 - acc: 0.9600 - val_loss: 0.3135 - val_acc: 0.9500\n",
      "Epoch 89/100\n",
      "200/200 [==============================] - 0s 156us/step - loss: 0.3265 - acc: 0.9300 - val_loss: 0.3313 - val_acc: 0.9000\n",
      "Epoch 90/100\n",
      "200/200 [==============================] - 0s 234us/step - loss: 0.3217 - acc: 0.9350 - val_loss: 0.3052 - val_acc: 0.9500\n",
      "Epoch 91/100\n",
      "200/200 [==============================] - 0s 156us/step - loss: 0.3124 - acc: 0.9500 - val_loss: 0.3034 - val_acc: 0.9500\n",
      "Epoch 92/100\n",
      "200/200 [==============================] - 0s 156us/step - loss: 0.3082 - acc: 0.9650 - val_loss: 0.3115 - val_acc: 0.9500\n",
      "Epoch 93/100\n",
      "200/200 [==============================] - 0s 156us/step - loss: 0.3171 - acc: 0.9450 - val_loss: 0.2981 - val_acc: 0.9500\n",
      "Epoch 94/100\n",
      "200/200 [==============================] - 0s 156us/step - loss: 0.3231 - acc: 0.9300 - val_loss: 0.3094 - val_acc: 0.9000\n",
      "Epoch 95/100\n",
      "200/200 [==============================] - 0s 78us/step - loss: 0.3207 - acc: 0.9200 - val_loss: 0.2922 - val_acc: 0.9500\n",
      "Epoch 96/100\n",
      "200/200 [==============================] - 0s 156us/step - loss: 0.3164 - acc: 0.9350 - val_loss: 0.2958 - val_acc: 0.9750\n",
      "Epoch 97/100\n",
      "200/200 [==============================] - 0s 78us/step - loss: 0.2987 - acc: 0.9650 - val_loss: 0.2957 - val_acc: 0.9750\n",
      "Epoch 98/100\n",
      "200/200 [==============================] - 0s 88us/step - loss: 0.3002 - acc: 0.9650 - val_loss: 0.2901 - val_acc: 0.9500\n",
      "Epoch 99/100\n",
      "200/200 [==============================] - 0s 156us/step - loss: 0.2977 - acc: 0.9650 - val_loss: 0.2899 - val_acc: 0.9500\n",
      "Epoch 100/100\n",
      "200/200 [==============================] - 0s 156us/step - loss: 0.2952 - acc: 0.9500 - val_loss: 0.2848 - val_acc: 0.9500\n"
     ]
    }
   ],
   "source": [
    "model = Sequential()\n",
    "model.add(Dense(1, input_dim=input_size, activation='sigmoid'))\n",
    "model.compile(optimizer='adam',loss='binary_crossentropy', metrics=['accuracy'])\n",
    "hist = model.fit(train_data_x_flatten,train_data_y,batch_size=batch_size, validation_data=(test_data_x_flatten,test_data_y),epochs=num_epoch)\n"
   ]
  },
  {
   "cell_type": "code",
   "execution_count": 22,
   "metadata": {},
   "outputs": [
    {
     "data": {
      "image/png": "[encoded data removed]",
      "text/plain": [
       "<matplotlib.figure.Figure at 0x10594320>"
      ]
     },
     "metadata": {},
     "output_type": "display_data"
    },
    {
     "data": {
      "image/png": "[encoded data removed]",
      "text/plain": [
       "<matplotlib.figure.Figure at 0xdcd9668>"
      ]
     },
     "metadata": {},
     "output_type": "display_data"
    }
   ],
   "source": [
    "# visualizing losses and accuracy\n",
    "train_loss=hist.history['loss']\n",
    "val_loss=hist.history['val_loss']\n",
    "train_acc=hist.history['acc']\n",
    "val_acc=hist.history['val_acc']\n",
    "xc=range(num_epoch)\n",
    "\n",
    "plt.figure(1,figsize=(7,5))\n",
    "plt.plot(xc,train_loss)\n",
    "plt.plot(xc,val_loss)\n",
    "plt.xlabel('num of Epochs')\n",
    "plt.ylabel('loss')\n",
    "plt.title('train_loss vs val_loss')\n",
    "plt.grid(True)\n",
    "plt.legend(['train','val'])\n",
    "#print plt.style.available # use bmh, classic,ggplot for big pictures\n",
    "plt.style.use(['classic'])\n",
    "\n",
    "# to save figure\n",
    "plt.savefig('loss_curve_ex-3_norm')\n",
    "\n",
    "plt.figure(2,figsize=(7,5))\n",
    "plt.plot(xc,train_acc)\n",
    "plt.plot(xc,val_acc)\n",
    "plt.xlabel('num of Epochs')\n",
    "plt.ylabel('accuracy')\n",
    "plt.title('train_acc vs val_acc')\n",
    "plt.grid(True)\n",
    "plt.legend(['train','val'],loc=4)\n",
    "#print plt.style.available # use bmh, classic,ggplot for big pictures\n",
    "plt.style.use(['classic'])\n",
    "\n",
    "# to save figure\n",
    "plt.savefig('acc_curve_ex-3_norm')"
   ]
  },
  {
   "cell_type": "markdown",
   "metadata": {
    "collapsed": true
   },
   "source": [
    "## Evaluate the performance of the model"
   ]
  },
  {
   "cell_type": "code",
   "execution_count": 23,
   "metadata": {},
   "outputs": [
    {
     "name": "stdout",
     "output_type": "stream",
     "text": [
      "40/40 [==============================] - 0s 3ms/step\n",
      "[0.28481786251068114, 0.94999999999999996]\n",
      "loss: 0.284817862511\n",
      "acc:  95.0%\n"
     ]
    }
   ],
   "source": [
    "score = model.evaluate(test_data_x_flatten, test_data_y)\n",
    "print (score)\n",
    "print ('loss:', score[0])\n",
    "print ('acc: ', str(score[1]*100) + '%')"
   ]
  },
  {
   "cell_type": "markdown",
   "metadata": {},
   "source": [
    "## Predicting the model output on new test data"
   ]
  },
  {
   "cell_type": "code",
   "execution_count": 20,
   "metadata": {},
   "outputs": [
    {
     "data": {
      "text/plain": [
       "array([[ 0.3487457 ],\n",
       "       [ 0.16409911],\n",
       "       [ 0.23236446],\n",
       "       [ 0.22522108],\n",
       "       [ 0.11545766],\n",
       "       [ 0.32560518],\n",
       "       [ 0.22461073],\n",
       "       [ 0.2777541 ],\n",
       "       [ 0.10858998],\n",
       "       [ 0.51842755],\n",
       "       [ 0.77054405],\n",
       "       [ 0.63129038],\n",
       "       [ 0.82792586],\n",
       "       [ 0.73108029],\n",
       "       [ 0.72128385],\n",
       "       [ 0.81119019],\n",
       "       [ 0.60911953],\n",
       "       [ 0.64394218],\n",
       "       [ 0.77343154],\n",
       "       [ 0.95113277]], dtype=float32)"
      ]
     },
     "execution_count": 20,
     "metadata": {},
     "output_type": "execute_result"
    }
   ],
   "source": [
    "# Predict output probability\n",
    "model.predict(test_data_x_flatten[10:30])"
   ]
  },
  {
   "cell_type": "code",
   "execution_count": 21,
   "metadata": {},
   "outputs": [
    {
     "data": {
      "text/plain": [
       "array([[0],\n",
       "       [0],\n",
       "       [0],\n",
       "       [0],\n",
       "       [0],\n",
       "       [0],\n",
       "       [0],\n",
       "       [0],\n",
       "       [0],\n",
       "       [1],\n",
       "       [1],\n",
       "       [1],\n",
       "       [1],\n",
       "       [1],\n",
       "       [1],\n",
       "       [1],\n",
       "       [1],\n",
       "       [1],\n",
       "       [1],\n",
       "       [1]])"
      ]
     },
     "execution_count": 21,
     "metadata": {},
     "output_type": "execute_result"
    }
   ],
   "source": [
    "# predict output class\n",
    "model.predict_classes(test_data_x_flatten[10:30])"
   ]
  },
  {
   "cell_type": "markdown",
   "metadata": {},
   "source": [
    "## predicting from new source"
   ]
  },
  {
   "cell_type": "code",
   "execution_count": 33,
   "metadata": {},
   "outputs": [
    {
     "name": "stdout",
     "output_type": "stream",
     "text": [
      "test_img (499, 495, 3)\n",
      "test_img_resized (32, 32, 3)\n",
      "test_img_flatten (1, 3072)\n"
     ]
    }
   ],
   "source": [
    "test_img = cv2.imread('cat.7.jpg')\n",
    "print ('test_img',test_img.shape)\n",
    "test_img = cv2.resize(test_img,(num_rows,num_cols))\n",
    "print ('test_img_resized',test_img.shape)\n",
    "test_img_flatten = test_img.reshape(1, -1)\n",
    "print ('test_img_flatten',test_img_flatten.shape)\n",
    "test_img_flatten = test_img_flatten/255"
   ]
  },
  {
   "cell_type": "code",
   "execution_count": 35,
   "metadata": {},
   "outputs": [
    {
     "data": {
      "text/plain": [
       "array([[ 0.16409905]], dtype=float32)"
      ]
     },
     "execution_count": 35,
     "metadata": {},
     "output_type": "execute_result"
    }
   ],
   "source": [
    "model.predict(test_img_flatten)"
   ]
  },
  {
   "cell_type": "markdown",
   "metadata": {},
   "source": [
    "## Saving the model and weights"
   ]
  },
  {
   "cell_type": "code",
   "execution_count": 24,
   "metadata": {},
   "outputs": [
    {
     "name": "stdout",
     "output_type": "stream",
     "text": [
      "Saved model to disk\n"
     ]
    }
   ],
   "source": [
    "# serialize model to JSON\n",
    "model_json = model.to_json()\n",
    "with open(\"logistic_reg_model_ex_3.json\", \"w\") as json_file:\n",
    "    json_file.write(model_json)\n",
    "# serialize weights to HDF5\n",
    "model.save_weights(\"logistic_reg_model_weights_ex_3.h5\")\n",
    "print(\"Saved model to disk\")"
   ]
  },
  {
   "cell_type": "markdown",
   "metadata": {
    "collapsed": true
   },
   "source": [
    "## Loading the model and weights"
   ]
  },
  {
   "cell_type": "code",
   "execution_count": 25,
   "metadata": {
    "collapsed": true
   },
   "outputs": [],
   "source": [
    "from keras.models import model_from_json\n",
    "from keras.models import load_model"
   ]
  },
  {
   "cell_type": "code",
   "execution_count": 26,
   "metadata": {},
   "outputs": [
    {
     "name": "stdout",
     "output_type": "stream",
     "text": [
      "Loaded model from disk\n"
     ]
    }
   ],
   "source": [
    "model_name = \"logistic_reg_model_ex_3.json\"\n",
    "weight_name = \"logistic_reg_model_weights_ex_3.h5\"\n",
    "\n",
    "json_file = open(model_name, 'r')\n",
    "loaded_model_json = json_file.read()\n",
    "json_file.close()\n",
    "loaded_model = model_from_json(loaded_model_json)\n",
    "# load weights into new model\n",
    "loaded_model.load_weights(weight_name)\n",
    "print(\"Loaded model from disk\")"
   ]
  },
  {
   "cell_type": "code",
   "execution_count": 27,
   "metadata": {},
   "outputs": [
    {
     "data": {
      "text/plain": [
       "array([[ 0.3487457 ],\n",
       "       [ 0.16409911],\n",
       "       [ 0.23236446],\n",
       "       [ 0.22522108],\n",
       "       [ 0.11545766],\n",
       "       [ 0.32560518],\n",
       "       [ 0.22461073],\n",
       "       [ 0.2777541 ],\n",
       "       [ 0.10858998],\n",
       "       [ 0.51842755],\n",
       "       [ 0.77054405],\n",
       "       [ 0.63129038],\n",
       "       [ 0.82792586],\n",
       "       [ 0.73108029],\n",
       "       [ 0.72128385],\n",
       "       [ 0.81119019],\n",
       "       [ 0.60911953],\n",
       "       [ 0.64394218],\n",
       "       [ 0.77343154],\n",
       "       [ 0.95113277]], dtype=float32)"
      ]
     },
     "execution_count": 27,
     "metadata": {},
     "output_type": "execute_result"
    }
   ],
   "source": [
    "# Predict output probability\n",
    "loaded_model.predict(test_data_x_flatten[10:30])"
   ]
  },
  {
   "cell_type": "code",
   "execution_count": null,
   "metadata": {
    "collapsed": true
   },
   "outputs": [],
   "source": [
    "#model.save('model.5')\n",
    "#loaded_model=load_model('model.h5')"
   ]
  }
 ],
 "metadata": {
  "kernelspec": {
   "display_name": "Python 3",
   "language": "python",
   "name": "python3"
  },
  "language_info": {
   "codemirror_mode": {
    "name": "ipython",
    "version": 3
   },
   "file_extension": ".py",
   "mimetype": "text/x-python",
   "name": "python",
   "nbconvert_exporter": "python",
   "pygments_lexer": "ipython3",
   "version": "3.6.1"
  }
 },
 "nbformat": 4,
 "nbformat_minor": 2
}
